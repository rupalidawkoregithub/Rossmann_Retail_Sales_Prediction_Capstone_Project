{
  "nbformat": 4,
  "nbformat_minor": 0,
  "metadata": {
    "colab": {
      "private_outputs": true,
      "provenance": [],
      "collapsed_sections": [
        "vncDsAP0Gaoa",
        "FJNUwmbgGyua",
        "w6K7xa23Elo4",
        "yQaldy8SH6Dl",
        "mDgbUHAGgjLW",
        "O_i_v8NEhb9l",
        "HhfV-JJviCcP",
        "Y3lxredqlCYt",
        "3RnN4peoiCZX",
        "x71ZqKXriCWQ",
        "7hBIi_osiCS2",
        "JlHwYmJAmNHm",
        "35m5QtbWiB9F",
        "PoPl-ycgm1ru",
        "H0kj-8xxnORC",
        "nA9Y7ga8ng1Z",
        "PBTbrJXOngz2",
        "u3PMJOP6ngxN",
        "dauF4eBmngu3",
        "bKJF3rekwFvQ",
        "MSa1f5Uengrz",
        "GF8Ens_Soomf",
        "0wOQAZs5pc--",
        "K5QZ13OEpz2H",
        "lQ7QKXXCp7Bj",
        "448CDAPjqfQr",
        "KSlN3yHqYklG",
        "t6dVpIINYklI",
        "ijmpgYnKYklI",
        "-JiQyfWJYklI",
        "EM7whBJCYoAo",
        "fge-S5ZAYoAp",
        "85gYPyotYoAp",
        "RoGjAbkUYoAp",
        "4Of9eVA-YrdM",
        "iky9q4vBYrdO",
        "F6T5p64dYrdO",
        "y-Ehk30pYrdP",
        "bamQiAODYuh1",
        "QHF8YVU7Yuh3",
        "GwzvFGzlYuh3",
        "qYpmQ266Yuh3",
        "OH-pJp9IphqM",
        "bbFf2-_FphqN",
        "_ouA3fa0phqN",
        "Seke61FWphqN",
        "PIIx-8_IphqN",
        "t27r6nlMphqO",
        "r2jJGEOYphqO",
        "b0JNsNcRphqO",
        "BZR9WyysphqO",
        "jj7wYXLtphqO",
        "eZrbJ2SmphqO",
        "rFu4xreNphqO",
        "YJ55k-q6phqO",
        "gCFgpxoyphqP",
        "OVtJsKN_phqQ",
        "lssrdh5qphqQ",
        "U2RJ9gkRphqQ",
        "1M8mcRywphqQ",
        "tgIPom80phqQ",
        "JMzcOPDDphqR",
        "x-EpHcCOp1ci",
        "X_VqEhTip1ck",
        "8zGJKyg5p1ck",
        "PVzmfK_Ep1ck",
        "n3dbpmDWp1ck",
        "ylSl6qgtp1ck",
        "ZWILFDl5p1ck",
        "M7G43BXep1ck",
        "Ag9LCva-p1cl",
        "E6MkPsBcp1cl",
        "2cELzS2fp1cl",
        "3MPXvC8up1cl",
        "NC_X3p0fY2L0",
        "UV0SzAkaZNRQ",
        "YPEH6qLeZNRQ",
        "q29F0dvdveiT",
        "EXh0U9oCveiU",
        "22aHeOlLveiV",
        "g-ATYxFrGrvw",
        "Yfr_Vlr8HBkt",
        "8yEUt7NnHlrM",
        "tEA2Xm5dHt1r",
        "I79__PHVH19G",
        "Ou-I18pAyIpj",
        "fF3858GYyt-u",
        "4_0_7-oCpUZd",
        "hwyV_J3ipUZe",
        "3yB-zSqbpUZe",
        "dEUvejAfpUZe",
        "Fd15vwWVpUZf",
        "bn_IUdTipZyH",
        "49K5P_iCpZyH",
        "Nff-vKELpZyI",
        "kLW572S8pZyI",
        "dWbDXHzopZyI",
        "yLjJCtPM0KBk",
        "xiyOF9F70UgQ",
        "7wuGOrhz0itI",
        "id1riN9m0vUs",
        "578E2V7j08f6",
        "89xtkJwZ18nB",
        "67NQN5KX2AMe",
        "Iwf50b-R2tYG",
        "GMQiZwjn3iu7",
        "WVIkgGqN3qsr",
        "XkPnILGE3zoT",
        "Hlsf0x5436Go",
        "mT9DMSJo4nBL",
        "c49ITxTc407N",
        "OeJFEK0N496M",
        "9ExmJH0g5HBk",
        "cJNqERVU536h",
        "k5UmGsbsOxih",
        "T0VqWOYE6DLQ",
        "qBMux9mC6MCf",
        "-oLEiFgy-5Pf",
        "C74aWNz2AliB",
        "2DejudWSA-a0",
        "pEMng2IbBLp7",
        "rAdphbQ9Bhjc",
        "TNVZ9zx19K6k",
        "nqoHp30x9hH9",
        "rMDnDkt2B6du",
        "yiiVWRdJDDil",
        "1UUpS68QDMuG",
        "kexQrXU-DjzY",
        "T5CmagL3EC8N",
        "BhH2vgX9EjGr",
        "qjKvONjwE8ra",
        "P1XJ9OREExlT",
        "VFOzZv6IFROw",
        "TIqpNgepFxVj",
        "VfCC591jGiD4",
        "OB4l2ZhMeS1U",
        "ArJBuiUVfxKd",
        "4qY1EAkEfxKe",
        "PiV4Ypx8fxKe",
        "TfvqoZmBfxKf",
        "dJ2tPlVmpsJ0",
        "JWYfwnehpsJ1",
        "-jK_YjpMpsJ2",
        "HAih1iBOpsJ2",
        "zVGeBEFhpsJ2",
        "bmKjuQ-FpsJ3",
        "Fze-IPXLpx6K",
        "7AN1z2sKpx6M",
        "9PIHJqyupx6M",
        "_-qAgymDpx6N",
        "Z-hykwinpx6N",
        "h_CCil-SKHpo",
        "cBFFvTBNJzUa",
        "HvGl1hHyA_VK",
        "EyNgTHvd2WFk",
        "KH5McJBi2d8v",
        "iW_Lq9qf2h6X",
        "-Kee-DAl2viO",
        "gCX9965dhzqZ",
        "gIfDvo9L0UH2"
      ],
      "include_colab_link": true
    },
    "kernelspec": {
      "name": "python3",
      "display_name": "Python 3"
    },
    "language_info": {
      "name": "python"
    },
    "gpuClass": "standard"
  },
  "cells": [
    {
      "cell_type": "markdown",
      "metadata": {
        "id": "view-in-github",
        "colab_type": "text"
      },
      "source": [
        "<a href=\"https://colab.research.google.com/github/rupalidawkoregithub/Rossmann_Retail_Sales_Prediction_Capstone_Project/blob/main/Individual_Retail_Sales_Prediction.ipynb\" target=\"_parent\"><img src=\"https://colab.research.google.com/assets/colab-badge.svg\" alt=\"Open In Colab\"/></a>"
      ]
    },
    {
      "cell_type": "markdown",
      "source": [
        "# **Project Name**    - **Retail Sales Prediction**\n",
        "\n"
      ],
      "metadata": {
        "id": "vncDsAP0Gaoa"
      }
    },
    {
      "cell_type": "markdown",
      "source": [
        "##### **Project Type**     -    Regression\n",
        "##### **Contribution**     -    Individual\n",
        "##### **Name**             -    Rupali Dawkore\n"
      ],
      "metadata": {
        "id": "beRrZCGUAJYm"
      }
    },
    {
      "cell_type": "markdown",
      "source": [
        "# **Project Summary -**"
      ],
      "metadata": {
        "id": "FJNUwmbgGyua"
      }
    },
    {
      "cell_type": "markdown",
      "source": [
        "The main objective of this project was to build a predictive model to forecast the daily sales for 1115 Rossmann stores in Germany using historical sales data for 6 weeks in advance. The data provided consisted of 2 datasets, one with store information, sales, customers, and other details, and the other with store type, competition distance, and promotion information. The evaluation criteria was based on the Root Mean Square Percentage Error (RMSPE).\n",
        "\n",
        "The first step was to clean and preprocess the data, replacing null values and merging the two datasets. Exploratory Data Analysis (EDA) was then performed to understand the variables and their relationships. Feature engineering was also done, where competition and promotion columns were combined and unnecessary columns were dropped. One-hot encoding was applied to categorical columns and distribution of the data was checked.\n",
        "\n",
        "Various machine learning algorithms were then experimented with, including Linear Regression, Decision Tree, and Random Forest Regressor. Hyperparameter tuning was performed and the performance of each model was evaluated using a variety of metrics such as RMSPE and R2 score. The best performer was found to be the Random Forest Regressor, with the lowest RMSPE and highest R2 score."
      ],
      "metadata": {
        "id": "F6v_1wHtG2nS"
      }
    },
    {
      "cell_type": "markdown",
      "source": [
        "# **GitHub Link -**"
      ],
      "metadata": {
        "id": "w6K7xa23Elo4"
      }
    },
    {
      "cell_type": "markdown",
      "source": [
        "###**Rupali Dawkore**\n",
        "\n",
        "https://github.com/rupalidawkoregithub/Rossmann_Retail_Sales_Prediction_Capstone_Project/tree/main"
      ],
      "metadata": {
        "id": "h1o69JH3Eqqn"
      }
    },
    {
      "cell_type": "markdown",
      "source": [
        "# **Problem Statement**\n"
      ],
      "metadata": {
        "id": "yQaldy8SH6Dl"
      }
    },
    {
      "cell_type": "markdown",
      "source": [
        "Rossmann operates over 3,000 drug stores in 7 European countries. Currently, Rossmann store managers are tasked with predicting their daily sales for up to six weeks in advance. Store sales are influenced by many factors, including promotions, competition, school and state holidays, seasonality, and locality. With thousands of individual managers predicting sales based on their unique circumstances, the accuracy of results can be quite varied.\n",
        "You are provided with historical sales data for 1,115 Rossmann stores. The task is to forecast the \"Sales\" column for the test set. Note that some stores in the dataset were temporarily closed for refurbishment."
      ],
      "metadata": {
        "id": "DpeJGUA3kjGy"
      }
    },
    {
      "cell_type": "markdown",
      "source": [
        "# **General Guidelines** : -  "
      ],
      "metadata": {
        "id": "mDgbUHAGgjLW"
      }
    },
    {
      "cell_type": "markdown",
      "source": [
        "1.   Well-structured, formatted, and commented code is required. \n",
        "2.   Exception Handling, Production Grade Code & Deployment Ready Code will be a plus. Those students will be awarded some additional credits. \n",
        "     \n",
        "     The additional credits will have advantages over other students during Star Student selection.\n",
        "       \n",
        "             [ Note: - Deployment Ready Code is defined as, the whole .ipynb notebook should be executable in one go\n",
        "                       without a single error logged. ]\n",
        "\n",
        "3.   Each and every logic should have proper comments.\n",
        "4. You may add as many number of charts you want. Make Sure for each and every chart the following format should be answered.\n",
        "        \n",
        "\n",
        "```\n",
        "# Chart visualization code\n",
        "```\n",
        "            \n",
        "\n",
        "*   Why did you pick the specific chart?\n",
        "*   What is/are the insight(s) found from the chart?\n",
        "* Will the gained insights help creating a positive business impact? \n",
        "Are there any insights that lead to negative growth? Justify with specific reason.\n",
        "\n",
        "5. You have to create at least 15 logical & meaningful charts having important insights.\n",
        "\n",
        "\n",
        "[ Hints : - Do the Vizualization in  a structured way while following \"UBM\" Rule. \n",
        "\n",
        "U - Univariate Analysis,\n",
        "\n",
        "B - Bivariate Analysis (Numerical - Categorical, Numerical - Numerical, Categorical - Categorical)\n",
        "\n",
        "M - Multivariate Analysis\n",
        " ]\n",
        "\n",
        "\n",
        "\n",
        "\n",
        "\n",
        "6. You may add more ml algorithms for model creation. Make sure for each and every algorithm, the following format should be answered.\n",
        "\n",
        "\n",
        "*   Explain the ML Model used and it's performance using Evaluation metric Score Chart.\n",
        "\n",
        "\n",
        "*   Cross- Validation & Hyperparameter Tuning\n",
        "\n",
        "*   Have you seen any improvement? Note down the improvement with updates Evaluation metric Score Chart.\n",
        "\n",
        "*   Explain each evaluation metric's indication towards business and the business impact pf the ML model used.\n",
        "\n",
        "\n",
        "\n",
        "\n",
        "\n",
        "\n",
        "\n",
        "\n",
        "\n",
        "\n",
        "\n",
        "\n",
        "\n",
        "\n",
        "\n",
        "\n",
        "\n",
        "\n"
      ],
      "metadata": {
        "id": "ZrxVaUj-hHfC"
      }
    },
    {
      "cell_type": "markdown",
      "source": [
        "# ***Let's Begin !***"
      ],
      "metadata": {
        "id": "O_i_v8NEhb9l"
      }
    },
    {
      "cell_type": "markdown",
      "source": [
        "## ***1. Know Your Data***"
      ],
      "metadata": {
        "id": "HhfV-JJviCcP"
      }
    },
    {
      "cell_type": "markdown",
      "source": [
        "### Import Libraries"
      ],
      "metadata": {
        "id": "Y3lxredqlCYt"
      }
    },
    {
      "cell_type": "code",
      "source": [
        "# Import Libraries\n",
        "import pandas as pd\n",
        "import numpy as np\n",
        "import matplotlib as mpl\n",
        "import matplotlib.pyplot as plt\n",
        "%matplotlib inline\n",
        "import seaborn as sns\n",
        "plt.rcParams.update({'figure.figsize':(8,5),'figure.dpi':100})\n",
        "from datetime import datetime\n",
        "import warnings    \n",
        "warnings.filterwarnings('ignore')\n",
        "# import sklearn libraries\n",
        "from sklearn.model_selection import train_test_split\n",
        "from sklearn.linear_model import LinearRegression\n",
        "from sklearn.metrics import mean_squared_error\n",
        "from sklearn.tree import DecisionTreeRegressor\n",
        "from sklearn.ensemble import RandomForestRegressor\n",
        "from sklearn.metrics import mean_squared_error\n",
        "from sklearn.metrics import r2_score"
      ],
      "metadata": {
        "id": "M8Vqi-pPk-HR"
      },
      "execution_count": null,
      "outputs": []
    },
    {
      "cell_type": "markdown",
      "source": [
        "###Mount the Drive and Import the Dataset"
      ],
      "metadata": {
        "id": "9GS-Bgy0v0OQ"
      }
    },
    {
      "cell_type": "code",
      "source": [
        "# Mount the Google Drive for Import the Dataset\n",
        "from google.colab import drive\n",
        "drive.mount('/content/drive')"
      ],
      "metadata": {
        "id": "YBeTLFxSwIp2"
      },
      "execution_count": null,
      "outputs": []
    },
    {
      "cell_type": "markdown",
      "source": [
        "### Dataset Loading"
      ],
      "metadata": {
        "id": "3RnN4peoiCZX"
      }
    },
    {
      "cell_type": "code",
      "source": [
        "# Load Dataset\n",
        "df1 = pd.read_csv('/content/drive/MyDrive/ML Regression Capstone/Rossmann Stores Data.csv')\n",
        "df2 = pd.read_csv('/content/drive/MyDrive/ML Regression Capstone/store.csv')"
      ],
      "metadata": {
        "id": "4CkvbW_SlZ_R"
      },
      "execution_count": null,
      "outputs": []
    },
    {
      "cell_type": "markdown",
      "source": [
        "**Merge the Rossmann_df and Store_df csv by column 'Store' as in both csv Store column is common.**"
      ],
      "metadata": {
        "id": "Zjy2rlC03USX"
      }
    },
    {
      "cell_type": "code",
      "source": [
        "df = pd.merge(df1,df2, on='Store', how='left')"
      ],
      "metadata": {
        "id": "ndesU-IS3CEw"
      },
      "execution_count": null,
      "outputs": []
    },
    {
      "cell_type": "markdown",
      "source": [
        "### Dataset First View"
      ],
      "metadata": {
        "id": "x71ZqKXriCWQ"
      }
    },
    {
      "cell_type": "code",
      "source": [
        "# Dataset First Look \n",
        "df.head()"
      ],
      "metadata": {
        "id": "LWNFOSvLl09H"
      },
      "execution_count": null,
      "outputs": []
    },
    {
      "cell_type": "code",
      "source": [
        "df.tail()\n"
      ],
      "metadata": {
        "id": "ZGVXaCF3EHhm"
      },
      "execution_count": null,
      "outputs": []
    },
    {
      "cell_type": "markdown",
      "source": [
        "### Dataset Rows & Columns count"
      ],
      "metadata": {
        "id": "7hBIi_osiCS2"
      }
    },
    {
      "cell_type": "code",
      "source": [
        "# Dataset Rows & Columns count\n",
        "df.shape"
      ],
      "metadata": {
        "id": "Kllu7SJgmLij"
      },
      "execution_count": null,
      "outputs": []
    },
    {
      "cell_type": "markdown",
      "source": [
        "### Dataset Information"
      ],
      "metadata": {
        "id": "JlHwYmJAmNHm"
      }
    },
    {
      "cell_type": "code",
      "source": [
        "# Dataset Info\n",
        "df.info()"
      ],
      "metadata": {
        "id": "e9hRXRi6meOf"
      },
      "execution_count": null,
      "outputs": []
    },
    {
      "cell_type": "code",
      "source": [
        "df.describe()"
      ],
      "metadata": {
        "id": "-0Ufy7skElsB"
      },
      "execution_count": null,
      "outputs": []
    },
    {
      "cell_type": "markdown",
      "source": [
        "#### Duplicate Values"
      ],
      "metadata": {
        "id": "35m5QtbWiB9F"
      }
    },
    {
      "cell_type": "markdown",
      "source": [
        "\"Duplication\" just means that you have repeated data in your dataset. This could be due to things like data entry errors or data collection methods. "
      ],
      "metadata": {
        "id": "xtRD-FREMB6v"
      }
    },
    {
      "cell_type": "code",
      "source": [
        "# Dataset Duplicate Value Count\n",
        "len(df[df.duplicated()])"
      ],
      "metadata": {
        "id": "1sLdpKYkmox0"
      },
      "execution_count": null,
      "outputs": []
    },
    {
      "cell_type": "markdown",
      "source": [
        "There is no duplicates values in **Rossmann Store Dataset**."
      ],
      "metadata": {
        "id": "jifVILaNbNOb"
      }
    },
    {
      "cell_type": "markdown",
      "source": [
        "#### Missing Values/Null Values"
      ],
      "metadata": {
        "id": "PoPl-ycgm1ru"
      }
    },
    {
      "cell_type": "code",
      "source": [
        "# Missing Values/Null Values Count\n",
        "print(df.isnull().sum())"
      ],
      "metadata": {
        "id": "GgHWkxvamxVg"
      },
      "execution_count": null,
      "outputs": []
    },
    {
      "cell_type": "markdown",
      "source": [
        "In Rossmann store data out of **1017209 entries** there are missing values for the columns:\n",
        "\n",
        "**CompetitionDistance**- distance in meters to the nearest competitor store, the distribution plot would give us an idea about the distances at which generally the stores are opened and we would impute the values accordingly.\n",
        "\n",
        "**CompetitionOpenSinceMonth**- gives the approximate month of the time the nearest competitor was opened, mode of the column would tell us the most occuring month.\n",
        "\n",
        "**CompetitionOpenSinceYear**- gives the approximate year of the time the nearest competitor was opened, mode of the column would tell us the most occuring month.\n",
        "\n",
        "**Promo2SinceWeek, Promo2SinceYear and PromoInterval** are NaN wherever Promo2 is 0 or False as can be seen in the first look of the dataset. They can be replaced with 0."
      ],
      "metadata": {
        "id": "hgm_JhjZXjJq"
      }
    },
    {
      "cell_type": "code",
      "source": [
        "# Visualizing the missing values\n",
        "# Checking Null Value by plotting Heatmap for Rossmann dataset\n",
        "sns.heatmap(df.isnull(), cbar=False)"
      ],
      "metadata": {
        "id": "3q5wnI3om9sJ"
      },
      "execution_count": null,
      "outputs": []
    },
    {
      "cell_type": "markdown",
      "source": [
        "## ***2. Understanding Your Variables***"
      ],
      "metadata": {
        "id": "nA9Y7ga8ng1Z"
      }
    },
    {
      "cell_type": "code",
      "source": [
        "# Dataset Columns\n",
        "df.columns"
      ],
      "metadata": {
        "id": "j7xfkqrt5Ag5"
      },
      "execution_count": null,
      "outputs": []
    },
    {
      "cell_type": "code",
      "source": [
        "# Dataset Describe\n",
        "df.describe(include='all')"
      ],
      "metadata": {
        "id": "DnOaZdaE5Q5t"
      },
      "execution_count": null,
      "outputs": []
    },
    {
      "cell_type": "code",
      "source": [
        "df['DayOfWeek'].value_counts()"
      ],
      "metadata": {
        "id": "5I7iSIjHN07C"
      },
      "execution_count": null,
      "outputs": []
    },
    {
      "cell_type": "code",
      "source": [
        "df['Open'].value_counts()"
      ],
      "metadata": {
        "id": "rw0Macixqwhl"
      },
      "execution_count": null,
      "outputs": []
    },
    {
      "cell_type": "code",
      "source": [
        "df['Promo'].value_counts()"
      ],
      "metadata": {
        "id": "l0zCKoC5OAD8"
      },
      "execution_count": null,
      "outputs": []
    },
    {
      "cell_type": "code",
      "source": [
        "df['StateHoliday'].value_counts()"
      ],
      "metadata": {
        "id": "0MqVED66rJHk"
      },
      "execution_count": null,
      "outputs": []
    },
    {
      "cell_type": "code",
      "source": [
        "df['SchoolHoliday'].value_counts()"
      ],
      "metadata": {
        "id": "-1JMp9QJOX78"
      },
      "execution_count": null,
      "outputs": []
    },
    {
      "cell_type": "code",
      "source": [
        "df['StoreType'].value_counts()"
      ],
      "metadata": {
        "id": "JS_M8uwoOrwK"
      },
      "execution_count": null,
      "outputs": []
    },
    {
      "cell_type": "code",
      "source": [
        "df['Assortment'].value_counts()"
      ],
      "metadata": {
        "id": "oD7EAJxtNpmc"
      },
      "execution_count": null,
      "outputs": []
    },
    {
      "cell_type": "code",
      "source": [
        "df['CompetitionOpenSinceMonth'].value_counts()"
      ],
      "metadata": {
        "id": "iuSwCn0UO4zS"
      },
      "execution_count": null,
      "outputs": []
    },
    {
      "cell_type": "code",
      "source": [
        "df['CompetitionOpenSinceYear'].value_counts()"
      ],
      "metadata": {
        "id": "PQri2hG6PLRC"
      },
      "execution_count": null,
      "outputs": []
    },
    {
      "cell_type": "code",
      "source": [
        "df['Promo2'].value_counts()"
      ],
      "metadata": {
        "id": "58qlshV2PrEA"
      },
      "execution_count": null,
      "outputs": []
    },
    {
      "cell_type": "markdown",
      "source": [
        "### Variables Description "
      ],
      "metadata": {
        "id": "PBTbrJXOngz2"
      }
    },
    {
      "cell_type": "markdown",
      "source": [
        "**Rossmann Stores Data.csv** - historical data including Sales.\n",
        "\n",
        "**store.csv** - supplemental information about the stores.\n"
      ],
      "metadata": {
        "id": "aJV4KIxSnxay"
      }
    },
    {
      "cell_type": "markdown",
      "source": [
        "###Data fields"
      ],
      "metadata": {
        "id": "T7H6IRgLEBFm"
      }
    },
    {
      "cell_type": "markdown",
      "source": [
        "  \n",
        "**1. Id** - an Id that represents a (Store, Date) duple within the set\n",
        "\n",
        "**2. Store**- a unique Id for each store\n",
        "\n",
        "**3. Sales** - the turnover for any given day (Dependent Variable)\n",
        "\n",
        "**4. Customers** - the number of customers on a given day\n",
        "\n",
        "**5. Open** - an indicator for whether the store was open: 0 = closed, 1 = open\n",
        "\n",
        "**6. StateHoliday** - indicates a state holiday. Normally all stores, with few exceptions, are closed on state holidays. Note that all schools are closed on public holidays and weekends. a = public holiday, b = Easter holiday, c = Christmas, 0 = None\n",
        "\n",
        "**7. SchoolHoliday** - indicates if the (Store, Date) was affected by the closure of public schools\n",
        "\n",
        "**8. StoreType** - differentiates between 4 different store models: a, b, c, d\n",
        "\n",
        "**9. Assortment** - describes an assortment level: a = basic, b = extra, c = extended. An assortment strategy in retailing involves the number and type of products that stores display for purchase by consumers.\n",
        "\n",
        "**10. CompetitionDistance** - distance in meters to the nearest competitor store\n",
        "\n",
        "**11. CompetitionOpenSince[Month/Year]** - gives the approximate year and month of the time the nearest competitor was opened\n",
        "\n",
        "**12. Promo** - indicates whether a store is running a promo on that day\n",
        "\n",
        "**13. Promo2** - Promo2 is a continuing and consecutive promotion for some stores: 0 = store is not participating, 1 = store is participating\n",
        "\n",
        "**14. Promo2Since[Year/Week]** - describes the year and calendar week when the store started participating in Promo2\n",
        "\n",
        "**15. PromoInterval** - describes the consecutive intervals Promo2 is started, naming the months the promotion is started anew. E.g. \"Feb,May,Aug,Nov\" means each round starts in February, May, August, November of any given year for that store\n",
        "\n"
      ],
      "metadata": {
        "id": "_2G5qOt2dYrx"
      }
    },
    {
      "cell_type": "markdown",
      "source": [
        "### Check Unique Values for each variable."
      ],
      "metadata": {
        "id": "u3PMJOP6ngxN"
      }
    },
    {
      "cell_type": "code",
      "source": [
        "#check unique value in Rossman dataset\n",
        "count=df[['Store','DayOfWeek','Date','Sales','Customers','Open','Promo','StateHoliday','SchoolHoliday','StoreType','Assortment','CompetitionDistance','CompetitionOpenSinceMonth','CompetitionOpenSinceYear','Promo2','Promo2SinceWeek','Promo2SinceYear','PromoInterval']].nunique()\n",
        "print(\"Unique value count:\\n\",count)"
      ],
      "metadata": {
        "id": "zms12Yq5n-jE"
      },
      "execution_count": null,
      "outputs": []
    },
    {
      "cell_type": "code",
      "source": [
        "df.info()"
      ],
      "metadata": {
        "id": "AdASdDlcx8Od"
      },
      "execution_count": null,
      "outputs": []
    },
    {
      "cell_type": "markdown",
      "source": [
        "Checking unique value count for each columns."
      ],
      "metadata": {
        "id": "LAqDdxLDN8TH"
      }
    },
    {
      "cell_type": "markdown",
      "source": [
        "## 3. ***Data Wrangling***"
      ],
      "metadata": {
        "id": "dauF4eBmngu3"
      }
    },
    {
      "cell_type": "markdown",
      "source": [
        "### Data Wrangling Code"
      ],
      "metadata": {
        "id": "bKJF3rekwFvQ"
      }
    },
    {
      "cell_type": "code",
      "source": [
        "# Write your code to make your dataset analysis ready."
      ],
      "metadata": {
        "id": "wk-9a2fpoLcV"
      },
      "execution_count": null,
      "outputs": []
    },
    {
      "cell_type": "code",
      "source": [
        "# Distribution plot of competition distance\n",
        "plt.figure(figsize=(7,4))\n",
        "sns.distplot(df['CompetitionDistance'],color='blue')\n",
        "plt.legend(['CompetitionDistance'])\n",
        "#plt.xlabel('Competition Distance Distribution Plot')\n",
        "plt.show()"
      ],
      "metadata": {
        "id": "hzO94vHpFCub"
      },
      "execution_count": null,
      "outputs": []
    },
    {
      "cell_type": "markdown",
      "source": [
        "It seems like most of the values of the CompetitionDistance are towards the left and the distribution is skewed on the right. Median is more robust to outlier effect."
      ],
      "metadata": {
        "id": "tcWJu4ICFNz2"
      }
    },
    {
      "cell_type": "code",
      "source": [
        "# Calculate mean value\n",
        "Mean_value = df['CompetitionDistance'].mean()\n",
        "Mean_value"
      ],
      "metadata": {
        "id": "F8Yf7-OHFX85"
      },
      "execution_count": null,
      "outputs": []
    },
    {
      "cell_type": "code",
      "source": [
        "# Calculate median value\n",
        "Median_value =  df['CompetitionDistance'].median()\n",
        "Median_value"
      ],
      "metadata": {
        "id": "1HvIn40PFjLR"
      },
      "execution_count": null,
      "outputs": []
    },
    {
      "cell_type": "code",
      "source": [
        "# Calculate mode value\n",
        "Mode_value =  df['CompetitionDistance'].mode()\n",
        "Mode_value"
      ],
      "metadata": {
        "id": "A15eInVXFql0"
      },
      "execution_count": null,
      "outputs": []
    },
    {
      "cell_type": "code",
      "source": [
        "# Filling competition distance with the median value\n",
        "df['CompetitionDistance'].fillna(Median_value, inplace = True)"
      ],
      "metadata": {
        "id": "QYlO6n2AF8wQ"
      },
      "execution_count": null,
      "outputs": []
    },
    {
      "cell_type": "code",
      "source": [
        "# Checking that null values replace or not\n",
        "df['CompetitionDistance'].isnull().value_counts()"
      ],
      "metadata": {
        "id": "DgH1ZDFJGEqq"
      },
      "execution_count": null,
      "outputs": []
    },
    {
      "cell_type": "code",
      "source": [
        "# Distribution plot of Competition Open Since Month\n",
        "plt.figure(figsize=(7,7))\n",
        "sns.distplot(df['CompetitionOpenSinceMonth'],color='green')\n",
        "plt.legend(['CompetitionOpenSinceMonth'])\n",
        "plt.xlabel('Competition Distance Distribution Plot')\n",
        "plt.show()"
      ],
      "metadata": {
        "id": "tIG_4UFdGS9q"
      },
      "execution_count": null,
      "outputs": []
    },
    {
      "cell_type": "markdown",
      "source": [
        "From the above plot we can say that the values of the CompetitionOpenSinceMonth is left skewed. Mode is more robust to outlier effect."
      ],
      "metadata": {
        "id": "MlyZ6PBPGdho"
      }
    },
    {
      "cell_type": "code",
      "source": [
        "# Filling competition distance with the median value\n",
        "df['CompetitionOpenSinceMonth'].fillna(Mode_value[0], inplace = True)\n",
        "# Checking that null values replace or not\n",
        "df['CompetitionOpenSinceMonth'].isnull().value_counts()"
      ],
      "metadata": {
        "id": "vSint4h1GwuQ"
      },
      "execution_count": null,
      "outputs": []
    },
    {
      "cell_type": "code",
      "source": [
        "# Distribution plot of Competition Open Since Year\n",
        "plt.figure(figsize=(7,4))\n",
        "sns.distplot(df['CompetitionOpenSinceYear'],color='orange')\n",
        "plt.legend(['CompetitionOpenSinceYear'])\n",
        "plt.xlabel('Competition Distance Distribution Plot')\n",
        "plt.show()"
      ],
      "metadata": {
        "id": "5qs04PnbG6uv"
      },
      "execution_count": null,
      "outputs": []
    },
    {
      "cell_type": "markdown",
      "source": [
        "From the above plot we can say that the values of the CompetitionOpenSinceYear is left skewed. Mode is more robust to outlier effect."
      ],
      "metadata": {
        "id": "icpRqzLUHPP9"
      }
    },
    {
      "cell_type": "code",
      "source": [
        "# Calculate mean value\n",
        "Mean_value = df['CompetitionOpenSinceYear'].mean()\n",
        "print(\"Mean Value =\",Mean_value)\n",
        "# Calculate mean value\n",
        "Median_value = df['CompetitionOpenSinceYear'].median()\n",
        "print(\"Median Value =\",Median_value)\n",
        "# Calculate mean value\n",
        "Mode_value = df['CompetitionOpenSinceYear'].mode()\n",
        "print(\"Mode Value =\",Mode_value)"
      ],
      "metadata": {
        "id": "j-KFVW0SHdrD"
      },
      "execution_count": null,
      "outputs": []
    },
    {
      "cell_type": "code",
      "source": [
        "# Filling competition distance with the median value\n",
        "df['CompetitionOpenSinceYear'].fillna(Mode_value[0], inplace = True)\n",
        "# Checking that null values replace or not\n",
        "df['CompetitionOpenSinceYear'].isnull().value_counts()"
      ],
      "metadata": {
        "id": "wsxZ_sbNIHCF"
      },
      "execution_count": null,
      "outputs": []
    },
    {
      "cell_type": "code",
      "execution_count": null,
      "metadata": {
        "id": "IfPAtprJSbIG"
      },
      "outputs": [],
      "source": [
        "## Replacing the Null values with suitable value\n",
        "df[['Promo2SinceWeek','Promo2SinceYear']]=df[['Promo2SinceWeek','Promo2SinceYear']].replace(np.nan,0)"
      ]
    },
    {
      "cell_type": "code",
      "source": [
        "df['PromoInterval']=df['PromoInterval'].replace(np.nan,\"0\")"
      ],
      "metadata": {
        "id": "nknnGPFp5dSD"
      },
      "execution_count": null,
      "outputs": []
    },
    {
      "cell_type": "code",
      "source": [
        "df.info()"
      ],
      "metadata": {
        "id": "9zYSBHymJOOj"
      },
      "execution_count": null,
      "outputs": []
    },
    {
      "cell_type": "code",
      "source": [
        "df.isnull().sum()"
      ],
      "metadata": {
        "id": "_rY-zqrKJXqz"
      },
      "execution_count": null,
      "outputs": []
    },
    {
      "cell_type": "code",
      "source": [
        "df.shape"
      ],
      "metadata": {
        "id": "QiJfLzP7aQjd"
      },
      "execution_count": null,
      "outputs": []
    },
    {
      "cell_type": "markdown",
      "source": [
        "**Checking Categorical columns** "
      ],
      "metadata": {
        "id": "BUhBbMLQCl2j"
      }
    },
    {
      "cell_type": "code",
      "source": [
        "from pandas.core.indexes.datetimelike import final\n",
        "categorical_variable = df.select_dtypes(object)\n",
        "categorical_variable"
      ],
      "metadata": {
        "id": "192T1vGgFJyx"
      },
      "execution_count": null,
      "outputs": []
    },
    {
      "cell_type": "markdown",
      "source": [
        "# Changing different dtypes to int type."
      ],
      "metadata": {
        "id": "coZNj2b6c0Vv"
      }
    },
    {
      "cell_type": "code",
      "source": [
        "#change into int type\n",
        "df['StateHoliday'].replace({'0':0}, inplace=True)"
      ],
      "metadata": {
        "id": "ZMJp1Q3_FsRf"
      },
      "execution_count": null,
      "outputs": []
    },
    {
      "cell_type": "code",
      "source": [
        "# code for changing format of date from object to datetime\n",
        "df['Date'] = pd.to_datetime(df['Date'], format= '%Y-%m-%d')"
      ],
      "metadata": {
        "id": "SETyg_uZX-H2"
      },
      "execution_count": null,
      "outputs": []
    },
    {
      "cell_type": "code",
      "source": [
        "print(df['Date'].min(),'Starting Date')\n",
        "print(df['Date'].max(),'Ending Date')"
      ],
      "metadata": {
        "id": "G1JcL9gKexEj"
      },
      "execution_count": null,
      "outputs": []
    },
    {
      "cell_type": "code",
      "source": [
        "#creating features from the date\n",
        "df['Year'] = df['Date'].dt.year\n",
        "df['Month'] = df['Date'].dt.month\n",
        "df['WeekOfYear'] = df['Date'].dt.weekofyear\n",
        "df['DayOfYear'] = df['Date'].dt.dayofyear\n",
        "years = df['Year'].unique()"
      ],
      "metadata": {
        "id": "vKUjhrGwsDbd"
      },
      "execution_count": null,
      "outputs": []
    },
    {
      "cell_type": "code",
      "source": [
        "years"
      ],
      "metadata": {
        "id": "nLo-6QVMGDwJ"
      },
      "execution_count": null,
      "outputs": []
    },
    {
      "cell_type": "markdown",
      "source": [
        "***This tells us we have a data of almost 3 years.***"
      ],
      "metadata": {
        "id": "0yobgDX4e57o"
      }
    },
    {
      "cell_type": "code",
      "source": [
        "#sales over the years\n",
        "sales_df_2013 = df[df['Year']== 2013]\n",
        "sales_df_2014 = df[df['Year']==2014]\n",
        "sales_df_2015 = df[df['Year']== 2015]"
      ],
      "metadata": {
        "id": "Hhsnm-BvGNaK"
      },
      "execution_count": null,
      "outputs": []
    },
    {
      "cell_type": "code",
      "source": [
        "sales_df_2014"
      ],
      "metadata": {
        "id": "L2txo3LmHT2C"
      },
      "execution_count": null,
      "outputs": []
    },
    {
      "cell_type": "code",
      "source": [
        "#monthly sales\n",
        "sales_2013 = sales_df_2013.groupby('Month')['Sales'].sum().reset_index()\n",
        "sales_2014 = sales_df_2014.groupby('Month')['Sales'].sum().reset_index()\n",
        "sales_2015 = sales_df_2015.groupby('Month')['Sales'].sum().reset_index()"
      ],
      "metadata": {
        "id": "s_di_-NsGQXD"
      },
      "execution_count": null,
      "outputs": []
    },
    {
      "cell_type": "code",
      "source": [
        "sales_2013"
      ],
      "metadata": {
        "id": "b4PJwYg8HPPc"
      },
      "execution_count": null,
      "outputs": []
    },
    {
      "cell_type": "code",
      "source": [
        "#we need only meaningful numeric columns here, let's drop the unnecessary to get a clear picture\n",
        "columns_to_drop = ['Store', 'Year', 'WeekOfYear', 'DayOfYear']\n",
        "corr_df = df.drop(columns = columns_to_drop, axis =1)\n",
        "corr_df['StateHoliday'].replace({'a':1, 'b':1,'c':1}, inplace=True)"
      ],
      "metadata": {
        "id": "krw-drFIHjA-"
      },
      "execution_count": null,
      "outputs": []
    },
    {
      "cell_type": "code",
      "source": [
        "#correlation heatmap\n",
        "plt.figure(figsize=(16,10))\n",
        "sns.heatmap(corr_df.corr(), cmap=\"coolwarm\", annot=True)"
      ],
      "metadata": {
        "id": "AgtqywzRHoaP"
      },
      "execution_count": null,
      "outputs": []
    },
    {
      "cell_type": "code",
      "source": [
        "df['StateHoliday'].value_counts()"
      ],
      "metadata": {
        "id": "oq1TCSGrVc3N"
      },
      "execution_count": null,
      "outputs": []
    },
    {
      "cell_type": "code",
      "source": [
        "df.PromoInterval.unique()"
      ],
      "metadata": {
        "id": "v4NQTbHz3gZi"
      },
      "execution_count": null,
      "outputs": []
    },
    {
      "cell_type": "code",
      "source": [
        "plt.figure(figsize=(5,3))\n",
        "sns.countplot(x=df['StateHoliday'])"
      ],
      "metadata": {
        "id": "Vub98yhK6Avs"
      },
      "execution_count": null,
      "outputs": []
    },
    {
      "cell_type": "code",
      "source": [
        "plt.figure(figsize=(5,3))\n",
        "sns.countplot(x=df['Open'])\n",
        "# here 0 --> closed\n",
        "# here 1 --> open"
      ],
      "metadata": {
        "id": "2TE6HTu7rSzt"
      },
      "execution_count": null,
      "outputs": []
    },
    {
      "cell_type": "code",
      "source": [
        "plt.figure(figsize=(5,3))\n",
        "sns.countplot(x=df['StoreType'])"
      ],
      "metadata": {
        "id": "PPV0_qTnnUc1"
      },
      "execution_count": null,
      "outputs": []
    },
    {
      "cell_type": "code",
      "source": [
        "Numeric_features = ['Date','Sales','Customers','CompetitionDistance','CompetitionOpenSinceYear','CompetitionOpenSinceMonth','Promo2SinceWeek','Promo2SinceYear']\n",
        "Categorical_feature = ['Store','DayOfWeek','Open','Promo','StateHoliday','SchoolHoliday','StoreType','Assortment','Promo2','PromoInterval']"
      ],
      "metadata": {
        "id": "Z1GVz_6zb4Kz"
      },
      "execution_count": null,
      "outputs": []
    },
    {
      "cell_type": "code",
      "source": [
        "#since the stores closed had 0 sale value; removing the irrelevant part\n",
        "df_1 = df[df.Open != 0]\n",
        "df_1.drop('Open', axis=1, inplace=True)"
      ],
      "metadata": {
        "id": "glcPu0QfILiZ"
      },
      "execution_count": null,
      "outputs": []
    },
    {
      "cell_type": "code",
      "source": [
        "#changing into boolean \n",
        "df_1['StateHoliday'].replace({'a':1, 'b':1,'c':1}, inplace=True)"
      ],
      "metadata": {
        "id": "kjQkB1CrvZiQ"
      },
      "execution_count": null,
      "outputs": []
    },
    {
      "cell_type": "code",
      "source": [
        "df_1.shape"
      ],
      "metadata": {
        "id": "l0S3yyHn6nPb"
      },
      "execution_count": null,
      "outputs": []
    },
    {
      "cell_type": "code",
      "source": [
        "df_1.head(1)"
      ],
      "metadata": {
        "id": "ucZz34OqIgcV"
      },
      "execution_count": null,
      "outputs": []
    },
    {
      "cell_type": "code",
      "source": [
        "#setting date and store as index\n",
        "df_1.set_index(['Date','Store'],inplace=True)\n",
        "#sorting index following the time series\n",
        "df_1.sort_index(inplace=True)"
      ],
      "metadata": {
        "id": "9qXcyjsN7Bez"
      },
      "execution_count": null,
      "outputs": []
    },
    {
      "cell_type": "markdown",
      "source": [
        "The index of the dataframe 'df_1' is set to a combination of the 'Date' and 'Store' columns, and the index is then sorted in accordance with the time series."
      ],
      "metadata": {
        "id": "CO6KU8hRJVJr"
      }
    },
    {
      "cell_type": "code",
      "source": [
        "df_1.head(1)"
      ],
      "metadata": {
        "id": "3uKo8KRcKfjF"
      },
      "execution_count": null,
      "outputs": []
    },
    {
      "cell_type": "code",
      "source": [
        "plt.figure(figsize=(6,3))\n",
        "ax = sns.barplot(x=df_1['DayOfWeek'],y=df_1[\"Sales\"],hue=df_1['StoreType'])\n"
      ],
      "metadata": {
        "id": "GeOEgLoxV5PO"
      },
      "execution_count": null,
      "outputs": []
    },
    {
      "cell_type": "code",
      "source": [
        "df_1.loc[(df_1['DayOfWeek']==7) & (df_1['StoreType']=='b')]"
      ],
      "metadata": {
        "id": "JBLKECM3ap6_"
      },
      "execution_count": null,
      "outputs": []
    },
    {
      "cell_type": "code",
      "source": [
        "numeric_cols = ['CompetitionDistance', 'CompetitionOpen', 'Promo2Open', \n",
        "               'Month', 'Year','WeekOfYear','DayOfYear']"
      ],
      "metadata": {
        "id": "MumH3MYsHrSy"
      },
      "execution_count": null,
      "outputs": []
    },
    {
      "cell_type": "code",
      "source": [
        "categorical_cols=['Promo','Promo2','SchoolHoliday','StateHoliday','PromoRunning']"
      ],
      "metadata": {
        "id": "2OYkIjZ-HwX1"
      },
      "execution_count": null,
      "outputs": []
    },
    {
      "cell_type": "code",
      "source": [
        "#X = Rossmann[numeric_cols + encoded_cols + categorical_cols]"
      ],
      "metadata": {
        "id": "xPoqMKviNRrU"
      },
      "execution_count": null,
      "outputs": []
    },
    {
      "cell_type": "code",
      "source": [
        "#y = Rossmann['Sales']"
      ],
      "metadata": {
        "id": "zbwQ1XNiOatg"
      },
      "execution_count": null,
      "outputs": []
    },
    {
      "cell_type": "markdown",
      "source": [
        "## ***4. Data Vizualization, Storytelling & Experimenting with charts : Understand the relationships between variables***"
      ],
      "metadata": {
        "id": "GF8Ens_Soomf"
      }
    },
    {
      "cell_type": "markdown",
      "source": [
        "#**Univariate**"
      ],
      "metadata": {
        "id": "Ez70ekDEhb65"
      }
    },
    {
      "cell_type": "code",
      "source": [
        "#count of CompetitionOpenSinceMonth\n",
        "plt.figure(figsize=(5,3))\n",
        "sns.countplot(df['CompetitionOpenSinceMonth'])"
      ],
      "metadata": {
        "id": "gXhUJ1QRhYoO"
      },
      "execution_count": null,
      "outputs": []
    },
    {
      "cell_type": "markdown",
      "source": [
        "Use:Bar-Chart present data in a visual form so that the reader may readily recognize patterns\n",
        "\n",
        "Insight-As in month of September Most Competition Opened"
      ],
      "metadata": {
        "id": "n7mzuMxmjkHA"
      }
    },
    {
      "cell_type": "code",
      "source": [
        "plt.figure(figsize=(5,3))\n",
        "sns.countplot(x=df['Open'])\n",
        "# here 0 --> closed\n",
        "# here 1 --> open"
      ],
      "metadata": {
        "id": "gMZ13JokhyNz"
      },
      "execution_count": null,
      "outputs": []
    },
    {
      "cell_type": "code",
      "source": [
        "plt.figure(figsize=(5,3))\n",
        "sns.countplot(x=df['StateHoliday'])"
      ],
      "metadata": {
        "id": "vZmQ_PQch42m"
      },
      "execution_count": null,
      "outputs": []
    },
    {
      "cell_type": "markdown",
      "source": [
        "Use:Bar-Chart present data in a visual form so that the reader may readily recognize patterns\n",
        "\n",
        "Insight:We can say that highest count is for 0 i.e store is close on state holiday"
      ],
      "metadata": {
        "id": "XvW8bRAFkKjb"
      }
    },
    {
      "cell_type": "code",
      "source": [
        "plt.figure(figsize=(5,3))\n",
        "sns.countplot(x=df['StoreType'])"
      ],
      "metadata": {
        "id": "YMpsdEMxh_-U"
      },
      "execution_count": null,
      "outputs": []
    },
    {
      "cell_type": "markdown",
      "source": [
        "As Bar plots are commonly used to compare the values of different categories of data. No. of Store type 'a' has highest count followed by by type 'd' ,'c' & 'b' type 'b' store have lowest count. We can compare the profitabily in percentage with the investment as well as with respect to store count. as much as profit more we can prefer to that types of stores."
      ],
      "metadata": {
        "id": "0jUrrCIvgb_w"
      }
    },
    {
      "cell_type": "code",
      "source": [
        "#count of Promo2\n",
        "plt.figure(figsize=(5,3))\n",
        "sns.countplot(df['Promo2'])"
      ],
      "metadata": {
        "id": "qWa5XdJwj63h"
      },
      "execution_count": null,
      "outputs": []
    },
    {
      "cell_type": "markdown",
      "source": [
        "Use:Bar chart present data in a visual form so that the reader may readily recognize patterns\n",
        "\n",
        "Insight:There are 2 type of 0 and 1 where 0 indicates stores are running long time promo or not so there us almost same count for both the category the count are for 1-509178 & for 0-508031"
      ],
      "metadata": {
        "id": "WZbLGePukBgy"
      }
    },
    {
      "cell_type": "code",
      "source": [
        "#count of SchoolHoliday\n",
        "plt.figure(figsize=(5,3))\n",
        "sns.countplot(df['SchoolHoliday'])"
      ],
      "metadata": {
        "id": "ShbUAXA6kfyr"
      },
      "execution_count": null,
      "outputs": []
    },
    {
      "cell_type": "markdown",
      "source": [
        "Use:Bar chart-present data in a visual form so that the reader may readily recognize patterns\n",
        "\n",
        "Insigth:From this Observation we can say that most of the Store are Closed on School Holiday"
      ],
      "metadata": {
        "id": "XqH7FGw9kdAz"
      }
    },
    {
      "cell_type": "markdown",
      "source": [
        "#**Bivariant**"
      ],
      "metadata": {
        "id": "hJ-muAG4k_P6"
      }
    },
    {
      "cell_type": "markdown",
      "source": [
        " **Distribution of assortment Type And its Sales**"
      ],
      "metadata": {
        "id": "IQq_jD9ClFpz"
      }
    },
    {
      "cell_type": "code",
      "source": [
        "plt.figure(figsize=(5,3))\n",
        "sns.boxplot(x=\"Assortment\",y=\"Sales\",data=df)\n",
        "plt.xlabel(\"Type of Assortment\",size=15)\n",
        "plt.ylabel(\"Average Sales Per Assortment\")\n",
        "plt.title(\"Boxplot for the effect of Assortment Type on sales\")"
      ],
      "metadata": {
        "id": "KpjYBzvYlY8v"
      },
      "execution_count": null,
      "outputs": []
    },
    {
      "cell_type": "markdown",
      "source": [
        "Use:BoxPlot and whisker plots, are a great chart to use when showing the distribution of data points across a selected measure\n",
        "\n",
        "Insight:We can observe that Assortment b have more no. of sales then other 2"
      ],
      "metadata": {
        "id": "NkrO1GixmFvD"
      }
    },
    {
      "cell_type": "markdown",
      "source": [
        "**What is the Sales Corresponds to Years?**\n",
        "\n"
      ],
      "metadata": {
        "id": "NeYqy4K7X_6S"
      }
    },
    {
      "cell_type": "code",
      "source": [
        "df.info()"
      ],
      "metadata": {
        "id": "_mJTB_05KmzJ"
      },
      "execution_count": null,
      "outputs": []
    },
    {
      "cell_type": "code",
      "source": [
        "import matplotlib.pyplot as plt\n",
        "\n",
        "colors = ['#e6ebf1', '#063970' , '#839cb8']\n",
        "explode = (0.1,0.0,0)\n",
        "\n",
        "dfg = df.groupby(['Year'])['Sales'].mean()\n",
        "\n",
        "dfg.plot(kind='pie', title='Sales With Respect To Year', ylabel='Avg Sales',\n",
        "             xlabel='Year', figsize=(6, 5), autopct='%0.1f%%',explode=explode,colors=colors,shadow=True)\n",
        "plt.axis('equal')\n",
        "plt.legend()\n",
        "plt.show()"
      ],
      "metadata": {
        "id": "vocw9yIHdhGx"
      },
      "execution_count": null,
      "outputs": []
    },
    {
      "cell_type": "markdown",
      "source": [
        "Chart:Pie chart show percentages of a whole, and represents percentages at a set point in time.\n",
        "\n",
        "Insights:As Per the Graph Maximum Sales occure in 2015 & 2014\n",
        "\n",
        "Impact:We can Say that total sales % is almost same for 2014-15 and just 1% sale is decreseas in 2013 , It shows positive impact on Business that Sales is increasing or beign constant over a year there is not much loss"
      ],
      "metadata": {
        "id": "PQTj6uo0mSUB"
      }
    },
    {
      "cell_type": "markdown",
      "source": [
        "**Sales Affected by Schoolholiday or Not**"
      ],
      "metadata": {
        "id": "dl85EgJmlSjr"
      }
    },
    {
      "cell_type": "code",
      "source": [
        "labels = 'Not-Affected' , 'Affected'\n",
        "sizes = df.SchoolHoliday.value_counts()\n",
        "colors = ['#839cb8', 'gray']\n",
        "explode = (0.1, 0.0)\n",
        "plt.pie(sizes, explode=explode, labels=labels, colors=colors,\n",
        "        autopct='%1.1f%%', shadow=True, startangle=180)\n",
        "plt.axis('equal')\n",
        "plt.title(\"Sales Affected by Schoolholiday or Not ?\",fontsize=10)\n",
        "plt.legend()\n",
        "plt.show()"
      ],
      "metadata": {
        "id": "sl_RY-X4h_M6"
      },
      "execution_count": null,
      "outputs": []
    },
    {
      "cell_type": "markdown",
      "source": [
        "As we can see in the Piechart Sales affected by School Holiday is **17.9% and 82.1%** Sales aren't afffected by School Holiday."
      ],
      "metadata": {
        "id": "v9zzVEgRltmd"
      }
    },
    {
      "cell_type": "markdown",
      "source": [
        "The pie chart is a common chart used for representing relative proportions or percentages of different categories. It is often used to display data that is divided into parts, and it is a good choice when you want to compare the proportion of different categories in a dataset."
      ],
      "metadata": {
        "id": "XESiWehPqBRc"
      }
    },
    {
      "cell_type": "markdown",
      "source": [
        " **Promotion w.r.t Sales**"
      ],
      "metadata": {
        "id": "NBTBFOldpRlo"
      }
    },
    {
      "cell_type": "code",
      "source": [
        "plt.figure(figsize=(5,3))\n",
        "promo_sales = sns.barplot(x=\"Promo\", y=\"Sales\", data=df, palette=\"Set2\")"
      ],
      "metadata": {
        "id": "DXRzs1EupPIE"
      },
      "execution_count": null,
      "outputs": []
    },
    {
      "cell_type": "markdown",
      "source": [
        "Use:Bar chart-present data in a visual form so that the reader may readily recognize patterns\n",
        "\n",
        "Insight: Those store who took promotions their sales are high as compared to stores who didnt took promotion.\n",
        "\n",
        "Impact:We can say that to make profit stores should take promo for betterment"
      ],
      "metadata": {
        "id": "hed4KOJhpiN5"
      }
    },
    {
      "cell_type": "markdown",
      "source": [
        "**Distribution of Sale w.r.t Store Type**"
      ],
      "metadata": {
        "id": "tzbxd0H7po16"
      }
    },
    {
      "cell_type": "code",
      "source": [
        "#Average Sales Per Store\n",
        "sns.set(rc={'figure.figsize':(10,7)})\n",
        "sns.boxplot(x=\"StoreType\", y=\"Sales\", data=df,palette='rainbow')\n",
        "plt.title('Boxplot For Sales Values with respect to Store Type')"
      ],
      "metadata": {
        "id": "I1HXQmJ-prn3"
      },
      "execution_count": null,
      "outputs": []
    },
    {
      "cell_type": "markdown",
      "source": [
        "Chart:Box and whisker plots, are a great chart to use when showing the distribution of data points across a selected measure\n",
        "\n",
        "Insight:We can see that Store type 'b' have higher sales among the all"
      ],
      "metadata": {
        "id": "SQJ0MOomp8ym"
      }
    },
    {
      "cell_type": "markdown",
      "source": [
        "#**Multivariant**"
      ],
      "metadata": {
        "id": "pVF-Icodqc2o"
      }
    },
    {
      "cell_type": "markdown",
      "source": [
        "**Impact of School Holiday on Sales**"
      ],
      "metadata": {
        "id": "CiYxrQrgqd3F"
      }
    },
    {
      "cell_type": "code",
      "source": [
        "g = sns.FacetGrid(df, col=\"SchoolHoliday\", height=4, aspect=.8)\n",
        "g.map(sns.barplot, \"StoreType\", \"Sales\");"
      ],
      "metadata": {
        "id": "s3p49J3wqp3w"
      },
      "execution_count": null,
      "outputs": []
    },
    {
      "cell_type": "markdown",
      "source": [
        "Chart:Bar chart-present data in a visual form so that the reader may readily recognize patterns\n",
        "\n",
        "Insight:We can say that Storetype 'd' have more Sale when Schools are closed and when School are open it have less sales as compared on holiday And vise versa for store type'b', type c & d doesn't effect much like 'b' and 'c'\n",
        "\n",
        "Impact : For Profitable Business We can have more Sales when Schools are open"
      ],
      "metadata": {
        "id": "Sgducc88qvCs"
      }
    },
    {
      "cell_type": "markdown",
      "source": [
        "**Impact of Sales w.r.t Promo , Assortments & StoreType**"
      ],
      "metadata": {
        "id": "iP3bsJ042dQ1"
      }
    },
    {
      "cell_type": "code",
      "source": [
        "g = sns.FacetGrid(df, col=\"Assortment\", row=\"Promo\", margin_titles=True, height=3)\n",
        "g.map(plt.scatter,  \"StoreType\",\"Sales\", color=\"#338844\", edgecolor=\"white\", s=50, lw=1)\n",
        "# g.set(xlim=(0, 50), ylim=(0, 100));"
      ],
      "metadata": {
        "id": "TZ7NUn5d2bc3"
      },
      "execution_count": null,
      "outputs": []
    },
    {
      "cell_type": "markdown",
      "source": [
        "Use :FacetGrid Chart helps in visualizing distribution of one variable as well as the relationship between multiple variables separately within subsets of your dataset using multiple panels.\n",
        "\n",
        "Insights: ASSORTMENT \"A\":We can observe that Store type 'a' have more Sales then they apply promo and with basic assortment i.e 'a'\n",
        "\n",
        "Same for Store type 'b' & 'c'\n",
        "\n",
        "Store type 'd' have almost same sales with or without promo of assorment type 'a'\n",
        "\n",
        "ASSORTMENT \"B\":On assortment type 'b' i.e entented it have sales only for Store 'a' and that too same sales with or without promo\n",
        "\n",
        "ASSORTMENT \"C\":We can observes that Store 'a','b' & 'd' have more sales without promo and 'c' have same sales with or without\n",
        "\n",
        "Impact:We can have more sales with promo on basic assortment ,on extended type we have highers sales when one day promo is not applied and we dnt have any benifit for extra type i.e assortment 'b'"
      ],
      "metadata": {
        "id": "_vlJSz6MrCQQ"
      }
    },
    {
      "cell_type": "code",
      "source": [
        "#since the stores closed had 0 sale value; removing the irrelevant part\n",
        "df_1 = df[df.Open != 0]\n",
        "df_1.drop('Open', axis=1, inplace=True)"
      ],
      "metadata": {
        "id": "gloOz61jTWnk"
      },
      "execution_count": null,
      "outputs": []
    },
    {
      "cell_type": "markdown",
      "source": [
        "This code is likely being used to remove the rows of data where the store was closed, and also to remove the Open column which is no longer needed as it is only used to filter the rows."
      ],
      "metadata": {
        "id": "0v5PefWUoXky"
      }
    },
    {
      "cell_type": "code",
      "source": [
        "Rossmann = df_1.copy()"
      ],
      "metadata": {
        "id": "S1oeLP87D-f_"
      },
      "execution_count": null,
      "outputs": []
    },
    {
      "cell_type": "markdown",
      "source": [
        "Create a new variable that contains the preprocessed dataset that will be used for further feature engineering and modeling."
      ],
      "metadata": {
        "id": "SrhkEz1uo00Q"
      }
    },
    {
      "cell_type": "code",
      "source": [
        "#Sales should be the last col\n",
        "columns=list(Rossmann.columns)\n",
        "columns.remove('Sales')\n",
        "columns.append('Sales')\n",
        "Rossmann=Rossmann[columns]"
      ],
      "metadata": {
        "id": "uHnu_MExELgf"
      },
      "execution_count": null,
      "outputs": []
    },
    {
      "cell_type": "markdown",
      "source": [
        "## ***6. Feature Engineering & Data Pre-processing***"
      ],
      "metadata": {
        "id": "yLjJCtPM0KBk"
      }
    },
    {
      "cell_type": "code",
      "source": [
        "df_1.head(1)"
      ],
      "metadata": {
        "id": "DdDiPW8eJOtR"
      },
      "execution_count": null,
      "outputs": []
    },
    {
      "cell_type": "markdown",
      "source": [
        "### **1. Data Transformation**"
      ],
      "metadata": {
        "id": "TNVZ9zx19K6k"
      }
    },
    {
      "cell_type": "code",
      "source": [
        "# Transform Your data\n",
        "sns.distplot(df_1[\"Sales\"])"
      ],
      "metadata": {
        "id": "-tPo-kPcTvCy"
      },
      "execution_count": null,
      "outputs": []
    },
    {
      "cell_type": "code",
      "source": [
        "## transformation\n",
        "df_1['Sales'] = np.log(df_1['Sales'])"
      ],
      "metadata": {
        "id": "GAhVW2ksTu5G"
      },
      "execution_count": null,
      "outputs": []
    },
    {
      "cell_type": "code",
      "source": [
        "df_1.dropna(inplace=True)"
      ],
      "metadata": {
        "id": "hdeiFYWjTuvf"
      },
      "execution_count": null,
      "outputs": []
    },
    {
      "cell_type": "code",
      "source": [
        "df_1.drop(df_1[df_1['Sales'] == float(\"-inf\")].index,inplace=True)"
      ],
      "metadata": {
        "id": "RL9rC7P8TujL"
      },
      "execution_count": null,
      "outputs": []
    },
    {
      "cell_type": "code",
      "source": [
        "# Rechecking distribution after transformation\n",
        "sns.distplot(df_1[\"Sales\"])"
      ],
      "metadata": {
        "id": "7fbWjmcSTuXf"
      },
      "execution_count": null,
      "outputs": []
    },
    {
      "cell_type": "markdown",
      "source": [
        "#### Do you think that your data needs to be transformed? If yes, which transformation have you used. Explain Why?"
      ],
      "metadata": {
        "id": "nqoHp30x9hH9"
      }
    },
    {
      "cell_type": "markdown",
      "source": [
        "### 2. Handling Outliers"
      ],
      "metadata": {
        "id": "id1riN9m0vUs"
      }
    },
    {
      "cell_type": "code",
      "source": [
        "df_1['Sales'].skew()"
      ],
      "metadata": {
        "id": "JCs7_kyzJJ_l"
      },
      "execution_count": null,
      "outputs": []
    },
    {
      "cell_type": "code",
      "source": [
        "# Handling Outliers & Outlier treatments\n",
        "print(\"Mean value of Sales\",df_1['Sales'].mean())\n",
        "print(\"Std value of Sales\",df_1['Sales'].std())\n",
        "print(\"Min value of Sales\",df_1['Sales'].min())\n",
        "print(\"Max value of Sales\",df_1['Sales'].max())"
      ],
      "metadata": {
        "id": "M6w2CzZf04JK"
      },
      "execution_count": null,
      "outputs": []
    },
    {
      "cell_type": "code",
      "source": [
        "# Finding the boundary values\n",
        "print(\"Highest allowed\",df_1['Sales'].mean() + 3*df_1['Sales'].std())\n",
        "print(\"Lowest allowed\",df_1['Sales'].mean() - 3*df_1['Sales'].std())"
      ],
      "metadata": {
        "id": "aNkueZfrJUsv"
      },
      "execution_count": null,
      "outputs": []
    },
    {
      "cell_type": "code",
      "source": [
        "# Finding the outliers\n",
        "df_1[(df_1['Sales'] > 10.03) | (df_1['Sales'] < 7.48)]"
      ],
      "metadata": {
        "id": "2c-ioBTVJass"
      },
      "execution_count": null,
      "outputs": []
    },
    {
      "cell_type": "markdown",
      "source": [
        "#Capping"
      ],
      "metadata": {
        "id": "NEQGPqHgKCQo"
      }
    },
    {
      "cell_type": "code",
      "source": [
        "upper_limit = df_1['Sales'].mean() + 3*df_1['Sales'].std()\n",
        "lower_limit = df_1['Sales'].mean() - 3*df_1['Sales'].std()"
      ],
      "metadata": {
        "id": "IhDbG4UmKMNg"
      },
      "execution_count": null,
      "outputs": []
    },
    {
      "cell_type": "code",
      "source": [
        "upper_limit"
      ],
      "metadata": {
        "id": "HbH2kR9OKL43"
      },
      "execution_count": null,
      "outputs": []
    },
    {
      "cell_type": "code",
      "source": [
        "df_1['Sales'] = np.where(\n",
        "    df_1['Sales']>upper_limit,\n",
        "    upper_limit,\n",
        "    np.where(\n",
        "        df_1['Sales']<lower_limit,\n",
        "        lower_limit,\n",
        "        df_1['Sales']\n",
        "    )\n",
        ")"
      ],
      "metadata": {
        "id": "fWKMh5W_KV-l"
      },
      "execution_count": null,
      "outputs": []
    },
    {
      "cell_type": "code",
      "source": [
        "df_1['Sales'].describe()"
      ],
      "metadata": {
        "id": "_9UwasjUKxJg"
      },
      "execution_count": null,
      "outputs": []
    },
    {
      "cell_type": "code",
      "source": [
        "sns.distplot(x=df_1[\"Sales\"])"
      ],
      "metadata": {
        "id": "rB7PucA-J-F5"
      },
      "execution_count": null,
      "outputs": []
    },
    {
      "cell_type": "markdown",
      "source": [
        "### **3. Feature Manipulation & Selection**"
      ],
      "metadata": {
        "id": "-oLEiFgy-5Pf"
      }
    },
    {
      "cell_type": "markdown",
      "source": [
        "#### 1. Feature Manipulation"
      ],
      "metadata": {
        "id": "C74aWNz2AliB"
      }
    },
    {
      "cell_type": "code",
      "source": [
        "# Manipulate Features to minimize feature correlation and create new features\n",
        "\n",
        "#combining competition open since month and year into total months\n",
        "df_1['CompetitionOpen'] = (df_1['Year'] - df_1['CompetitionOpenSinceYear'])*12 + (df_1['Month'] - df_1['CompetitionOpenSinceMonth'])\n",
        "df_1['CompetitionOpen'] "
      ],
      "metadata": {
        "id": "h1qC4yhBApWC"
      },
      "execution_count": null,
      "outputs": []
    },
    {
      "cell_type": "code",
      "source": [
        "#correcting the neg values\n",
        "df_1['CompetitionOpen'] = df_1['CompetitionOpen'].apply(lambda x:0 if x < 0 else x)\n",
        "df_1['CompetitionOpen']"
      ],
      "metadata": {
        "id": "_OE_QJg1M6-Z"
      },
      "execution_count": null,
      "outputs": []
    },
    {
      "cell_type": "code",
      "source": [
        "#dropping both the columns\n",
        "df_1.drop(['CompetitionOpenSinceMonth','CompetitionOpenSinceYear'], axis=1,inplace=True)"
      ],
      "metadata": {
        "id": "C28fj15-NDJh"
      },
      "execution_count": null,
      "outputs": []
    },
    {
      "cell_type": "code",
      "source": [
        "#changing promo2 features into meaningful inputs\n",
        "#combining promo2 to total months\n",
        "df_1['Promo2Open'] = (df_1['Year'] - df_1['Promo2SinceYear'])*12 + (df_1['WeekOfYear'] - df_1['Promo2SinceWeek'])*0.230137 + (df_1['Promo2'])\n",
        "df_1['Promo2Open']"
      ],
      "metadata": {
        "id": "BbtRgf2YNOaC"
      },
      "execution_count": null,
      "outputs": []
    },
    {
      "cell_type": "code",
      "source": [
        "#correcting the neg values\n",
        "df_1['Promo2Open'] = df_1['Promo2Open'].apply(lambda x:0 if x < 0 else x)*df_1['Promo2']\n",
        "df_1['Promo2Open']"
      ],
      "metadata": {
        "id": "o2ciAfYqNSN-"
      },
      "execution_count": null,
      "outputs": []
    },
    {
      "cell_type": "code",
      "source": [
        "#dropping both the columns\n",
        "df_1.drop(['Promo2SinceYear','Promo2SinceWeek','Promo2'], axis=1,inplace=True)"
      ],
      "metadata": {
        "id": "dOGh6NCuNWFK"
      },
      "execution_count": null,
      "outputs": []
    },
    {
      "cell_type": "code",
      "source": [
        "#creating a feature for promo interval and checking if promo2 was running in the sale month\n",
        "month_dict = {1:'Jan', 2:'Feb', 3:'Mar', 4:'Apr', 5:'May', 6:'Jun', 7:'Jul', 8:'Aug', 9:'Sept', 10:'Oct', 11:'Nov', 12:'Dec'}\n",
        "df_1[\"PromoRunning\"] = df_1.apply(lambda row: 1 if month_dict[row['Month']] in row['PromoInterval'].split(',') else 0, axis=1)#*df_1['Promo2']\n",
        "df_1[\"PromoRunning\"]"
      ],
      "metadata": {
        "id": "R9oVuv5kNZ3M"
      },
      "execution_count": null,
      "outputs": []
    },
    {
      "cell_type": "code",
      "source": [
        "#Dropping unecessary columns\n",
        "df_1.drop(['PromoInterval'],axis=1,inplace=True)"
      ],
      "metadata": {
        "id": "CReUXnKDNdeP"
      },
      "execution_count": null,
      "outputs": []
    },
    {
      "cell_type": "code",
      "source": [
        "df_1.head(1)"
      ],
      "metadata": {
        "id": "K5JWfuUSLyo7"
      },
      "execution_count": null,
      "outputs": []
    },
    {
      "cell_type": "code",
      "source": [
        "#just in case something messes up\n",
        "Rossmann = df_1.copy()"
      ],
      "metadata": {
        "id": "34UFUMQBMTRj"
      },
      "execution_count": null,
      "outputs": []
    },
    {
      "cell_type": "code",
      "source": [
        "#Sales should be the last col\n",
        "columns=list(Rossmann.columns)\n",
        "columns.remove('Sales')\n",
        "columns.append('Sales')\n",
        "Rossmann=Rossmann[columns]"
      ],
      "metadata": {
        "id": "OEZ9GTXJMXVj"
      },
      "execution_count": null,
      "outputs": []
    },
    {
      "cell_type": "code",
      "source": [
        "Rossmann.head(1)"
      ],
      "metadata": {
        "id": "guN7FOyYMfg0"
      },
      "execution_count": null,
      "outputs": []
    },
    {
      "cell_type": "markdown",
      "source": [
        "### **4. Categorical Encoding**"
      ],
      "metadata": {
        "id": "89xtkJwZ18nB"
      }
    },
    {
      "cell_type": "code",
      "source": [
        "#importing\n",
        "from sklearn.preprocessing import OneHotEncoder"
      ],
      "metadata": {
        "id": "9Vlzz-gxKNkY"
      },
      "execution_count": null,
      "outputs": []
    },
    {
      "cell_type": "code",
      "source": [
        "#categorical features\n",
        "categorical_cols_to_encode = ['DayOfWeek', 'StoreType', 'Assortment']"
      ],
      "metadata": {
        "id": "7s-uEQuUKSiw"
      },
      "execution_count": null,
      "outputs": []
    },
    {
      "cell_type": "code",
      "source": [
        "encoder = OneHotEncoder(sparse=False, handle_unknown='ignore').fit(Rossmann[categorical_cols_to_encode])\n",
        "encoded_cols = list(encoder.get_feature_names(categorical_cols_to_encode))\n",
        "Rossmann[encoded_cols] = encoder.transform(Rossmann[categorical_cols_to_encode])"
      ],
      "metadata": {
        "id": "s_qxfzjlKWJF"
      },
      "execution_count": null,
      "outputs": []
    },
    {
      "cell_type": "code",
      "source": [
        "encoded_cols"
      ],
      "metadata": {
        "id": "fyKYvi7KKaKB"
      },
      "execution_count": null,
      "outputs": []
    },
    {
      "cell_type": "code",
      "source": [
        "Rossmann.drop(['DayOfWeek','StoreType','Assortment'],axis=1,inplace=True)"
      ],
      "metadata": {
        "id": "xJPilAMpKe8O"
      },
      "execution_count": null,
      "outputs": []
    },
    {
      "cell_type": "code",
      "source": [
        "Rossmann.shape"
      ],
      "metadata": {
        "id": "98VsAiI9MvFE"
      },
      "execution_count": null,
      "outputs": []
    },
    {
      "cell_type": "markdown",
      "source": [
        "### **5. Data Splitting**"
      ],
      "metadata": {
        "id": "BhH2vgX9EjGr"
      }
    },
    {
      "cell_type": "code",
      "source": [
        "Rossmann"
      ],
      "metadata": {
        "id": "AuWC8laWOsL9"
      },
      "execution_count": null,
      "outputs": []
    },
    {
      "cell_type": "code",
      "source": [
        "# Split your data to train and test. Choose Splitting ratio wisely.\n",
        "#slicing the most recent six weeks and creating train and test set\n",
        "#train\n",
        "start_train = pd.to_datetime(\"2013-01-01\")\n",
        "end_train = pd.to_datetime(\"2015-06-14\")\n",
        "ross_df_train = Rossmann.loc[start_train:end_train]\n",
        "#test\n",
        "start_test = pd.to_datetime(\"2015-06-15\")\n",
        "end_test = pd.to_datetime(\"2015-07-31\")\n",
        "ross_df_test = Rossmann.loc[start_test:end_test]"
      ],
      "metadata": {
        "id": "hffgqjTdWRuv"
      },
      "execution_count": null,
      "outputs": []
    },
    {
      "cell_type": "markdown",
      "source": [
        "Splitting the dataframe into two parts, a training set and a test set. The training set consists of data from the start of the year 2013 up to 14th of June 2015, while the test set consists of data from 15th of June 2015 to the end of July 2015."
      ],
      "metadata": {
        "id": "zTLuuhSAWSx2"
      }
    },
    {
      "cell_type": "code",
      "source": [
        "# X and y split for train \n",
        "X_train = ross_df_train.drop('Sales',axis=1)\n",
        "y_train = ross_df_train[['Sales']]\n",
        "\n",
        "print(f'The shape of X_train is: {X_train.shape}')\n",
        "print(f'The shape of y_train is: {y_train.shape}')"
      ],
      "metadata": {
        "id": "sSlvxVO4WbKV"
      },
      "execution_count": null,
      "outputs": []
    },
    {
      "cell_type": "code",
      "source": [
        "# X and y split for test\n",
        "X_test = ross_df_test.drop('Sales',axis=1)\n",
        "y_test = ross_df_test[['Sales']]\n",
        "\n",
        "print(f'The shape of X_test is: {X_test.shape}')\n",
        "print(f'The shape of y_test is: {y_test.shape}')"
      ],
      "metadata": {
        "id": "m7gaFy8fWc40"
      },
      "execution_count": null,
      "outputs": []
    },
    {
      "cell_type": "markdown",
      "source": [
        "### **6. Data Scaling**"
      ],
      "metadata": {
        "id": "rMDnDkt2B6du"
      }
    },
    {
      "cell_type": "code",
      "source": [
        "# Scaling your data\n",
        "\n",
        "# scaling\n",
        "from sklearn.preprocessing import StandardScaler\n",
        "stdsc = StandardScaler()\n",
        "X_train[list(X_train.columns)] = stdsc.fit_transform(X_train[list(X_train.columns)])\n",
        "X_test[list(X_test.columns)] = stdsc.transform(X_test[list(X_test.columns)])\n",
        "\n",
        "scaler = StandardScaler()\n",
        "y_train[list(y_train.columns)] = scaler.fit_transform(y_train[list(y_train.columns)])\n",
        "y_test[list(y_test.columns)] = scaler.transform(y_test[list(y_train.columns)])"
      ],
      "metadata": {
        "id": "dL9LWpySC6x_"
      },
      "execution_count": null,
      "outputs": []
    },
    {
      "cell_type": "markdown",
      "source": [
        "Scaling in machine learning is used to standardize the range of independent variables or features of a dataset. This is often necessary because the scale of one feature may be vastly different from the scale of another feature. Scaling helps to ensure that no single feature has a disproportionate impact on the model during training and can improve the performance of certain algorithms\n"
      ],
      "metadata": {
        "id": "yiiVWRdJDDil"
      }
    },
    {
      "cell_type": "markdown",
      "source": [
        "## ***7. ML Model Implementation***"
      ],
      "metadata": {
        "id": "VfCC591jGiD4"
      }
    },
    {
      "cell_type": "markdown",
      "source": [
        "**Mean of Sales**"
      ],
      "metadata": {
        "id": "OiCFmyhfPyVV"
      }
    },
    {
      "cell_type": "code",
      "source": [
        "sales_mean=Rossmann.Sales.mean()"
      ],
      "metadata": {
        "id": "E8-6ti-yLR44"
      },
      "execution_count": null,
      "outputs": []
    },
    {
      "cell_type": "markdown",
      "source": [
        "### **ML Model - 1**"
      ],
      "metadata": {
        "id": "OB4l2ZhMeS1U"
      }
    },
    {
      "cell_type": "markdown",
      "source": [
        "##**LinearRegression**"
      ],
      "metadata": {
        "id": "6bfC7Bk9RQ9n"
      }
    },
    {
      "cell_type": "markdown",
      "source": [
        "Linear regression is a statistical method that is used to model the relationship between a dependent variable (also known as the outcome variable) and one or more independent variables (also known as the predictor variables). The goal of linear regression is to find the best linear relationship (i.e. a straight line) that minimizes the difference between the predicted values and the actual values."
      ],
      "metadata": {
        "id": "4PrUJ81LP71u"
      }
    },
    {
      "cell_type": "code",
      "source": [
        "from sklearn import linear_model\n",
        "from sklearn.metrics import mean_absolute_error\n",
        "from sklearn.metrics import mean_squared_error\n",
        "from sklearn.metrics import r2_score\n",
        "#fitting decision tree\n",
        "model = linear_model.LinearRegression()\n",
        "model.fit(X_train,y_train)"
      ],
      "metadata": {
        "id": "jqocTrxKlidf"
      },
      "execution_count": null,
      "outputs": []
    },
    {
      "cell_type": "code",
      "source": [
        "#making predictions\n",
        "y_pred_train = model.predict(X_train)\n",
        "y_pred_test = model.predict(X_test)"
      ],
      "metadata": {
        "id": "LNUwvuVJBAOV"
      },
      "execution_count": null,
      "outputs": []
    },
    {
      "cell_type": "code",
      "source": [
        "#Mean Squared Error or MSE\n",
        "MSE_train = round(mean_squared_error(y_train,y_pred_train),26)\n",
        "MSE_test = round(mean_squared_error(y_test,y_pred_test),26)"
      ],
      "metadata": {
        "id": "TeKfwnMYBBHs"
      },
      "execution_count": null,
      "outputs": []
    },
    {
      "cell_type": "code",
      "source": [
        "print(\"Weights: \", model.coef_)\n",
        "print(\"Intercept: \", model.intercept_)"
      ],
      "metadata": {
        "id": "2cXXyN58B_2n"
      },
      "execution_count": null,
      "outputs": []
    },
    {
      "cell_type": "code",
      "source": [
        "MAE_train = mean_absolute_error(y_train,y_pred_train)\n",
        "print(\"MAE Train :\" ,MAE_train)\n",
        "\n",
        "MAE_test = mean_absolute_error(y_test,y_pred_test)\n",
        "print(\"MAE Test:\" ,MAE_test)\n",
        "\n",
        "MSE_train  = mean_squared_error(y_train,y_pred_train)\n",
        "print(\"MSE Train :\" , MSE_train)\n",
        "\n",
        "MSE_test  = mean_squared_error(y_test,y_pred_test)\n",
        "print(\"MSE Test:\" , MSE_test)\n",
        "\n",
        "RMSE_train = np.sqrt(MSE_train)\n",
        "print(\"RMSE Train:\" ,RMSE_train)\n",
        "\n",
        "RMSE_test = np.sqrt(MSE_test)\n",
        "print(\"RMSE Test:\" ,RMSE_test)\n",
        "\n",
        "RMSPE_train=RMSE_train/sales_mean\n",
        "print(\"RMSPE Train:\",RMSPE_train)\n",
        "\n",
        "RMSPE_test=RMSE_test/sales_mean\n",
        "print(\"RMSPE Test:\",RMSPE_test)\n",
        "\n",
        "R2_train= r2_score(y_train,y_pred_train)\n",
        "print(\"R2 Train:\" ,R2_train)\n",
        "\n",
        "R2_test= r2_score(y_test,y_pred_test)\n",
        "print(\"R2 Test:\" ,R2_test)\n",
        "\n",
        "ADJUSTED_R2_train=1-((1-R2_train)*(168879-1)/(168879-1-26))\n",
        "print(\"Adjusted R2 Train :\" ,ADJUSTED_R2_train)\n",
        "\n",
        "ADJUSTED_R2_test=1-((1-R2_test)*(168879-1)/(168879-1-26))\n",
        "print(\"Adjusted R2 Test:\" ,ADJUSTED_R2_test)"
      ],
      "metadata": {
        "id": "t4uQLEQICAx-"
      },
      "execution_count": null,
      "outputs": []
    },
    {
      "cell_type": "markdown",
      "source": [
        "The Root Mean Squared Error (RMSE) is the square root of the MSE. It is a measure of the average deviation of the predicted values from the actual values. In your case, the RMSE for the training set is 0.49 and for the test set is 0.48.\n",
        "\n",
        "The Root Mean Squared Percentage Error (RMSPE) is the square root of the mean squared percentage error. It is a measure of the average deviation of the predicted values from the actual values in percentage.the RMSPE for the training set is 0.056 and for the test set is 0.056.\n",
        "\n",
        "The R-squared (R2) value is a measure of how well the linear regression model fits the data. It ranges from 0 to 1, with a higher value indicating a better fit. In your case, the R2 value for the training set is 0.75 and for the test set is 0.74.\n",
        "\n",
        "Overall, the model seems to perform well, with the R2 value being close for the training and test sets, and the other metrics having similar values for the training and test sets. This suggests that the model is generalizing well and is not overfitting the training data."
      ],
      "metadata": {
        "id": "KN1uZb4wQLGQ"
      }
    },
    {
      "cell_type": "markdown",
      "source": [
        "### **ML Model - 2**"
      ],
      "metadata": {
        "id": "dJ2tPlVmpsJ0"
      }
    },
    {
      "cell_type": "markdown",
      "source": [
        "##**Decision Tree**"
      ],
      "metadata": {
        "id": "bdI7Bw_6Ek5a"
      }
    },
    {
      "cell_type": "markdown",
      "source": [
        "Decision tree regression is a type of supervised machine learning algorithm that is used to predict continuous values (i.e. real numbers) based on a set of input features. It works by building a tree-like model of decisions and their possible consequences, where each internal node represents a feature, each branch represents a decision based on that feature, and each leaf node represents a predicted value. The algorithm starts at the root of the tree and recursively splits the data based on the values of the input features, until it reaches a leaf node. The predicted value for a given input is then the value associated with the leaf node that the input reaches."
      ],
      "metadata": {
        "id": "K756BisXQfMH"
      }
    },
    {
      "cell_type": "code",
      "source": [
        "#Importing libraries \n",
        "from sklearn.tree import DecisionTreeRegressor\n",
        "#metrics import\n",
        "from sklearn.metrics import mean_absolute_error\n",
        "from sklearn.metrics import mean_squared_error\n",
        "from sklearn.metrics import r2_score"
      ],
      "metadata": {
        "id": "Muw-Wds_EQjD"
      },
      "execution_count": null,
      "outputs": []
    },
    {
      "cell_type": "code",
      "source": [
        "#fitting decision tree\n",
        "dt = DecisionTreeRegressor(random_state=42)\n",
        "dt.fit(X_train,y_train)"
      ],
      "metadata": {
        "id": "K-HCvYeoEphV"
      },
      "execution_count": null,
      "outputs": []
    },
    {
      "cell_type": "code",
      "source": [
        "#making predictions\n",
        "y_pred_train = dt.predict(X_train)\n",
        "y_pred_test = dt.predict(X_test)"
      ],
      "metadata": {
        "id": "7QPLmxtmEqL-"
      },
      "execution_count": null,
      "outputs": []
    },
    {
      "cell_type": "code",
      "source": [
        "MAE_train = mean_absolute_error(y_train,y_pred_train)\n",
        "print(\"MAE Train :\" ,MAE_train)\n",
        "\n",
        "MAE_test = mean_absolute_error(y_test,y_pred_test)\n",
        "print(\"MAE Test:\" ,MAE_test)\n",
        "\n",
        "MSE_train  = mean_squared_error(y_train,y_pred_train)\n",
        "print(\"MSE Train :\" , MSE_train)\n",
        "\n",
        "MSE_test  = mean_squared_error(y_test,y_pred_test)\n",
        "print(\"MSE Test:\" , MSE_test)\n",
        "\n",
        "RMSE_train = np.sqrt(MSE_train)\n",
        "print(\"RMSE Train:\" ,RMSE_train)\n",
        "\n",
        "RMSE_test = np.sqrt(MSE_test)\n",
        "print(\"RMSE Test:\" ,RMSE_test)\n",
        "\n",
        "RMSPE_train=RMSE_train/sales_mean\n",
        "print(\"RMSPE Train:\",RMSPE_train)\n",
        "\n",
        "RMSPE_test=RMSE_test/sales_mean\n",
        "print(\"RMSPE Test:\",RMSPE_test)\n",
        "\n",
        "R2_train= r2_score(y_train,y_pred_train)\n",
        "print(\"R2 Train:\" ,R2_train)\n",
        "\n",
        "R2_test= r2_score(y_test,y_pred_test)\n",
        "print(\"R2 Test:\" ,R2_test)\n",
        "\n",
        "ADJUSTED_R2_train=1-((1-R2_train)*(168879-1)/(168879-1-26))\n",
        "print(\"Adjusted R2 Train :\" ,ADJUSTED_R2_train)\n",
        "\n",
        "ADJUSTED_R2_test=1-((1-R2_test)*(168879-1)/(168879-1-26))\n",
        "print(\"Adjusted R2 Test:\" ,ADJUSTED_R2_test)"
      ],
      "metadata": {
        "id": "44dbttglEqtu"
      },
      "execution_count": null,
      "outputs": []
    },
    {
      "cell_type": "code",
      "source": [
        "# Plot the test results\n",
        "a = y_test.copy()\n",
        "a['Pred Sales'] = y_pred_test.tolist()\n",
        "df_plot = a.reset_index(level=['Date'])\n",
        "plot = df_plot.groupby('Date')['Sales','Pred Sales'].sum()\n",
        "sns.lineplot(data = plot)\n",
        "plt.ylabel(\"Total Sales and Predicted Sales\")\n",
        "plt.xticks(rotation = 25)"
      ],
      "metadata": {
        "id": "Y_UP77pZErhK"
      },
      "execution_count": null,
      "outputs": []
    },
    {
      "cell_type": "markdown",
      "source": [
        "The Root Mean Squared Error (RMSE) is the square root of the MSE. It is a measure of the average deviation of the predicted values from the actual values. In your case, the RMSE for the training set is 0.0011 and for the test set is 0.2743\n",
        "\n",
        "The Root Mean Squared Percentage Error (RMSPE) is the square root of the mean squared percentage error. It is a measure of the average deviation of the predicted values from the actual values in percentage. the RMSPE for the training set is 0.0001 and for the test set is 0.0313.\n",
        "\n",
        "The R-squared (R2) value is a measure of how well the decision tree model fits the data. It ranges from 0 to 1, with a higher value indicating a better fit. the R2 value for the training set is 0.9999 and for the test set is 0.9203\n",
        "\n",
        "Overall, it seems that the decision tree model is Accurate"
      ],
      "metadata": {
        "id": "e6GvbXZbQxWr"
      }
    },
    {
      "cell_type": "markdown",
      "source": [
        "##**RandomForestRegressor**"
      ],
      "metadata": {
        "id": "TWrGRZ57Cxd6"
      }
    },
    {
      "cell_type": "markdown",
      "source": [
        "A random forest regressor is an ensemble learning method for regression that combines multiple decision trees to improve the overall performance and stability of the predictions. Each decision tree is grown using a random subset of the data and a random subset of the features. This helps to reduce overfitting and increase the diversity of the models. When making predictions, the random forest takes the average or mode of the predictions made by all the decision trees in the forest. This averaging or voting process helps to smooth out the predictions and reduce the variance. Random forests are known for their ability to handle high dimensional and complex data, and can also be used for feature selection."
      ],
      "metadata": {
        "id": "LjrbGBWSRHf0"
      }
    },
    {
      "cell_type": "code",
      "source": [
        "from sklearn.ensemble import RandomForestRegressor"
      ],
      "metadata": {
        "id": "pQVS7oo5CvsK"
      },
      "execution_count": null,
      "outputs": []
    },
    {
      "cell_type": "code",
      "source": [
        "print(X_train.shape)\n",
        "print(X_test.shape)"
      ],
      "metadata": {
        "id": "tDWp4QqzC0PV"
      },
      "execution_count": null,
      "outputs": []
    },
    {
      "cell_type": "code",
      "source": [
        "rf = RandomForestRegressor()"
      ],
      "metadata": {
        "id": "i-Agm4h7C2Is"
      },
      "execution_count": null,
      "outputs": []
    },
    {
      "cell_type": "code",
      "source": [
        "rf.fit(X_train,y_train)\n",
        "Y_Train_pred_rf = rf.predict(X_train)\n",
        "Y_Test_pred_rf=rf.predict(X_test)"
      ],
      "metadata": {
        "id": "PcxeW6iXC25o"
      },
      "execution_count": null,
      "outputs": []
    },
    {
      "cell_type": "code",
      "source": [
        "MAE_train = mean_absolute_error(y_train,y_pred_train)\n",
        "print(\"MAE Train :\" ,MAE_train)\n",
        "\n",
        "MAE_test = mean_absolute_error(y_test,y_pred_test)\n",
        "print(\"MAE Test:\" ,MAE_test)\n",
        "\n",
        "MSE_train  = mean_squared_error(y_train,y_pred_train)\n",
        "print(\"MSE Train :\" , MSE_train)\n",
        "\n",
        "MSE_test  = mean_squared_error(y_test,y_pred_test)\n",
        "print(\"MSE Test:\" , MSE_test)\n",
        "\n",
        "RMSE_train = np.sqrt(MSE_train)\n",
        "print(\"RMSE Train:\" ,RMSE_train)\n",
        "\n",
        "RMSE_test = np.sqrt(MSE_test)\n",
        "print(\"RMSE Test:\" ,RMSE_test)\n",
        "\n",
        "RMSPE_train=RMSE_train/sales_mean\n",
        "print(\"RMSPE Train:\",RMSPE_train)\n",
        "\n",
        "RMSPE_test=RMSE_test/sales_mean\n",
        "print(\"RMSPE Test:\",RMSPE_test)\n",
        "\n",
        "R2_train= r2_score(y_train,y_pred_train)\n",
        "print(\"R2 Train:\" ,R2_train)\n",
        "\n",
        "R2_test= r2_score(y_test,y_pred_test)\n",
        "print(\"R2 Test:\" ,R2_test)\n",
        "\n",
        "ADJUSTED_R2_train=1-((1-R2_train)*(168879-1)/(168879-1-26))\n",
        "print(\"Adjusted R2 Train :\" ,ADJUSTED_R2_train)\n",
        "\n",
        "ADJUSTED_R2_test=1-((1-R2_test)*(168879-1)/(168879-1-26))\n",
        "print(\"Adjusted R2 Test:\" ,ADJUSTED_R2_test)"
      ],
      "metadata": {
        "id": "FMRjL5zyC3xn"
      },
      "execution_count": null,
      "outputs": []
    },
    {
      "cell_type": "code",
      "source": [
        "import pandas as pd\n",
        "\n",
        "# list of dictionaries representing evaluation metrics for different models\n",
        "models_eval = [{'Model': 'LinearRegression', 'MAE Train': 0.37, 'MAE Test': 0.37, 'MSE Train': 0.24,'MSE Test': 0.23,'RMSE Train': 0.49,'RMSE Test': 0.48,'RMSPE Train':0.056,'RMSPE Test': 0.055,'R2 Train': 0.75,'R2 Test':0.74,'Adjusted R2 Train': 0.75,'Adjusted R2 Test':0.74},\n",
        "               {'Model': 'DecisionTreeRegressor', 'MAE Train': 4.24, 'MAE Test': 0.19, 'MSE Train': 1.31,'MSE Test': 0.07,'RMSE Train': 0.00,'RMSE Test': 0.26,'RMSPE Train':0.00,'RMSPE Test': 0.03,'R2 Train': 0.99,'R2 Test':0.92,'Adjusted R2 Train': 0.99,'Adjusted R2 Test':0.92},\n",
        "               {'Model': 'RandomForestRegressor', 'MAE Train': 4.24, 'MAE Test': 0.19, 'MSE Train': 1.31,'MSE Test': 0.07,'RMSE Train': 0.00,'RMSE Test': 0.26,'RMSPE Train':0.00,'RMSPE Test': 0.03,'R2 Train': 0.99,'R2 Test':0.92,'Adjusted R2 Train': 0.99,'Adjusted R2 Test':0.92}]\n",
        "\n",
        "# function to create comparison table\n",
        "def create_comparison_table(models_eval):\n",
        "    comparison_table = pd.DataFrame(models_eval)\n",
        "    return comparison_table\n",
        "\n",
        "# create comparison table\n",
        "comparison_table = create_comparison_table(models_eval)\n",
        "comparison_table\n"
      ],
      "metadata": {
        "id": "IccqI4cch07B"
      },
      "execution_count": null,
      "outputs": []
    },
    {
      "cell_type": "markdown",
      "source": [
        "# **Conclusion**"
      ],
      "metadata": {
        "id": "gCX9965dhzqZ"
      }
    },
    {
      "cell_type": "markdown",
      "source": [
        "1. Cleaning and preprocessing the data, replacing null values, and merging the two datasets\n",
        "2. Exploratory Data Analysis (EDA) to understand the data and identify trends and relationships\n",
        "3. Feature engineering to combine competition and promotion columns and drop unnecessary columns\n",
        "4. One-hot encoding certain categorical variables\n",
        "5. Checking for outliers and distribution issues, replacing with suitable values\n",
        "6. Experimenting with various machine learning algorithms, including Linear Regression, Decision Tree, and Random Forest Regressor.\n",
        "\n",
        "The results show that Random Forest Regressor was the best performer with the lowest RMSPE and highest R2 score. Decision Tree also performed well but was less accurate than Random Forest. Overall, the Random Forest Regressor was the best model for predicting daily sales for Rossmann stores in Germany."
      ],
      "metadata": {
        "id": "Fjb1IsQkh3yE"
      }
    },
    {
      "cell_type": "markdown",
      "source": [
        "### ***Hurrah! You have successfully completed your Machine Learning Capstone Project !!!***"
      ],
      "metadata": {
        "id": "gIfDvo9L0UH2"
      }
    }
  ]
}