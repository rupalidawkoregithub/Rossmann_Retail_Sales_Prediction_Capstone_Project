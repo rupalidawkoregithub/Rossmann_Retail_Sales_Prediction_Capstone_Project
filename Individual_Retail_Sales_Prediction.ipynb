{
  "nbformat": 4,
  "nbformat_minor": 0,
  "metadata": {
    "colab": {
      "private_outputs": true,
      "provenance": [],
      "collapsed_sections": [
        "vncDsAP0Gaoa",
        "FJNUwmbgGyua",
        "w6K7xa23Elo4",
        "yQaldy8SH6Dl",
        "mDgbUHAGgjLW",
        "O_i_v8NEhb9l",
        "HhfV-JJviCcP",
        "Y3lxredqlCYt",
        "3RnN4peoiCZX",
        "x71ZqKXriCWQ",
        "7hBIi_osiCS2",
        "JlHwYmJAmNHm",
        "35m5QtbWiB9F",
        "PoPl-ycgm1ru",
        "H0kj-8xxnORC",
        "nA9Y7ga8ng1Z",
        "PBTbrJXOngz2",
        "u3PMJOP6ngxN",
        "dauF4eBmngu3",
        "bKJF3rekwFvQ",
        "MSa1f5Uengrz",
        "GF8Ens_Soomf",
        "0wOQAZs5pc--",
        "K5QZ13OEpz2H",
        "lQ7QKXXCp7Bj",
        "448CDAPjqfQr",
        "KSlN3yHqYklG",
        "t6dVpIINYklI",
        "ijmpgYnKYklI",
        "-JiQyfWJYklI",
        "EM7whBJCYoAo",
        "fge-S5ZAYoAp",
        "85gYPyotYoAp",
        "RoGjAbkUYoAp",
        "4Of9eVA-YrdM",
        "iky9q4vBYrdO",
        "F6T5p64dYrdO",
        "y-Ehk30pYrdP",
        "bamQiAODYuh1",
        "QHF8YVU7Yuh3",
        "GwzvFGzlYuh3",
        "qYpmQ266Yuh3",
        "OH-pJp9IphqM",
        "bbFf2-_FphqN",
        "_ouA3fa0phqN",
        "Seke61FWphqN",
        "PIIx-8_IphqN",
        "t27r6nlMphqO",
        "r2jJGEOYphqO",
        "b0JNsNcRphqO",
        "BZR9WyysphqO",
        "jj7wYXLtphqO",
        "eZrbJ2SmphqO",
        "rFu4xreNphqO",
        "YJ55k-q6phqO",
        "gCFgpxoyphqP",
        "OVtJsKN_phqQ",
        "lssrdh5qphqQ",
        "U2RJ9gkRphqQ",
        "1M8mcRywphqQ",
        "tgIPom80phqQ",
        "JMzcOPDDphqR",
        "x-EpHcCOp1ci",
        "X_VqEhTip1ck",
        "8zGJKyg5p1ck",
        "PVzmfK_Ep1ck",
        "n3dbpmDWp1ck",
        "ylSl6qgtp1ck",
        "ZWILFDl5p1ck",
        "M7G43BXep1ck",
        "Ag9LCva-p1cl",
        "E6MkPsBcp1cl",
        "2cELzS2fp1cl",
        "3MPXvC8up1cl",
        "NC_X3p0fY2L0",
        "UV0SzAkaZNRQ",
        "YPEH6qLeZNRQ",
        "q29F0dvdveiT",
        "EXh0U9oCveiU",
        "22aHeOlLveiV",
        "g-ATYxFrGrvw",
        "Yfr_Vlr8HBkt",
        "8yEUt7NnHlrM",
        "tEA2Xm5dHt1r",
        "I79__PHVH19G",
        "Ou-I18pAyIpj",
        "fF3858GYyt-u",
        "4_0_7-oCpUZd",
        "hwyV_J3ipUZe",
        "3yB-zSqbpUZe",
        "dEUvejAfpUZe",
        "Fd15vwWVpUZf",
        "bn_IUdTipZyH",
        "49K5P_iCpZyH",
        "Nff-vKELpZyI",
        "kLW572S8pZyI",
        "dWbDXHzopZyI",
        "yLjJCtPM0KBk",
        "xiyOF9F70UgQ",
        "7wuGOrhz0itI",
        "id1riN9m0vUs",
        "578E2V7j08f6",
        "89xtkJwZ18nB",
        "67NQN5KX2AMe",
        "Iwf50b-R2tYG",
        "GMQiZwjn3iu7",
        "WVIkgGqN3qsr",
        "XkPnILGE3zoT",
        "Hlsf0x5436Go",
        "mT9DMSJo4nBL",
        "c49ITxTc407N",
        "OeJFEK0N496M",
        "9ExmJH0g5HBk",
        "cJNqERVU536h",
        "k5UmGsbsOxih",
        "T0VqWOYE6DLQ",
        "qBMux9mC6MCf",
        "-oLEiFgy-5Pf",
        "C74aWNz2AliB",
        "2DejudWSA-a0",
        "pEMng2IbBLp7",
        "rAdphbQ9Bhjc",
        "TNVZ9zx19K6k",
        "nqoHp30x9hH9",
        "rMDnDkt2B6du",
        "yiiVWRdJDDil",
        "1UUpS68QDMuG",
        "kexQrXU-DjzY",
        "T5CmagL3EC8N",
        "BhH2vgX9EjGr",
        "qjKvONjwE8ra",
        "P1XJ9OREExlT",
        "VFOzZv6IFROw",
        "TIqpNgepFxVj",
        "VfCC591jGiD4",
        "OB4l2ZhMeS1U",
        "ArJBuiUVfxKd",
        "4qY1EAkEfxKe",
        "PiV4Ypx8fxKe",
        "TfvqoZmBfxKf",
        "dJ2tPlVmpsJ0",
        "JWYfwnehpsJ1",
        "-jK_YjpMpsJ2",
        "HAih1iBOpsJ2",
        "zVGeBEFhpsJ2",
        "bmKjuQ-FpsJ3",
        "Fze-IPXLpx6K",
        "7AN1z2sKpx6M",
        "9PIHJqyupx6M",
        "_-qAgymDpx6N",
        "Z-hykwinpx6N",
        "h_CCil-SKHpo",
        "cBFFvTBNJzUa",
        "HvGl1hHyA_VK",
        "EyNgTHvd2WFk",
        "KH5McJBi2d8v",
        "iW_Lq9qf2h6X",
        "-Kee-DAl2viO",
        "gCX9965dhzqZ",
        "gIfDvo9L0UH2"
      ],
      "include_colab_link": true
    },
    "kernelspec": {
      "name": "python3",
      "display_name": "Python 3"
    },
    "language_info": {
      "name": "python"
    },
    "gpuClass": "standard"
  },
  "cells": [
    {
      "cell_type": "markdown",
      "metadata": {
        "id": "view-in-github",
        "colab_type": "text"
      },
      "source": [
        "<a href=\"https://colab.research.google.com/github/rupalidawkoregithub/Rossmann_Retail_Sales_Prediction_Capstone_Project/blob/main/Individual_Retail_Sales_Prediction.ipynb\" target=\"_parent\"><img src=\"https://colab.research.google.com/assets/colab-badge.svg\" alt=\"Open In Colab\"/></a>"
      ]
    },
    {
      "cell_type": "markdown",
      "source": [
        "# **Project Name**    - **Retail Sales Prediction**\n",
        "\n"
      ],
      "metadata": {
        "id": "vncDsAP0Gaoa"
      }
    },
    {
      "cell_type": "markdown",
      "source": [
        "##### **Project Type**     -    Regression\n",
        "##### **Contribution**     -    Individual\n",
        "##### **Name**             -    Rupali Dawkore\n"
      ],
      "metadata": {
        "id": "beRrZCGUAJYm"
      }
    },
    {
      "cell_type": "markdown",
      "source": [
        "# **Project Summary -**"
      ],
      "metadata": {
        "id": "FJNUwmbgGyua"
      }
    },
    {
      "cell_type": "markdown",
      "source": [
        "The main objective of this project was to build a predictive model to forecast the daily sales for 1115 Rossmann stores in Germany using historical sales data for 6 weeks in advance. The data provided consisted of 2 datasets, one with store information, sales, customers, and other details, and the other with store type, competition distance, and promotion information. \n",
        "## **Evaluation Criteria:**\n",
        "The evaluation criteria was based on the Root Mean Square Percentage Error (RMSPE). Lower the score better will be the prediction\n",
        "\n",
        "## **Problem Statement**:\n",
        "The main objective is to build a predictive Model,the task was to forecast the daily sales for Rossmann stores in Europe using historical sales data for 1,115 stores.\n",
        "\n",
        "## **Approach:**\n",
        "After loading the dataset and importing the libraries, first step was to clean the data and Replacing the Null values with it's suitable Mean,Meadian or Mode.\n",
        "Then we Merged the two dataset & We extract the Month,Year,WeekofYear from Date columns and also Understand each and every Variables After cleaning the data, EDA was performed In EDA We done Univariant ,Bivariant and Multivariant Comparision.We used many graphs like bar chart,pie chart,line chart,facegrid etc to show diffrent kind of relationship between variables.\n",
        "It included statistical analyzes in which specific trends,relationships and factors have been identified that had some impact on our dependent variable.We have done Year of Year ,Month of Month and Day of Day comparision & plot correlation matrics to see the relationship of every columns.\n",
        "the next step was feature engineering where competition and promotion columns were combined and unnecessary columns were dropped,\n",
        "Then we had worked on OneHotEncoding and encoded 'DayOfWeek','StoreType'&'Assortment' columns . The next step was to check for distribution and outliers and replace them with suitable values by doing Capping we used methods like z-score for Sales\n",
        "\n",
        "The final step was to experiment with various machine learning algorithms in the separate and suspended data. Following algorithms have been used viz. Linear regression,Decision Tree, Random Forest Regressor & hyperparameter tuning was performed and evaluated the performance of each model using\n",
        "a variety of metrics. And also implemented feature importance technique to understand which features were important for the prediction purpose.\n",
        "Linear Regression Model RMSPE and R2 score for train test:\n",
        "**Linear Regression:**\n",
        "RMSPE Train:0.05688450820238183\n",
        "\n",
        "RMSPE Test: 0.055890281246762465\n",
        "\n",
        "R2 Train: 0.751786052900501\n",
        "\n",
        "R2 Test: 0.7464744699494363\n",
        "\n",
        "Linear Regression didn't gave such good score so we tried Random Forest,\n",
        "\n",
        "**Random Forest:**\n",
        "\n",
        "RMSPE Train: 0.0068497492138425665\n",
        "\n",
        "RMPSE Test: 0.021876457462720905\n",
        "\n",
        "R2 Train: 0.996400953086413\n",
        "\n",
        "R2 Test: 0.9611578642172859\n",
        "\n",
        "if R-squared score was the best for random forest, it means that the random forest model fits the data well and it explains a large portion of the variability in the target variable.\n",
        "\n",
        "then for betterment we tried Decision Train and Also got the best score but less accurate then RF\n",
        "\n",
        "**Decision Tree:**\n",
        "\n",
        "RMSPE Train: 0.00013284138986048634\n",
        "\n",
        "RMPSE Test: 0.031322119805353356\n",
        "\n",
        "R2 Train: 0.9999986463543659\n",
        "\n",
        "R2 Test: 0.9203746412500768\n",
        "\n",
        "To compare the Accuracy among different regression models, RMSE is a better option as it is simple to calculate and differentiable.So, after comparing RMSE and RMSPE values it is evident that Random Forest Regressor is the best performer. "
      ],
      "metadata": {
        "id": "F6v_1wHtG2nS"
      }
    },
    {
      "cell_type": "markdown",
      "source": [
        "# **GitHub Link -**"
      ],
      "metadata": {
        "id": "w6K7xa23Elo4"
      }
    },
    {
      "cell_type": "markdown",
      "source": [
        "###**Rupali Dawkore**\n",
        "\n",
        "https://github.com/rupalidawkoregithub/Rossmann_Retail_Sales_Prediction_Capstone_Project/blob/main/Individual_Retail_Sales_Prediction.ipynb"
      ],
      "metadata": {
        "id": "h1o69JH3Eqqn"
      }
    },
    {
      "cell_type": "markdown",
      "source": [
        "# **Problem Statement**\n"
      ],
      "metadata": {
        "id": "yQaldy8SH6Dl"
      }
    },
    {
      "cell_type": "markdown",
      "source": [
        "Rossmann operates over 3,000 drug stores in 7 European countries. Currently, Rossmann store managers are tasked with predicting their daily sales for up to six weeks in advance. Store sales are influenced by many factors, including promotions, competition, school and state holidays, seasonality, and locality. With thousands of individual managers predicting sales based on their unique circumstances, the accuracy of results can be quite varied.\n",
        "You are provided with historical sales data for 1,115 Rossmann stores. The task is to forecast the \"Sales\" column for the test set. Note that some stores in the dataset were temporarily closed for refurbishment."
      ],
      "metadata": {
        "id": "DpeJGUA3kjGy"
      }
    },
    {
      "cell_type": "markdown",
      "source": [
        "# **General Guidelines** : -  "
      ],
      "metadata": {
        "id": "mDgbUHAGgjLW"
      }
    },
    {
      "cell_type": "markdown",
      "source": [
        "1.   Well-structured, formatted, and commented code is required. \n",
        "2.   Exception Handling, Production Grade Code & Deployment Ready Code will be a plus. Those students will be awarded some additional credits. \n",
        "     \n",
        "     The additional credits will have advantages over other students during Star Student selection.\n",
        "       \n",
        "             [ Note: - Deployment Ready Code is defined as, the whole .ipynb notebook should be executable in one go\n",
        "                       without a single error logged. ]\n",
        "\n",
        "3.   Each and every logic should have proper comments.\n",
        "4. You may add as many number of charts you want. Make Sure for each and every chart the following format should be answered.\n",
        "        \n",
        "\n",
        "```\n",
        "# Chart visualization code\n",
        "```\n",
        "            \n",
        "\n",
        "*   Why did you pick the specific chart?\n",
        "*   What is/are the insight(s) found from the chart?\n",
        "* Will the gained insights help creating a positive business impact? \n",
        "Are there any insights that lead to negative growth? Justify with specific reason.\n",
        "\n",
        "5. You have to create at least 15 logical & meaningful charts having important insights.\n",
        "\n",
        "\n",
        "[ Hints : - Do the Vizualization in  a structured way while following \"UBM\" Rule. \n",
        "\n",
        "U - Univariate Analysis,\n",
        "\n",
        "B - Bivariate Analysis (Numerical - Categorical, Numerical - Numerical, Categorical - Categorical)\n",
        "\n",
        "M - Multivariate Analysis\n",
        " ]\n",
        "\n",
        "\n",
        "\n",
        "\n",
        "\n",
        "6. You may add more ml algorithms for model creation. Make sure for each and every algorithm, the following format should be answered.\n",
        "\n",
        "\n",
        "*   Explain the ML Model used and it's performance using Evaluation metric Score Chart.\n",
        "\n",
        "\n",
        "*   Cross- Validation & Hyperparameter Tuning\n",
        "\n",
        "*   Have you seen any improvement? Note down the improvement with updates Evaluation metric Score Chart.\n",
        "\n",
        "*   Explain each evaluation metric's indication towards business and the business impact pf the ML model used.\n",
        "\n",
        "\n",
        "\n",
        "\n",
        "\n",
        "\n",
        "\n",
        "\n",
        "\n",
        "\n",
        "\n",
        "\n",
        "\n",
        "\n",
        "\n",
        "\n",
        "\n",
        "\n"
      ],
      "metadata": {
        "id": "ZrxVaUj-hHfC"
      }
    },
    {
      "cell_type": "markdown",
      "source": [
        "# ***Let's Begin !***"
      ],
      "metadata": {
        "id": "O_i_v8NEhb9l"
      }
    },
    {
      "cell_type": "markdown",
      "source": [
        "## ***1. Know Your Data***"
      ],
      "metadata": {
        "id": "HhfV-JJviCcP"
      }
    },
    {
      "cell_type": "markdown",
      "source": [
        "### Import Libraries"
      ],
      "metadata": {
        "id": "Y3lxredqlCYt"
      }
    },
    {
      "cell_type": "code",
      "source": [
        "# Import Libraries\n",
        "import pandas as pd\n",
        "import numpy as np\n",
        "import matplotlib as mpl\n",
        "import matplotlib.pyplot as plt\n",
        "%matplotlib inline\n",
        "import seaborn as sns\n",
        "plt.rcParams.update({'figure.figsize':(8,5),'figure.dpi':100})\n",
        "from datetime import datetime\n",
        "\n",
        "import warnings    \n",
        "warnings.filterwarnings('ignore')\n",
        "\n",
        "# import sklearn libraries\n",
        "from sklearn.model_selection import train_test_split\n",
        "from sklearn.linear_model import LinearRegression\n",
        "from sklearn.metrics import mean_squared_error\n",
        "from sklearn.linear_model import BayesianRidge\n",
        "from sklearn.linear_model import LassoLars\n",
        "from sklearn.tree import DecisionTreeRegressor\n",
        "from sklearn.ensemble import RandomForestRegressor\n",
        "from sklearn.neighbors import KNeighborsRegressor\n",
        "from sklearn.model_selection import RandomizedSearchCV\n",
        "from sklearn.metrics import mean_squared_error\n",
        "from sklearn.metrics import r2_score\n",
        "from sklearn.preprocessing import MinMaxScaler\n",
        "from sklearn.linear_model import ElasticNet\n",
        "     "
      ],
      "metadata": {
        "id": "M8Vqi-pPk-HR"
      },
      "execution_count": null,
      "outputs": []
    },
    {
      "cell_type": "markdown",
      "source": [
        "###Mount the Drive and Import the Dataset"
      ],
      "metadata": {
        "id": "9GS-Bgy0v0OQ"
      }
    },
    {
      "cell_type": "code",
      "source": [
        "# Mount the Google Drive for Import the Dataset\n",
        "from google.colab import drive\n",
        "drive.mount('/content/drive')"
      ],
      "metadata": {
        "id": "YBeTLFxSwIp2"
      },
      "execution_count": null,
      "outputs": []
    },
    {
      "cell_type": "markdown",
      "source": [
        "### Dataset Loading"
      ],
      "metadata": {
        "id": "3RnN4peoiCZX"
      }
    },
    {
      "cell_type": "code",
      "source": [
        "# Load Dataset\n",
        "df1 = pd.read_csv('/content/drive/MyDrive/ML Regression /Rossmann Stores Data.csv')\n",
        "df2 = pd.read_csv('/content/drive/MyDrive/ML Regression /store.csv')"
      ],
      "metadata": {
        "id": "4CkvbW_SlZ_R"
      },
      "execution_count": null,
      "outputs": []
    },
    {
      "cell_type": "markdown",
      "source": [
        "**Merge the Rossmann_df and Store_df csv by column 'Store' as in both csv Store column is common.**"
      ],
      "metadata": {
        "id": "Zjy2rlC03USX"
      }
    },
    {
      "cell_type": "code",
      "source": [
        "df = pd.merge(df1,df2, on='Store', how='left')"
      ],
      "metadata": {
        "id": "ndesU-IS3CEw"
      },
      "execution_count": null,
      "outputs": []
    },
    {
      "cell_type": "markdown",
      "source": [
        "### Dataset First View"
      ],
      "metadata": {
        "id": "x71ZqKXriCWQ"
      }
    },
    {
      "cell_type": "code",
      "source": [
        "# Dataset First Look \n",
        "df.head()"
      ],
      "metadata": {
        "id": "LWNFOSvLl09H"
      },
      "execution_count": null,
      "outputs": []
    },
    {
      "cell_type": "code",
      "source": [
        "df.tail()\n"
      ],
      "metadata": {
        "id": "ZGVXaCF3EHhm"
      },
      "execution_count": null,
      "outputs": []
    },
    {
      "cell_type": "markdown",
      "source": [
        "### Dataset Rows & Columns count"
      ],
      "metadata": {
        "id": "7hBIi_osiCS2"
      }
    },
    {
      "cell_type": "code",
      "source": [
        "# Dataset Rows & Columns count\n",
        "df.shape"
      ],
      "metadata": {
        "id": "Kllu7SJgmLij"
      },
      "execution_count": null,
      "outputs": []
    },
    {
      "cell_type": "markdown",
      "source": [
        "### Dataset Information"
      ],
      "metadata": {
        "id": "JlHwYmJAmNHm"
      }
    },
    {
      "cell_type": "code",
      "source": [
        "# Dataset Info\n",
        "df.info()"
      ],
      "metadata": {
        "id": "e9hRXRi6meOf"
      },
      "execution_count": null,
      "outputs": []
    },
    {
      "cell_type": "code",
      "source": [
        "df.describe()"
      ],
      "metadata": {
        "id": "-0Ufy7skElsB"
      },
      "execution_count": null,
      "outputs": []
    },
    {
      "cell_type": "markdown",
      "source": [
        "#### Duplicate Values"
      ],
      "metadata": {
        "id": "35m5QtbWiB9F"
      }
    },
    {
      "cell_type": "markdown",
      "source": [
        "\"Duplication\" just means that you have repeated data in your dataset. This could be due to things like data entry errors or data collection methods. "
      ],
      "metadata": {
        "id": "xtRD-FREMB6v"
      }
    },
    {
      "cell_type": "code",
      "source": [
        "# Dataset Duplicate Value Count\n",
        "len(df[df.duplicated()])"
      ],
      "metadata": {
        "id": "1sLdpKYkmox0"
      },
      "execution_count": null,
      "outputs": []
    },
    {
      "cell_type": "markdown",
      "source": [
        "There is no duplicates values in **Rossmann Store Dataset**."
      ],
      "metadata": {
        "id": "jifVILaNbNOb"
      }
    },
    {
      "cell_type": "markdown",
      "source": [
        "#### Missing Values/Null Values"
      ],
      "metadata": {
        "id": "PoPl-ycgm1ru"
      }
    },
    {
      "cell_type": "code",
      "source": [
        "# Missing Values/Null Values Count\n",
        "print(df.isnull().sum())"
      ],
      "metadata": {
        "id": "GgHWkxvamxVg"
      },
      "execution_count": null,
      "outputs": []
    },
    {
      "cell_type": "markdown",
      "source": [
        "In Rossmann store data out of **1017209 entries** there are missing values for the columns:\n",
        "\n",
        "**CompetitionDistance**- distance in meters to the nearest competitor store, the distribution plot would give us an idea about the distances at which generally the stores are opened and we would impute the values accordingly.\n",
        "\n",
        "**CompetitionOpenSinceMonth**- gives the approximate month of the time the nearest competitor was opened, mode of the column would tell us the most occuring month.\n",
        "\n",
        "**CompetitionOpenSinceYear**- gives the approximate year of the time the nearest competitor was opened, mode of the column would tell us the most occuring month.\n",
        "\n",
        "**Promo2SinceWeek, Promo2SinceYear and PromoInterval** are NaN wherever Promo2 is 0 or False as can be seen in the first look of the dataset. They can be replaced with 0."
      ],
      "metadata": {
        "id": "hgm_JhjZXjJq"
      }
    },
    {
      "cell_type": "code",
      "source": [
        "# Visualizing the missing values\n",
        "# Checking Null Value by plotting Heatmap for Rossmann dataset\n",
        "sns.heatmap(df.isnull(), cbar=False)"
      ],
      "metadata": {
        "id": "3q5wnI3om9sJ"
      },
      "execution_count": null,
      "outputs": []
    },
    {
      "cell_type": "markdown",
      "source": [
        "## ***2. Understanding Your Variables***"
      ],
      "metadata": {
        "id": "nA9Y7ga8ng1Z"
      }
    },
    {
      "cell_type": "code",
      "source": [
        "# Dataset Columns\n",
        "df.columns"
      ],
      "metadata": {
        "id": "j7xfkqrt5Ag5"
      },
      "execution_count": null,
      "outputs": []
    },
    {
      "cell_type": "code",
      "source": [
        "# Dataset Describe\n",
        "df.describe(include='all')"
      ],
      "metadata": {
        "id": "DnOaZdaE5Q5t"
      },
      "execution_count": null,
      "outputs": []
    },
    {
      "cell_type": "code",
      "source": [
        "df['DayOfWeek'].value_counts()"
      ],
      "metadata": {
        "id": "5I7iSIjHN07C"
      },
      "execution_count": null,
      "outputs": []
    },
    {
      "cell_type": "code",
      "source": [
        "df['Open'].value_counts()"
      ],
      "metadata": {
        "id": "rw0Macixqwhl"
      },
      "execution_count": null,
      "outputs": []
    },
    {
      "cell_type": "code",
      "source": [
        "df['Promo'].value_counts()"
      ],
      "metadata": {
        "id": "l0zCKoC5OAD8"
      },
      "execution_count": null,
      "outputs": []
    },
    {
      "cell_type": "code",
      "source": [
        "df['StateHoliday'].value_counts()"
      ],
      "metadata": {
        "id": "0MqVED66rJHk"
      },
      "execution_count": null,
      "outputs": []
    },
    {
      "cell_type": "code",
      "source": [
        "df['SchoolHoliday'].value_counts()"
      ],
      "metadata": {
        "id": "-1JMp9QJOX78"
      },
      "execution_count": null,
      "outputs": []
    },
    {
      "cell_type": "code",
      "source": [
        "df['StoreType'].value_counts()"
      ],
      "metadata": {
        "id": "JS_M8uwoOrwK"
      },
      "execution_count": null,
      "outputs": []
    },
    {
      "cell_type": "code",
      "source": [
        "df['Assortment'].value_counts()"
      ],
      "metadata": {
        "id": "oD7EAJxtNpmc"
      },
      "execution_count": null,
      "outputs": []
    },
    {
      "cell_type": "code",
      "source": [
        "df['CompetitionOpenSinceMonth'].value_counts()"
      ],
      "metadata": {
        "id": "iuSwCn0UO4zS"
      },
      "execution_count": null,
      "outputs": []
    },
    {
      "cell_type": "code",
      "source": [
        "df['CompetitionOpenSinceYear'].value_counts()"
      ],
      "metadata": {
        "id": "PQri2hG6PLRC"
      },
      "execution_count": null,
      "outputs": []
    },
    {
      "cell_type": "code",
      "source": [
        "df['Promo2'].value_counts()"
      ],
      "metadata": {
        "id": "58qlshV2PrEA"
      },
      "execution_count": null,
      "outputs": []
    },
    {
      "cell_type": "markdown",
      "source": [
        "### Variables Description "
      ],
      "metadata": {
        "id": "PBTbrJXOngz2"
      }
    },
    {
      "cell_type": "markdown",
      "source": [
        "**Rossmann Stores Data.csv** - historical data including Sales.\n",
        "\n",
        "**store.csv** - supplemental information about the stores.\n"
      ],
      "metadata": {
        "id": "aJV4KIxSnxay"
      }
    },
    {
      "cell_type": "markdown",
      "source": [
        "###Data fields"
      ],
      "metadata": {
        "id": "T7H6IRgLEBFm"
      }
    },
    {
      "cell_type": "markdown",
      "source": [
        "  \n",
        "**1. Id** - an Id that represents a (Store, Date) duple within the set\n",
        "\n",
        "**2. Store**- a unique Id for each store\n",
        "\n",
        "**3. Sales** - the turnover for any given day (Dependent Variable)\n",
        "\n",
        "**4. Customers** - the number of customers on a given day\n",
        "\n",
        "**5. Open** - an indicator for whether the store was open: 0 = closed, 1 = open\n",
        "\n",
        "**6. StateHoliday** - indicates a state holiday. Normally all stores, with few exceptions, are closed on state holidays. Note that all schools are closed on public holidays and weekends. a = public holiday, b = Easter holiday, c = Christmas, 0 = None\n",
        "\n",
        "**7. SchoolHoliday** - indicates if the (Store, Date) was affected by the closure of public schools\n",
        "\n",
        "**8. StoreType** - differentiates between 4 different store models: a, b, c, d\n",
        "\n",
        "**9. Assortment** - describes an assortment level: a = basic, b = extra, c = extended. An assortment strategy in retailing involves the number and type of products that stores display for purchase by consumers.\n",
        "\n",
        "**10. CompetitionDistance** - distance in meters to the nearest competitor store\n",
        "\n",
        "**11. CompetitionOpenSince[Month/Year]** - gives the approximate year and month of the time the nearest competitor was opened\n",
        "\n",
        "**12. Promo** - indicates whether a store is running a promo on that day\n",
        "\n",
        "**13. Promo2** - Promo2 is a continuing and consecutive promotion for some stores: 0 = store is not participating, 1 = store is participating\n",
        "\n",
        "**14. Promo2Since[Year/Week]** - describes the year and calendar week when the store started participating in Promo2\n",
        "\n",
        "**15. PromoInterval** - describes the consecutive intervals Promo2 is started, naming the months the promotion is started anew. E.g. \"Feb,May,Aug,Nov\" means each round starts in February, May, August, November of any given year for that store\n",
        "\n"
      ],
      "metadata": {
        "id": "_2G5qOt2dYrx"
      }
    },
    {
      "cell_type": "markdown",
      "source": [
        "### Check Unique Values for each variable."
      ],
      "metadata": {
        "id": "u3PMJOP6ngxN"
      }
    },
    {
      "cell_type": "code",
      "source": [
        "#check unique value in Rossman dataset\n",
        "count=df[['Store','DayOfWeek','Date','Sales','Customers','Open','Promo','StateHoliday','SchoolHoliday','StoreType','Assortment','CompetitionDistance','CompetitionOpenSinceMonth','CompetitionOpenSinceYear','Promo2','Promo2SinceWeek','Promo2SinceYear','PromoInterval']].nunique()\n",
        "print(\"Unique value count:\\n\",count)"
      ],
      "metadata": {
        "id": "zms12Yq5n-jE"
      },
      "execution_count": null,
      "outputs": []
    },
    {
      "cell_type": "code",
      "source": [
        "df.info()"
      ],
      "metadata": {
        "id": "AdASdDlcx8Od"
      },
      "execution_count": null,
      "outputs": []
    },
    {
      "cell_type": "markdown",
      "source": [
        "Checking unique value count for each columns."
      ],
      "metadata": {
        "id": "LAqDdxLDN8TH"
      }
    },
    {
      "cell_type": "markdown",
      "source": [
        "## 3. ***Data Wrangling***"
      ],
      "metadata": {
        "id": "dauF4eBmngu3"
      }
    },
    {
      "cell_type": "markdown",
      "source": [
        "### Data Wrangling Code"
      ],
      "metadata": {
        "id": "bKJF3rekwFvQ"
      }
    },
    {
      "cell_type": "code",
      "source": [
        "# Write your code to make your dataset analysis ready."
      ],
      "metadata": {
        "id": "wk-9a2fpoLcV"
      },
      "execution_count": null,
      "outputs": []
    },
    {
      "cell_type": "code",
      "source": [
        "# Distribution plot of competition distance\n",
        "plt.figure(figsize=(7,4))\n",
        "sns.distplot(df['CompetitionDistance'],color='blue')\n",
        "plt.legend(['CompetitionDistance'])\n",
        "#plt.xlabel('Competition Distance Distribution Plot')\n",
        "plt.show()"
      ],
      "metadata": {
        "id": "hzO94vHpFCub"
      },
      "execution_count": null,
      "outputs": []
    },
    {
      "cell_type": "markdown",
      "source": [
        "It seems like most of the values of the CompetitionDistance are towards the left and the distribution is skewed on the right. Median is more robust to outlier effect."
      ],
      "metadata": {
        "id": "tcWJu4ICFNz2"
      }
    },
    {
      "cell_type": "code",
      "source": [
        "# Calculate mean value\n",
        "Mean_value = df['CompetitionDistance'].mean()\n",
        "Mean_value"
      ],
      "metadata": {
        "id": "F8Yf7-OHFX85"
      },
      "execution_count": null,
      "outputs": []
    },
    {
      "cell_type": "code",
      "source": [
        "# Calculate median value\n",
        "Median_value =  df['CompetitionDistance'].median()\n",
        "Median_value"
      ],
      "metadata": {
        "id": "1HvIn40PFjLR"
      },
      "execution_count": null,
      "outputs": []
    },
    {
      "cell_type": "code",
      "source": [
        "# Calculate mode value\n",
        "Mode_value =  df['CompetitionDistance'].mode()\n",
        "Mode_value"
      ],
      "metadata": {
        "id": "A15eInVXFql0"
      },
      "execution_count": null,
      "outputs": []
    },
    {
      "cell_type": "code",
      "source": [
        "# Filling competition distance with the median value\n",
        "df['CompetitionDistance'].fillna(Median_value, inplace = True)"
      ],
      "metadata": {
        "id": "QYlO6n2AF8wQ"
      },
      "execution_count": null,
      "outputs": []
    },
    {
      "cell_type": "code",
      "source": [
        "# Checking that null values replace or not\n",
        "df['CompetitionDistance'].isnull().value_counts()"
      ],
      "metadata": {
        "id": "DgH1ZDFJGEqq"
      },
      "execution_count": null,
      "outputs": []
    },
    {
      "cell_type": "code",
      "source": [
        "# Distribution plot of Competition Open Since Month\n",
        "plt.figure(figsize=(7,7))\n",
        "sns.distplot(df['CompetitionOpenSinceMonth'],color='green')\n",
        "plt.legend(['CompetitionOpenSinceMonth'])\n",
        "plt.xlabel('Competition Distance Distribution Plot')\n",
        "plt.show()"
      ],
      "metadata": {
        "id": "tIG_4UFdGS9q"
      },
      "execution_count": null,
      "outputs": []
    },
    {
      "cell_type": "markdown",
      "source": [
        "From the above plot we can say that the values of the CompetitionOpenSinceMonth is left skewed. Mode is more robust to outlier effect."
      ],
      "metadata": {
        "id": "MlyZ6PBPGdho"
      }
    },
    {
      "cell_type": "code",
      "source": [
        "# Filling competition distance with the median value\n",
        "df['CompetitionOpenSinceMonth'].fillna(Mode_value[0], inplace = True)\n",
        "# Checking that null values replace or not\n",
        "df['CompetitionOpenSinceMonth'].isnull().value_counts()"
      ],
      "metadata": {
        "id": "vSint4h1GwuQ"
      },
      "execution_count": null,
      "outputs": []
    },
    {
      "cell_type": "code",
      "source": [
        "# Distribution plot of Competition Open Since Year\n",
        "plt.figure(figsize=(7,4))\n",
        "sns.distplot(df['CompetitionOpenSinceYear'],color='orange')\n",
        "plt.legend(['CompetitionOpenSinceYear'])\n",
        "plt.xlabel('Competition Distance Distribution Plot')\n",
        "plt.show()"
      ],
      "metadata": {
        "id": "5qs04PnbG6uv"
      },
      "execution_count": null,
      "outputs": []
    },
    {
      "cell_type": "markdown",
      "source": [
        "From the above plot we can say that the values of the CompetitionOpenSinceYear is left skewed. Mode is more robust to outlier effect."
      ],
      "metadata": {
        "id": "icpRqzLUHPP9"
      }
    },
    {
      "cell_type": "code",
      "source": [
        "# Calculate mean value\n",
        "Mean_value = df['CompetitionOpenSinceYear'].mean()\n",
        "print(\"Mean Value =\",Mean_value)\n",
        "# Calculate mean value\n",
        "Median_value = df['CompetitionOpenSinceYear'].median()\n",
        "print(\"Median Value =\",Median_value)\n",
        "# Calculate mean value\n",
        "Mode_value = df['CompetitionOpenSinceYear'].mode()\n",
        "print(\"Mode Value =\",Mode_value)"
      ],
      "metadata": {
        "id": "j-KFVW0SHdrD"
      },
      "execution_count": null,
      "outputs": []
    },
    {
      "cell_type": "code",
      "source": [
        "# Filling competition distance with the median value\n",
        "df['CompetitionOpenSinceYear'].fillna(Mode_value[0], inplace = True)\n",
        "# Checking that null values replace or not\n",
        "df['CompetitionOpenSinceYear'].isnull().value_counts()"
      ],
      "metadata": {
        "id": "wsxZ_sbNIHCF"
      },
      "execution_count": null,
      "outputs": []
    },
    {
      "cell_type": "code",
      "execution_count": null,
      "metadata": {
        "id": "IfPAtprJSbIG"
      },
      "outputs": [],
      "source": [
        "## Replacing the Null values with suitable value\n",
        "df[['Promo2SinceWeek','Promo2SinceYear']]=df[['Promo2SinceWeek','Promo2SinceYear']].replace(np.nan,0)"
      ]
    },
    {
      "cell_type": "code",
      "source": [
        "df['PromoInterval']=df['PromoInterval'].replace(np.nan,\"0\")"
      ],
      "metadata": {
        "id": "nknnGPFp5dSD"
      },
      "execution_count": null,
      "outputs": []
    },
    {
      "cell_type": "code",
      "source": [
        "df.info()"
      ],
      "metadata": {
        "id": "9zYSBHymJOOj"
      },
      "execution_count": null,
      "outputs": []
    },
    {
      "cell_type": "code",
      "source": [
        "df.isnull().sum()"
      ],
      "metadata": {
        "id": "_rY-zqrKJXqz"
      },
      "execution_count": null,
      "outputs": []
    },
    {
      "cell_type": "code",
      "source": [
        "df.shape"
      ],
      "metadata": {
        "id": "QiJfLzP7aQjd"
      },
      "execution_count": null,
      "outputs": []
    },
    {
      "cell_type": "markdown",
      "source": [
        "**Checking Categorical columns** "
      ],
      "metadata": {
        "id": "BUhBbMLQCl2j"
      }
    },
    {
      "cell_type": "code",
      "source": [
        "from pandas.core.indexes.datetimelike import final\n",
        "categorical_variable = df.select_dtypes(object)\n",
        "categorical_variable"
      ],
      "metadata": {
        "id": "192T1vGgFJyx"
      },
      "execution_count": null,
      "outputs": []
    },
    {
      "cell_type": "markdown",
      "source": [
        "# Changing different dtypes to int type."
      ],
      "metadata": {
        "id": "coZNj2b6c0Vv"
      }
    },
    {
      "cell_type": "code",
      "source": [
        "#change into int type\n",
        "df['StateHoliday'].replace({'0':0}, inplace=True)"
      ],
      "metadata": {
        "id": "ZMJp1Q3_FsRf"
      },
      "execution_count": null,
      "outputs": []
    },
    {
      "cell_type": "code",
      "source": [
        "# code for changing format of date from object to datetime\n",
        "df['Date'] = pd.to_datetime(df['Date'], format= '%Y-%m-%d')"
      ],
      "metadata": {
        "id": "SETyg_uZX-H2"
      },
      "execution_count": null,
      "outputs": []
    },
    {
      "cell_type": "code",
      "source": [
        "print(df['Date'].min(),'Starting Date')\n",
        "print(df['Date'].max(),'Ending Date')"
      ],
      "metadata": {
        "id": "G1JcL9gKexEj"
      },
      "execution_count": null,
      "outputs": []
    },
    {
      "cell_type": "code",
      "source": [
        "#creating features from the date\n",
        "df['Year'] = df['Date'].dt.year\n",
        "df['Month'] = df['Date'].dt.month\n",
        "df['WeekOfYear'] = df['Date'].dt.weekofyear\n",
        "df['DayOfYear'] = df['Date'].dt.dayofyear\n",
        "years = df['Year'].unique()"
      ],
      "metadata": {
        "id": "vKUjhrGwsDbd"
      },
      "execution_count": null,
      "outputs": []
    },
    {
      "cell_type": "code",
      "source": [
        "years"
      ],
      "metadata": {
        "id": "nLo-6QVMGDwJ"
      },
      "execution_count": null,
      "outputs": []
    },
    {
      "cell_type": "code",
      "source": [
        "#sales over the years\n",
        "sales_df_2013 = df[df['Year']== 2013]\n",
        "sales_df_2014 = df[df['Year']==2014]\n",
        "sales_df_2015 = df[df['Year']== 2015]"
      ],
      "metadata": {
        "id": "Hhsnm-BvGNaK"
      },
      "execution_count": null,
      "outputs": []
    },
    {
      "cell_type": "code",
      "source": [
        "sales_df_2014"
      ],
      "metadata": {
        "id": "L2txo3LmHT2C"
      },
      "execution_count": null,
      "outputs": []
    },
    {
      "cell_type": "code",
      "source": [
        "#monthly sales\n",
        "sales_2013 = sales_df_2013.groupby('Month')['Sales'].sum().reset_index()\n",
        "sales_2014 = sales_df_2014.groupby('Month')['Sales'].sum().reset_index()\n",
        "sales_2015 = sales_df_2015.groupby('Month')['Sales'].sum().reset_index()"
      ],
      "metadata": {
        "id": "s_di_-NsGQXD"
      },
      "execution_count": null,
      "outputs": []
    },
    {
      "cell_type": "code",
      "source": [
        "sales_2013"
      ],
      "metadata": {
        "id": "b4PJwYg8HPPc"
      },
      "execution_count": null,
      "outputs": []
    },
    {
      "cell_type": "code",
      "source": [
        "#we need only meaningful numeric columns here, let's drop the unnecessary to get a clear picture\n",
        "columns_to_drop = ['Store', 'Year', 'WeekOfYear', 'DayOfYear']\n",
        "corr_df = df.drop(columns = columns_to_drop, axis =1)\n",
        "corr_df['StateHoliday'].replace({'a':1, 'b':1,'c':1}, inplace=True)"
      ],
      "metadata": {
        "id": "krw-drFIHjA-"
      },
      "execution_count": null,
      "outputs": []
    },
    {
      "cell_type": "code",
      "source": [
        "#correlation heatmap\n",
        "plt.figure(figsize=(16,10))\n",
        "sns.heatmap(corr_df.corr(), cmap=\"coolwarm\", annot=True)"
      ],
      "metadata": {
        "id": "AgtqywzRHoaP"
      },
      "execution_count": null,
      "outputs": []
    },
    {
      "cell_type": "code",
      "source": [
        "#df.drop(['Date'],axis=1,inplace=True)"
      ],
      "metadata": {
        "id": "SyHhQpftmryb"
      },
      "execution_count": null,
      "outputs": []
    },
    {
      "cell_type": "code",
      "source": [
        "#df.info()"
      ],
      "metadata": {
        "id": "wp2Hf8-YkIgL"
      },
      "execution_count": null,
      "outputs": []
    },
    {
      "cell_type": "code",
      "source": [
        "#no of observations for closed stores with 0 sales\n",
        "#(df[df.Open == 0]).shape"
      ],
      "metadata": {
        "id": "mqzw-xWHLWvR"
      },
      "execution_count": null,
      "outputs": []
    },
    {
      "cell_type": "code",
      "source": [
        "#since the stores closed had 0 sale value; removing the irrelevant part\n",
        "#df1 = df[df.Open != 0]\n",
        "#df1.drop('Open', axis=1, inplace=True)"
      ],
      "metadata": {
        "id": "1aotvSYrL_fE"
      },
      "execution_count": null,
      "outputs": []
    },
    {
      "cell_type": "markdown",
      "source": [
        "***This tells us we have a data of almost 3 years.***"
      ],
      "metadata": {
        "id": "0yobgDX4e57o"
      }
    },
    {
      "cell_type": "markdown",
      "source": [
        "**Converting StateHoliday to Numerics Value**"
      ],
      "metadata": {
        "id": "Ou7v2vjC98j9"
      }
    },
    {
      "cell_type": "code",
      "source": [
        "df['StateHoliday'].value_counts()"
      ],
      "metadata": {
        "id": "oq1TCSGrVc3N"
      },
      "execution_count": null,
      "outputs": []
    },
    {
      "cell_type": "code",
      "source": [
        "#replacing\n",
        "#df['StateHoliday'] = df['StateHoliday'].replace(['0'],0)"
      ],
      "metadata": {
        "id": "nnvBQv1g8iAO"
      },
      "execution_count": null,
      "outputs": []
    },
    {
      "cell_type": "code",
      "source": [
        "#df['StateHoliday'].replace({\"a\":1, \"b\":2, \"c\":3},inplace=True)"
      ],
      "metadata": {
        "id": "XZUC1inG9D8b"
      },
      "execution_count": null,
      "outputs": []
    },
    {
      "cell_type": "code",
      "source": [
        "#df.StateHoliday.unique()"
      ],
      "metadata": {
        "id": "i7RFi5S78j95"
      },
      "execution_count": null,
      "outputs": []
    },
    {
      "cell_type": "markdown",
      "source": [
        "**Converting StoreType to Numerics Value**"
      ],
      "metadata": {
        "id": "JAAX5SGVcy34"
      }
    },
    {
      "cell_type": "code",
      "source": [
        "#replacing\n",
        "#df['StoreType'] = df['StoreType'].replace(['0'],0)"
      ],
      "metadata": {
        "id": "oJUUeZhJE4VP"
      },
      "execution_count": null,
      "outputs": []
    },
    {
      "cell_type": "code",
      "source": [
        "#df['StoreType'].replace({\"a\":0, \"b\":1, \"c\":2,\"d\":3},inplace=True)"
      ],
      "metadata": {
        "id": "EjynqliiFLAG"
      },
      "execution_count": null,
      "outputs": []
    },
    {
      "cell_type": "code",
      "source": [
        "#df.sort_values(by=['StoreType'],inplace=True)"
      ],
      "metadata": {
        "id": "Z6o8zwXDEX7r"
      },
      "execution_count": null,
      "outputs": []
    },
    {
      "cell_type": "code",
      "source": [
        "#df.StoreType.unique()"
      ],
      "metadata": {
        "id": "DjLXUWbG2TE5"
      },
      "execution_count": null,
      "outputs": []
    },
    {
      "cell_type": "markdown",
      "source": [
        "**Converting Assortment to Numerics Value**"
      ],
      "metadata": {
        "id": "u4L6mQfgH7lp"
      }
    },
    {
      "cell_type": "code",
      "source": [
        "#replacing\n",
        "#df['Assortment'] = df['Assortment'].replace(['0'],0)"
      ],
      "metadata": {
        "id": "UbCT1mRgGHX2"
      },
      "execution_count": null,
      "outputs": []
    },
    {
      "cell_type": "code",
      "source": [
        "#df['Assortment'].replace({\"a\":0, \"b\":1, \"c\":2},inplace=True)"
      ],
      "metadata": {
        "id": "yHm3e3ijGNf2"
      },
      "execution_count": null,
      "outputs": []
    },
    {
      "cell_type": "code",
      "source": [
        "#df.sort_values(by=['Assortment'],inplace=True)"
      ],
      "metadata": {
        "id": "lyfED9h3Escq"
      },
      "execution_count": null,
      "outputs": []
    },
    {
      "cell_type": "code",
      "source": [
        "#df.Assortment.unique()"
      ],
      "metadata": {
        "id": "YpGdtNluF9_H"
      },
      "execution_count": null,
      "outputs": []
    },
    {
      "cell_type": "code",
      "source": [
        "df.PromoInterval.unique()"
      ],
      "metadata": {
        "id": "v4NQTbHz3gZi"
      },
      "execution_count": null,
      "outputs": []
    },
    {
      "cell_type": "markdown",
      "source": [
        "Let's do analysis of few variables\n",
        "\n"
      ],
      "metadata": {
        "id": "jD0NEVjUlKYG"
      }
    },
    {
      "cell_type": "markdown",
      "source": [
        "#Univariate Analysis"
      ],
      "metadata": {
        "id": "nY8IeqXV3qhv"
      }
    },
    {
      "cell_type": "markdown",
      "source": [
        "**Categorical variables**"
      ],
      "metadata": {
        "id": "CERTyIbFlQl4"
      }
    },
    {
      "cell_type": "code",
      "source": [
        "plt.figure(figsize=(5,3))\n",
        "sns.countplot(x=df['StateHoliday'])"
      ],
      "metadata": {
        "id": "Vub98yhK6Avs"
      },
      "execution_count": null,
      "outputs": []
    },
    {
      "cell_type": "code",
      "source": [
        "plt.figure(figsize=(5,3))\n",
        "sns.countplot(x=df['Open'])\n",
        "# here 0 --> closed\n",
        "# here 1 --> open"
      ],
      "metadata": {
        "id": "2TE6HTu7rSzt"
      },
      "execution_count": null,
      "outputs": []
    },
    {
      "cell_type": "code",
      "source": [
        "plt.figure(figsize=(5,3))\n",
        "sns.countplot(x=df['StoreType'])"
      ],
      "metadata": {
        "id": "PPV0_qTnnUc1"
      },
      "execution_count": null,
      "outputs": []
    },
    {
      "cell_type": "code",
      "source": [
        "Numeric_features = ['Date','Sales','Customers','CompetitionDistance','CompetitionOpenSinceYear','CompetitionOpenSinceMonth','Promo2SinceWeek','Promo2SinceYear']\n",
        "Categorical_feature = ['Store','DayOfWeek','Open','Promo','StateHoliday','SchoolHoliday','StoreType','Assortment','Promo2','PromoInterval']"
      ],
      "metadata": {
        "id": "Z1GVz_6zb4Kz"
      },
      "execution_count": null,
      "outputs": []
    },
    {
      "cell_type": "code",
      "source": [
        "df.skew()"
      ],
      "metadata": {
        "id": "wGZeUOWCCQAp"
      },
      "execution_count": null,
      "outputs": []
    },
    {
      "cell_type": "code",
      "source": [
        "\"\"\"# Boxplot of Sales to check outliers\n",
        "plt.figure(figsize=(20,10))\n",
        "for num,column in enumerate(Numeric_features[1:]):\n",
        "  plt.subplot(5,4,num+1)\n",
        "  sns.boxplot(df[column])\n",
        "  plt.title(f'{column.title()}',weight='bold')\n",
        "  plt.tight_layout()\"\"\""
      ],
      "metadata": {
        "id": "4hicKvZVZ1xT"
      },
      "execution_count": null,
      "outputs": []
    },
    {
      "cell_type": "code",
      "source": [
        "#numeric_features = ['Sales','Customers','CompetitionDistance','CompetitionOpenSinceYear']"
      ],
      "metadata": {
        "id": "8wKwDa0bDFQo"
      },
      "execution_count": null,
      "outputs": []
    },
    {
      "cell_type": "code",
      "source": [
        "#array_length = len(numeric_features)\n",
        "#print(array_length)"
      ],
      "metadata": {
        "id": "gJjedcXjDhKI"
      },
      "execution_count": null,
      "outputs": []
    },
    {
      "cell_type": "code",
      "source": [
        "\"\"\"def detect_outliers(df, feature):\n",
        "  \n",
        "    Q1, Q3 = np.percentile(df[feature], [25, 75])\n",
        "    IQR = Q3 - Q1\n",
        "    lwr_bound = Q1 - (1.5 * IQR)\n",
        "    upr_bound = Q3 + (1.5 * IQR)\n",
        "\n",
        "    outliers = df[(df[feature] < lwr_bound) | (df[feature] > upr_bound)]\n",
        "\n",
        "    print(f\"Lower bound: {lwr_bound}, upper bound:{upr_bound}, IQR:{IQR}\")\n",
        "    print(f\"Total number of outliers for {feature} are : {len(outliers)}\")\n",
        "    print(f\"Total percentage of outliers for {feature} is : {round(len(outliers) * 100 / len(df), 2)} %\")\n",
        "    print('--'*20)\n",
        "    # Treating Outliers\n",
        "    df.loc[df[feature] < lwr_bound, feature] = lwr_bound\n",
        "    df.loc[df[feature] > upr_bound, feature] = upr_bound\n",
        "    print('--'*20)\n",
        "features = ['Sales','Customers','CompetitionDistance','CompetitionOpenSinceYear']\n",
        "for feature in features:\n",
        "    detect_outliers(df, feature)\"\"\"\n"
      ],
      "metadata": {
        "id": "kDxUHwJxB1bS"
      },
      "execution_count": null,
      "outputs": []
    },
    {
      "cell_type": "code",
      "source": [
        "\"\"\"#  Rechecking Outliers\n",
        "plt.figure(figsize=(20,10))\n",
        "for num,column in enumerate(features):\n",
        "  plt.subplot(5,4,num+1)\n",
        "  sns.boxplot(df[column])\n",
        "  plt.title(f'{column.title()}',weight='bold')\n",
        "  plt.tight_layout()\"\"\"\n"
      ],
      "metadata": {
        "id": "dvUcoHs0pnTM"
      },
      "execution_count": null,
      "outputs": []
    },
    {
      "cell_type": "markdown",
      "source": [
        "**Checking Distribution Of Dependent Variable**"
      ],
      "metadata": {
        "id": "KFExQH9Qfd_P"
      }
    },
    {
      "cell_type": "code",
      "source": [
        "#from scipy.stats import norm"
      ],
      "metadata": {
        "id": "7kHmZb_AUN9i"
      },
      "execution_count": null,
      "outputs": []
    },
    {
      "cell_type": "code",
      "source": [
        "#distribution plot of Sales, as expected positively skewed\n",
        "#sns.distplot(x=df['Sales'])"
      ],
      "metadata": {
        "id": "cK9jDDb3bQ5B"
      },
      "execution_count": null,
      "outputs": []
    },
    {
      "cell_type": "code",
      "source": [
        "## transformation\n",
        "#df['Sales'] = np.log(df['Sales'])"
      ],
      "metadata": {
        "id": "ZWYmUKuYbb-m"
      },
      "execution_count": null,
      "outputs": []
    },
    {
      "cell_type": "code",
      "source": [
        "#df.dropna(inplace=True)"
      ],
      "metadata": {
        "id": "DBheMwNGbnrd"
      },
      "execution_count": null,
      "outputs": []
    },
    {
      "cell_type": "code",
      "source": [
        "#df.drop(df[df['Sales'] == float(\"-inf\")].index,inplace=True)"
      ],
      "metadata": {
        "id": "4X2H7R5MZfrs"
      },
      "execution_count": null,
      "outputs": []
    },
    {
      "cell_type": "code",
      "source": [
        "#distribution plot of Sales\n",
        "#sns.distplot(x=df['Sales'])"
      ],
      "metadata": {
        "id": "T8LRsVowbtRh"
      },
      "execution_count": null,
      "outputs": []
    },
    {
      "cell_type": "code",
      "source": [
        "#we need only meaningful numeric columns here, let's drop the unnecessary to get a clear picture\n",
        "#columns_to_drop = ['Store', 'Year','WeekOfYear', 'DayOfYear','Open']\n",
        "#corr_df = df.drop(columns = columns_to_drop, axis =1)\n",
        "#corr_df['StateHoliday'].replace({'a':1, 'b':1,'c':1}, inplace=True)"
      ],
      "metadata": {
        "id": "l183pZIF72N7"
      },
      "execution_count": null,
      "outputs": []
    },
    {
      "cell_type": "code",
      "source": [
        " ## Correlation\n",
        "#plt.figure(figsize=(16,8))\n",
        "#correlation = corr_df.corr()\n",
        "#sns.heatmap(abs(correlation), annot=True, cmap='coolwarm')"
      ],
      "metadata": {
        "id": "0OVJvdEb47z3"
      },
      "execution_count": null,
      "outputs": []
    },
    {
      "cell_type": "code",
      "source": [
        "\"\"\"for col in Numeric_features[1:-1]:\n",
        "    fig = plt.figure(figsize=(9, 6))\n",
        "    ax = fig.gca()\n",
        "    feature = df[col]\n",
        "    label = df['Sales']\n",
        "    correlation = feature.corr(label)\n",
        "    plt.scatter(x=feature, y=label)\n",
        "    plt.xlabel(col)\n",
        "    plt.ylabel('Sales')\n",
        "    ax.set_title('Sales vs ' + col + '- correlation: ' + str(correlation))\n",
        "    z = np.polyfit(df[col], df['Sales'], 1)\n",
        "    y_hat = np.poly1d(z)(df[col])\n",
        "\n",
        "    plt.plot(df[col], y_hat, \"r--\", lw=1)\n",
        "\n",
        "plt.show()\"\"\""
      ],
      "metadata": {
        "id": "Q27UjkEIfApd"
      },
      "execution_count": null,
      "outputs": []
    },
    {
      "cell_type": "code",
      "source": [
        "df.shape"
      ],
      "metadata": {
        "id": "zA2BzUnYojF7"
      },
      "execution_count": null,
      "outputs": []
    },
    {
      "cell_type": "code",
      "source": [
        "df.info()"
      ],
      "metadata": {
        "id": "NN2PnfHkQQE3"
      },
      "execution_count": null,
      "outputs": []
    },
    {
      "cell_type": "code",
      "source": [
        "#since the stores closed had 0 sale value; removing the irrelevant part\n",
        "df_1 = df[df.Open != 0]\n",
        "df_1.drop('Open', axis=1, inplace=True)"
      ],
      "metadata": {
        "id": "kA6aRcQ9Qoqz"
      },
      "execution_count": null,
      "outputs": []
    },
    {
      "cell_type": "code",
      "source": [
        "df_1.head(1)"
      ],
      "metadata": {
        "id": "Gq0K40sjQ7c3"
      },
      "execution_count": null,
      "outputs": []
    },
    {
      "cell_type": "code",
      "source": [
        "sns.distplot(df_1[\"Sales\"])"
      ],
      "metadata": {
        "id": "OPgNhMJovl49"
      },
      "execution_count": null,
      "outputs": []
    },
    {
      "cell_type": "code",
      "source": [
        "## transformation\n",
        "df_1['Sales'] = np.log(df_1['Sales'])"
      ],
      "metadata": {
        "id": "53CtbzPZvH__"
      },
      "execution_count": null,
      "outputs": []
    },
    {
      "cell_type": "code",
      "source": [
        "df_1.dropna(inplace=True)"
      ],
      "metadata": {
        "id": "fneckkXgvM7f"
      },
      "execution_count": null,
      "outputs": []
    },
    {
      "cell_type": "code",
      "source": [
        "df_1.drop(df_1[df_1['Sales'] == float(\"-inf\")].index,inplace=True)"
      ],
      "metadata": {
        "id": "J3e-i1QKvRkx"
      },
      "execution_count": null,
      "outputs": []
    },
    {
      "cell_type": "code",
      "source": [
        "sns.distplot(df_1[\"Sales\"])"
      ],
      "metadata": {
        "id": "7I40zG-FwXtS"
      },
      "execution_count": null,
      "outputs": []
    },
    {
      "cell_type": "code",
      "source": [
        "#changing into boolean \n",
        "df_1['StateHoliday'].replace({'a':1, 'b':1,'c':1}, inplace=True)"
      ],
      "metadata": {
        "id": "kjQkB1CrvZiQ"
      },
      "execution_count": null,
      "outputs": []
    },
    {
      "cell_type": "code",
      "source": [
        "df_1.info()"
      ],
      "metadata": {
        "id": "120Ziw7Wwjc1"
      },
      "execution_count": null,
      "outputs": []
    },
    {
      "cell_type": "code",
      "source": [
        "#correlation heatmap\n",
        "plt.figure(figsize=(16,10))\n",
        "sns.heatmap(df_1.corr(), cmap=\"coolwarm\", annot=True)"
      ],
      "metadata": {
        "id": "qOB-DVBfl6Nc"
      },
      "execution_count": null,
      "outputs": []
    },
    {
      "cell_type": "code",
      "source": [
        "#combining competition open since month and year into total months\n",
        "df_1['CompetitionOpen'] = (df_1['Year'] - df_1['CompetitionOpenSinceYear'])*12 + (df_1['Month'] - df_1['CompetitionOpenSinceMonth'])\n",
        "df_1['CompetitionOpen'] "
      ],
      "metadata": {
        "id": "Vgw_QyXYSOyc"
      },
      "execution_count": null,
      "outputs": []
    },
    {
      "cell_type": "code",
      "source": [
        "#correcting the neg values\n",
        "df_1['CompetitionOpen'] = df_1['CompetitionOpen'].apply(lambda x:0 if x < 0 else x)\n",
        "df_1['CompetitionOpen']"
      ],
      "metadata": {
        "id": "DfNXriFNSvOm"
      },
      "execution_count": null,
      "outputs": []
    },
    {
      "cell_type": "code",
      "source": [
        "#dropping both the columns\n",
        "df_1.drop(['CompetitionOpenSinceMonth','CompetitionOpenSinceYear'], axis=1,inplace=True)"
      ],
      "metadata": {
        "id": "h6rT8-tvTOh8"
      },
      "execution_count": null,
      "outputs": []
    },
    {
      "cell_type": "code",
      "source": [
        "df_1.info()"
      ],
      "metadata": {
        "id": "6ZKmfuSOTSQj"
      },
      "execution_count": null,
      "outputs": []
    },
    {
      "cell_type": "code",
      "source": [
        "#changing promo2 features into meaningful inputs\n",
        "#combining promo2 to total months\n",
        "df_1['Promo2Open'] = (df_1['Year'] - df_1['Promo2SinceYear'])*12 + (df_1['WeekOfYear'] - df_1['Promo2SinceWeek'])*0.230137 + (df_1['Promo2'])\n",
        "df_1['Promo2Open']"
      ],
      "metadata": {
        "id": "P8k5jA4gh26S"
      },
      "execution_count": null,
      "outputs": []
    },
    {
      "cell_type": "code",
      "source": [
        "#correcting the neg values\n",
        "df_1['Promo2Open'] = df_1['Promo2Open'].apply(lambda x:0 if x < 0 else x)*df_1['Promo2']\n",
        "df_1['Promo2Open']"
      ],
      "metadata": {
        "id": "mYkSTAqriHaz"
      },
      "execution_count": null,
      "outputs": []
    },
    {
      "cell_type": "code",
      "source": [
        "#dropping both the columns\n",
        "df_1.drop(['Promo2SinceYear','Promo2SinceWeek','Promo2'], axis=1,inplace=True)"
      ],
      "metadata": {
        "id": "sJvRi5OXi3CX"
      },
      "execution_count": null,
      "outputs": []
    },
    {
      "cell_type": "code",
      "source": [
        "df_1.info()"
      ],
      "metadata": {
        "id": "JJuhaFXBxT0Q"
      },
      "execution_count": null,
      "outputs": []
    },
    {
      "cell_type": "code",
      "source": [
        "#months = df['PromoInterval'].split(',')\n",
        "#month = df['Month']\n",
        "#return 1 if month_dict[month] in months else 0\n",
        "#months = df_1['PromoInterval'].str.split(',')\n",
        "#months\n",
        "#month = df_1['Month']\n",
        "#month\n",
        "#df_1['PromoInterval'].apply(lambda x: x.split(','))"
      ],
      "metadata": {
        "id": "wOOKX5-FzV1W"
      },
      "execution_count": null,
      "outputs": []
    },
    {
      "cell_type": "code",
      "source": [
        "#creating a feature for promo interval and checking if promo2 was running in the sale month\n",
        "month_dict = {1:'Jan', 2:'Feb', 3:'Mar', 4:'Apr', 5:'May', 6:'Jun', 7:'Jul', 8:'Aug', 9:'Sept', 10:'Oct', 11:'Nov', 12:'Dec'}\n",
        "df_1[\"PromoRunning\"] = df_1.apply(lambda row: 1 if month_dict[row['Month']] in row['PromoInterval'].split(',') else 0, axis=1)#*df_1['Promo2']\n",
        "df_1[\"PromoRunning\"]"
      ],
      "metadata": {
        "id": "LoBnEeWx3lrh"
      },
      "execution_count": null,
      "outputs": []
    },
    {
      "cell_type": "code",
      "source": [
        "#Dropping unecessary columns\n",
        "df_1.drop(['PromoInterval'],axis=1,inplace=True)"
      ],
      "metadata": {
        "id": "015DaFBj6WMn"
      },
      "execution_count": null,
      "outputs": []
    },
    {
      "cell_type": "code",
      "source": [
        "df_1.info()"
      ],
      "metadata": {
        "id": "fzLgVETT6fNN"
      },
      "execution_count": null,
      "outputs": []
    },
    {
      "cell_type": "code",
      "source": [
        "df_1.shape"
      ],
      "metadata": {
        "id": "l0S3yyHn6nPb"
      },
      "execution_count": null,
      "outputs": []
    },
    {
      "cell_type": "code",
      "source": [
        "#setting date and store as index\n",
        "df_1.set_index(['Date','Store'],inplace=True)\n",
        "#sorting index following the time series\n",
        "df_1.sort_index(inplace=True)"
      ],
      "metadata": {
        "id": "9qXcyjsN7Bez"
      },
      "execution_count": null,
      "outputs": []
    },
    {
      "cell_type": "markdown",
      "source": [
        "The index of the dataframe 'df_1' is set to a combination of the 'Date' and 'Store' columns, and the index is then sorted in accordance with the time series."
      ],
      "metadata": {
        "id": "CO6KU8hRJVJr"
      }
    },
    {
      "cell_type": "code",
      "source": [
        "df_1.head()"
      ],
      "metadata": {
        "id": "3uKo8KRcKfjF"
      },
      "execution_count": null,
      "outputs": []
    },
    {
      "cell_type": "code",
      "source": [
        "df_1.tail()"
      ],
      "metadata": {
        "id": "QhfSaNzJI9QH"
      },
      "execution_count": null,
      "outputs": []
    },
    {
      "cell_type": "code",
      "source": [
        "df_1['Sales'].skew()"
      ],
      "metadata": {
        "id": "q7rU4LWkKzq_"
      },
      "execution_count": null,
      "outputs": []
    },
    {
      "cell_type": "code",
      "source": [
        "print(\"Mean value of Sales\",df_1['Sales'].mean())\n",
        "print(\"Std value of Sales\",df_1['Sales'].std())\n",
        "print(\"Min value of Sales\",df_1['Sales'].min())\n",
        "print(\"Max value of Sales\",df_1['Sales'].max())"
      ],
      "metadata": {
        "id": "esRsNkIqK54p"
      },
      "execution_count": null,
      "outputs": []
    },
    {
      "cell_type": "code",
      "source": [
        "# Finding the boundary values\n",
        "print(\"Highest allowed\",df_1['Sales'].mean() + 3*df_1['Sales'].std())\n",
        "print(\"Lowest allowed\",df_1['Sales'].mean() - 3*df_1['Sales'].std())"
      ],
      "metadata": {
        "id": "xS4l-LTALQLj"
      },
      "execution_count": null,
      "outputs": []
    },
    {
      "cell_type": "code",
      "source": [
        "# Finding the outliers\n",
        "df_1[(df_1['Sales'] > 10.03) | (df_1['Sales'] < 7.48)]"
      ],
      "metadata": {
        "id": "9VoYp5OZLhvl"
      },
      "execution_count": null,
      "outputs": []
    },
    {
      "cell_type": "markdown",
      "source": [
        "#Capping"
      ],
      "metadata": {
        "id": "qla78pTVMG5P"
      }
    },
    {
      "cell_type": "code",
      "source": [
        "upper_limit = df_1['Sales'].mean() + 3*df_1['Sales'].std()\n",
        "lower_limit = df_1['Sales'].mean() - 3*df_1['Sales'].std()"
      ],
      "metadata": {
        "id": "i25f8Ju7MCYu"
      },
      "execution_count": null,
      "outputs": []
    },
    {
      "cell_type": "code",
      "source": [
        "upper_limit"
      ],
      "metadata": {
        "id": "4vI377S1MaWO"
      },
      "execution_count": null,
      "outputs": []
    },
    {
      "cell_type": "code",
      "source": [
        "lower_limit"
      ],
      "metadata": {
        "id": "zB7UjGoWMd8d"
      },
      "execution_count": null,
      "outputs": []
    },
    {
      "cell_type": "code",
      "source": [
        "df_1['Sales'] = np.where(\n",
        "    df_1['Sales']>upper_limit,\n",
        "    upper_limit,\n",
        "    np.where(\n",
        "        df_1['Sales']<lower_limit,\n",
        "        lower_limit,\n",
        "        df_1['Sales']\n",
        "    )\n",
        ")"
      ],
      "metadata": {
        "id": "nLYBdwyXMpuf"
      },
      "execution_count": null,
      "outputs": []
    },
    {
      "cell_type": "code",
      "source": [
        "df_1['Sales'].describe()"
      ],
      "metadata": {
        "id": "Zt0gFwldM3sq"
      },
      "execution_count": null,
      "outputs": []
    },
    {
      "cell_type": "code",
      "source": [
        "sns.distplot(x=df_1[\"Sales\"])"
      ],
      "metadata": {
        "id": "EvJdYdMLNB9D"
      },
      "execution_count": null,
      "outputs": []
    },
    {
      "cell_type": "code",
      "source": [
        "plt.figure(figsize=(6,3))\n",
        "ax = sns.barplot(x=df_1['DayOfWeek'],y=df_1[\"Sales\"],hue=df_1['StoreType'])\n"
      ],
      "metadata": {
        "id": "GeOEgLoxV5PO"
      },
      "execution_count": null,
      "outputs": []
    },
    {
      "cell_type": "code",
      "source": [
        "df_1.loc[(df_1['DayOfWeek']==7) & (df_1['StoreType']=='b')]"
      ],
      "metadata": {
        "id": "JBLKECM3ap6_"
      },
      "execution_count": null,
      "outputs": []
    },
    {
      "cell_type": "code",
      "source": [
        "df_1.shape"
      ],
      "metadata": {
        "id": "cUDPocGsbALc"
      },
      "execution_count": null,
      "outputs": []
    },
    {
      "cell_type": "code",
      "source": [
        "#just in case something messes up\n",
        "Rossmann = df_1.copy()"
      ],
      "metadata": {
        "id": "ZcnzURkFbDfx"
      },
      "execution_count": null,
      "outputs": []
    },
    {
      "cell_type": "code",
      "source": [
        "Rossmann"
      ],
      "metadata": {
        "id": "7KZ5B4AKb8Q9"
      },
      "execution_count": null,
      "outputs": []
    },
    {
      "cell_type": "code",
      "source": [
        "#Sales should be the last col\n",
        "columns=list(Rossmann.columns)\n",
        "columns.remove('Sales')\n",
        "columns.append('Sales')\n",
        "Rossmann=Rossmann[columns]"
      ],
      "metadata": {
        "id": "3dPZZvj0b3LM"
      },
      "execution_count": null,
      "outputs": []
    },
    {
      "cell_type": "code",
      "source": [
        "Rossmann"
      ],
      "metadata": {
        "id": "NACC4VL4cv_o"
      },
      "execution_count": null,
      "outputs": []
    },
    {
      "cell_type": "code",
      "source": [
        "# we won't need customers for sales forecasting\n",
        "#Rossmann.drop('Customers',axis=1,inplace=True)"
      ],
      "metadata": {
        "id": "B_gzh2d0c5ej"
      },
      "execution_count": null,
      "outputs": []
    },
    {
      "cell_type": "code",
      "source": [
        "Rossmann.shape"
      ],
      "metadata": {
        "id": "_SQA0wPpdBCn"
      },
      "execution_count": null,
      "outputs": []
    },
    {
      "cell_type": "code",
      "source": [
        "Rossmann.info()"
      ],
      "metadata": {
        "id": "ENDHDZjwJWqh"
      },
      "execution_count": null,
      "outputs": []
    },
    {
      "cell_type": "code",
      "source": [
        "Rossmann.columns"
      ],
      "metadata": {
        "id": "bAQb_FKCLGXZ"
      },
      "execution_count": null,
      "outputs": []
    },
    {
      "cell_type": "code",
      "source": [
        "numeric_cols = ['CompetitionDistance', 'CompetitionOpen', 'Promo2Open', \n",
        "               'Month', 'Year','WeekOfYear','DayOfYear']"
      ],
      "metadata": {
        "id": "MumH3MYsHrSy"
      },
      "execution_count": null,
      "outputs": []
    },
    {
      "cell_type": "code",
      "source": [
        "categorical_cols=['Promo','Promo2','SchoolHoliday','StateHoliday','PromoRunning']"
      ],
      "metadata": {
        "id": "2OYkIjZ-HwX1"
      },
      "execution_count": null,
      "outputs": []
    },
    {
      "cell_type": "code",
      "source": [
        "Rossmann.shape"
      ],
      "metadata": {
        "id": "Oe5TAvPXiW8u"
      },
      "execution_count": null,
      "outputs": []
    },
    {
      "cell_type": "code",
      "source": [
        "#X = Rossmann[numeric_cols + encoded_cols + categorical_cols]"
      ],
      "metadata": {
        "id": "xPoqMKviNRrU"
      },
      "execution_count": null,
      "outputs": []
    },
    {
      "cell_type": "code",
      "source": [
        "#X.shape"
      ],
      "metadata": {
        "id": "LEY4_rviONX2"
      },
      "execution_count": null,
      "outputs": []
    },
    {
      "cell_type": "code",
      "source": [
        "#y = Rossmann['Sales']"
      ],
      "metadata": {
        "id": "zbwQ1XNiOatg"
      },
      "execution_count": null,
      "outputs": []
    },
    {
      "cell_type": "code",
      "source": [
        "#y"
      ],
      "metadata": {
        "id": "2HktkHmDOhLJ"
      },
      "execution_count": null,
      "outputs": []
    },
    {
      "cell_type": "markdown",
      "source": [
        "### What all manipulations have you done and insights you found?"
      ],
      "metadata": {
        "id": "MSa1f5Uengrz"
      }
    },
    {
      "cell_type": "markdown",
      "source": [
        "Answer Here."
      ],
      "metadata": {
        "id": "LbyXE7I1olp8"
      }
    },
    {
      "cell_type": "markdown",
      "source": [
        "## ***4. Data Vizualization, Storytelling & Experimenting with charts : Understand the relationships between variables***"
      ],
      "metadata": {
        "id": "GF8Ens_Soomf"
      }
    },
    {
      "cell_type": "markdown",
      "source": [
        "#### Chart - 1"
      ],
      "metadata": {
        "id": "0wOQAZs5pc--"
      }
    },
    {
      "cell_type": "code",
      "source": [
        "# Chart - 1 visualization code\n",
        "# new dataframe for extract year, month, day and week of year from \"Date\"\n",
        "copy_df = df.copy()\n",
        "copy_df['Date']=pd.to_datetime(copy_df['Date'])\n",
        "copy_df['Year'] = copy_df['Date'].apply(lambda x: x.year)\n",
        "copy_df['Month'] = copy_df['Date'].apply(lambda x: x.month)\n",
        "copy_df['Day'] = copy_df['Date'].apply(lambda x: x.day)\n",
        "copy_df['WeekOfYear'] = copy_df['Date'].apply(lambda x: x.weekofyear)"
      ],
      "metadata": {
        "id": "7v_ESjsspbW7"
      },
      "execution_count": null,
      "outputs": []
    },
    {
      "cell_type": "code",
      "source": [
        "copy_df.shape"
      ],
      "metadata": {
        "id": "cxpNWbqPdM9U"
      },
      "execution_count": null,
      "outputs": []
    },
    {
      "cell_type": "code",
      "source": [
        "copy_df.head(2)"
      ],
      "metadata": {
        "id": "0lbugd-PdR87"
      },
      "execution_count": null,
      "outputs": []
    },
    {
      "cell_type": "code",
      "source": [
        "copy_df.Year.value_counts()"
      ],
      "metadata": {
        "id": "EEIWgPtXlUsT"
      },
      "execution_count": null,
      "outputs": []
    },
    {
      "cell_type": "markdown",
      "source": [
        "**Distribution Of Sales in Different Years**\n",
        "\n"
      ],
      "metadata": {
        "id": "NeYqy4K7X_6S"
      }
    },
    {
      "cell_type": "code",
      "source": [
        "#f, ax = plt.subplots(2, 3, figsize = (20,10))\n",
        "labels = '2013' , '2014' , '2015'\n",
        "sizes = copy_df.Year.value_counts()\n",
        "colors = ['#e6ebf1', '#063970' , '#839cb8']\n",
        "explode = (0.1,0.0,0)\n",
        "plt.pie(sizes,explode=explode, labels=labels, colors=colors,\n",
        "        autopct='%0.1f%%', shadow=True, startangle=180)\n",
        "plt.axis('equal')\n",
        "plt.legend()\n",
        "plt.show()\n"
      ],
      "metadata": {
        "id": "vocw9yIHdhGx"
      },
      "execution_count": null,
      "outputs": []
    },
    {
      "cell_type": "markdown",
      "source": [
        "As we can see in the Piechart Sales are distributed in years \n",
        "whereas, \n",
        "          **2013 sales are 40.0 % ,\n",
        "            2014 sales are 36.8 %,\n",
        "            2015 sales are 23.2 %**"
      ],
      "metadata": {
        "id": "PQTj6uo0mSUB"
      }
    },
    {
      "cell_type": "markdown",
      "source": [
        "**Sales Affected by Schoolholiday or Not**"
      ],
      "metadata": {
        "id": "dl85EgJmlSjr"
      }
    },
    {
      "cell_type": "code",
      "source": [
        "labels = 'Not-Affected' , 'Affected'\n",
        "sizes = df.SchoolHoliday.value_counts()\n",
        "colors = ['#839cb8', 'gray']\n",
        "explode = (0.1, 0.0)\n",
        "plt.pie(sizes, explode=explode, labels=labels, colors=colors,\n",
        "        autopct='%1.1f%%', shadow=True, startangle=180)\n",
        "plt.axis('equal')\n",
        "plt.title(\"Sales Affected by Schoolholiday or Not ?\",fontsize=10)\n",
        "plt.legend()\n",
        "plt.show()"
      ],
      "metadata": {
        "id": "sl_RY-X4h_M6"
      },
      "execution_count": null,
      "outputs": []
    },
    {
      "cell_type": "markdown",
      "source": [
        "As we can see in the Piechart Sales affected by School Holiday is **17.9% and 82.1%** Sales aren't afffected by School Holiday."
      ],
      "metadata": {
        "id": "v9zzVEgRltmd"
      }
    },
    {
      "cell_type": "markdown",
      "source": [
        "##### 1. Why did you pick the specific chart?"
      ],
      "metadata": {
        "id": "K5QZ13OEpz2H"
      }
    },
    {
      "cell_type": "markdown",
      "source": [
        "**Answer Here.**The pie chart is a common chart used for representing relative proportions or percentages of different categories. It is often used to display data that is divided into parts, and it is a good choice when you want to compare the proportion of different categories in a dataset."
      ],
      "metadata": {
        "id": "XESiWehPqBRc"
      }
    },
    {
      "cell_type": "markdown",
      "source": [
        "##### 2. What is/are the insight(s) found from the chart?"
      ],
      "metadata": {
        "id": "lQ7QKXXCp7Bj"
      }
    },
    {
      "cell_type": "markdown",
      "source": [
        "Answer Here"
      ],
      "metadata": {
        "id": "C_j1G7yiqdRP"
      }
    },
    {
      "cell_type": "markdown",
      "source": [
        "##### 3. Will the gained insights help creating a positive business impact? \n",
        "Are there any insights that lead to negative growth? Justify with specific reason."
      ],
      "metadata": {
        "id": "448CDAPjqfQr"
      }
    },
    {
      "cell_type": "markdown",
      "source": [
        "Answer Here"
      ],
      "metadata": {
        "id": "3cspy4FjqxJW"
      }
    },
    {
      "cell_type": "markdown",
      "source": [
        "####Chart - 2"
      ],
      "metadata": {
        "id": "KSlN3yHqYklG"
      }
    },
    {
      "cell_type": "markdown",
      "source": [
        "**Distribution of diffrent StoreType**"
      ],
      "metadata": {
        "id": "rnEXL3w30hoO"
      }
    },
    {
      "cell_type": "code",
      "source": [
        "sns.countplot(df['StoreType'])"
      ],
      "metadata": {
        "id": "XTocrIQW0z9Y"
      },
      "execution_count": null,
      "outputs": []
    },
    {
      "cell_type": "code",
      "source": [
        "#Average Sales Per Store\n",
        "sns.set(rc={'figure.figsize':(10,7)})\n",
        "sns.boxplot(x=\"StoreType\", y=\"Sales\", data=df,palette='rainbow')\n",
        "plt.title('Boxplot For Sales Values with respect to Store Type')"
      ],
      "metadata": {
        "id": "b-PLYpBj0578"
      },
      "execution_count": null,
      "outputs": []
    },
    {
      "cell_type": "markdown",
      "source": [
        "**Distribution of Assortment Type and Average sales**"
      ],
      "metadata": {
        "id": "Yok_vkxr1G6n"
      }
    },
    {
      "cell_type": "code",
      "source": [
        "sns.countplot(df['Assortment'])"
      ],
      "metadata": {
        "id": "hZr_y0j-1QVj"
      },
      "execution_count": null,
      "outputs": []
    },
    {
      "cell_type": "code",
      "source": [
        "plt.figure(figsize=(10,7))\n",
        "sns.boxplot(x=\"Assortment\",y=\"Sales\",data=df)\n",
        "plt.xlabel(\"Type of Assortment\",size=15)\n",
        "plt.ylabel(\"Average Sales Per Assortment\")\n",
        "plt.title(\"Boxplot for the effect of Assortment Type on sales\")"
      ],
      "metadata": {
        "id": "xhq-meAg1U6T"
      },
      "execution_count": null,
      "outputs": []
    },
    {
      "cell_type": "markdown",
      "source": [
        "**Impact of School Holiday on Sales**"
      ],
      "metadata": {
        "id": "lVDgF7EH1h1A"
      }
    },
    {
      "cell_type": "code",
      "source": [
        "g = sns.FacetGrid(df, col=\"SchoolHoliday\", height=4, aspect=.8)\n",
        "g.map(sns.barplot, \"StoreType\", \"Sales\");"
      ],
      "metadata": {
        "id": "apyHwhtf2VDi"
      },
      "execution_count": null,
      "outputs": []
    },
    {
      "cell_type": "markdown",
      "source": [
        "**Impact of Sales w.r.t Promo , Assortments & StoreType**"
      ],
      "metadata": {
        "id": "iP3bsJ042dQ1"
      }
    },
    {
      "cell_type": "code",
      "source": [
        "g = sns.FacetGrid(df, col=\"Assortment\", row=\"Promo\", margin_titles=True, height=3)\n",
        "g.map(plt.scatter,  \"StoreType\",\"Sales\", color=\"#338844\", edgecolor=\"white\", s=50, lw=1)\n",
        "# g.set(xlim=(0, 50), ylim=(0, 100));"
      ],
      "metadata": {
        "id": "TZ7NUn5d2bc3"
      },
      "execution_count": null,
      "outputs": []
    },
    {
      "cell_type": "markdown",
      "source": [
        "##### 1. Why did you pick the specific chart?"
      ],
      "metadata": {
        "id": "t6dVpIINYklI"
      }
    },
    {
      "cell_type": "markdown",
      "source": [
        "##### 2. What is/are the insight(s) found from the chart?"
      ],
      "metadata": {
        "id": "ijmpgYnKYklI"
      }
    },
    {
      "cell_type": "markdown",
      "source": [
        "Answer Here"
      ],
      "metadata": {
        "id": "PSx9atu2YklI"
      }
    },
    {
      "cell_type": "markdown",
      "source": [
        "Answer Here"
      ],
      "metadata": {
        "id": "BcBbebzrYklV"
      }
    },
    {
      "cell_type": "code",
      "source": [
        "#making predictions\n",
        "y_pred_train = model.predict(X_train)\n",
        "y_pred_test = model.predict(X_test)\n"
      ],
      "metadata": {
        "id": "6PdUSgtSqo-v"
      },
      "execution_count": null,
      "outputs": []
    },
    {
      "cell_type": "markdown",
      "source": [
        "#### Chart - 3"
      ],
      "metadata": {
        "id": "EM7whBJCYoAo"
      }
    },
    {
      "cell_type": "code",
      "source": [
        "# Chart - 3 visualization code"
      ],
      "metadata": {
        "id": "t6GMdE67YoAp"
      },
      "execution_count": null,
      "outputs": []
    },
    {
      "cell_type": "markdown",
      "source": [
        "##### 1. Why did you pick the specific chart?"
      ],
      "metadata": {
        "id": "fge-S5ZAYoAp"
      }
    },
    {
      "cell_type": "markdown",
      "source": [
        "Answer Here."
      ],
      "metadata": {
        "id": "5dBItgRVYoAp"
      }
    },
    {
      "cell_type": "markdown",
      "source": [
        "##### 2. What is/are the insight(s) found from the chart?"
      ],
      "metadata": {
        "id": "85gYPyotYoAp"
      }
    },
    {
      "cell_type": "markdown",
      "source": [
        "Answer Here"
      ],
      "metadata": {
        "id": "4jstXR6OYoAp"
      }
    },
    {
      "cell_type": "markdown",
      "source": [
        "##### 3. Will the gained insights help creating a positive business impact? \n",
        "Are there any insights that lead to negative growth? Justify with specific reason."
      ],
      "metadata": {
        "id": "RoGjAbkUYoAp"
      }
    },
    {
      "cell_type": "markdown",
      "source": [
        "Answer Here"
      ],
      "metadata": {
        "id": "zfJ8IqMcYoAp"
      }
    },
    {
      "cell_type": "markdown",
      "source": [
        "##### 3. Will the gained insights help creating a positive business impact? \n",
        "Are there any insights that lead to negative growth? Justify with specific reason."
      ],
      "metadata": {
        "id": "-JiQyfWJYklI"
      }
    },
    {
      "cell_type": "markdown",
      "source": [
        "#### Chart - 4"
      ],
      "metadata": {
        "id": "4Of9eVA-YrdM"
      }
    },
    {
      "cell_type": "code",
      "source": [
        "# Chart - 4 visualization code"
      ],
      "metadata": {
        "id": "irlUoxc8YrdO"
      },
      "execution_count": null,
      "outputs": []
    },
    {
      "cell_type": "markdown",
      "source": [
        "##### 1. Why did you pick the specific chart?"
      ],
      "metadata": {
        "id": "iky9q4vBYrdO"
      }
    },
    {
      "cell_type": "markdown",
      "source": [
        "Answer Here."
      ],
      "metadata": {
        "id": "aJRCwT6DYrdO"
      }
    },
    {
      "cell_type": "markdown",
      "source": [
        "##### 2. What is/are the insight(s) found from the chart?"
      ],
      "metadata": {
        "id": "F6T5p64dYrdO"
      }
    },
    {
      "cell_type": "markdown",
      "source": [
        "Answer Here"
      ],
      "metadata": {
        "id": "Xx8WAJvtYrdO"
      }
    },
    {
      "cell_type": "markdown",
      "source": [
        "##### 3. Will the gained insights help creating a positive business impact? \n",
        "Are there any insights that lead to negative growth? Justify with specific reason."
      ],
      "metadata": {
        "id": "y-Ehk30pYrdP"
      }
    },
    {
      "cell_type": "markdown",
      "source": [
        "**Answer Here** : A boxplot, also known as a Whisker plot, is a standardized way of displaying the distribution of data based on five number summary (\"minimum\", first quartile (Q1), median, third quartile (Q3), and \"maximum\"). It is often used to identify outliers and other characteristics of a dataset. The boxplot is useful because it graphically shows the important characteristics of the data in a single plot, such as the median and quartiles, which is useful for comparing datasets.\n",
        "\n",
        "\n",
        " Here , I have pick boxplot for checking outliers in this dataset."
      ],
      "metadata": {
        "id": "5aaW0BYyYklI"
      }
    },
    {
      "cell_type": "markdown",
      "source": [
        "#### Chart - 5"
      ],
      "metadata": {
        "id": "bamQiAODYuh1"
      }
    },
    {
      "cell_type": "code",
      "source": [
        "# Chart - 5 visualization code"
      ],
      "metadata": {
        "id": "TIJwrbroYuh3"
      },
      "execution_count": null,
      "outputs": []
    },
    {
      "cell_type": "markdown",
      "source": [
        "##### 1. Why did you pick the specific chart?"
      ],
      "metadata": {
        "id": "QHF8YVU7Yuh3"
      }
    },
    {
      "cell_type": "markdown",
      "source": [
        "Answer Here."
      ],
      "metadata": {
        "id": "dcxuIMRPYuh3"
      }
    },
    {
      "cell_type": "markdown",
      "source": [
        "##### 2. What is/are the insight(s) found from the chart?"
      ],
      "metadata": {
        "id": "GwzvFGzlYuh3"
      }
    },
    {
      "cell_type": "markdown",
      "source": [
        "Answer Here"
      ],
      "metadata": {
        "id": "uyqkiB8YYuh3"
      }
    },
    {
      "cell_type": "markdown",
      "source": [
        "##### 3. Will the gained insights help creating a positive business impact? \n",
        "Are there any insights that lead to negative growth? Justify with specific reason."
      ],
      "metadata": {
        "id": "qYpmQ266Yuh3"
      }
    },
    {
      "cell_type": "markdown",
      "source": [
        "Answer Here"
      ],
      "metadata": {
        "id": "jLNxxz7MYrdP"
      }
    },
    {
      "cell_type": "markdown",
      "source": [
        "Answer Here"
      ],
      "metadata": {
        "id": "_WtzZ_hCYuh4"
      }
    },
    {
      "cell_type": "markdown",
      "source": [
        "#### Chart - 6"
      ],
      "metadata": {
        "id": "OH-pJp9IphqM"
      }
    },
    {
      "cell_type": "code",
      "source": [
        "# Chart - 6 visualization code"
      ],
      "metadata": {
        "id": "kuRf4wtuphqN"
      },
      "execution_count": null,
      "outputs": []
    },
    {
      "cell_type": "markdown",
      "source": [
        "##### 1. Why did you pick the specific chart?"
      ],
      "metadata": {
        "id": "bbFf2-_FphqN"
      }
    },
    {
      "cell_type": "markdown",
      "source": [
        "Answer Here."
      ],
      "metadata": {
        "id": "loh7H2nzphqN"
      }
    },
    {
      "cell_type": "markdown",
      "source": [
        "##### 2. What is/are the insight(s) found from the chart?"
      ],
      "metadata": {
        "id": "_ouA3fa0phqN"
      }
    },
    {
      "cell_type": "markdown",
      "source": [
        "Answer Here"
      ],
      "metadata": {
        "id": "VECbqPI7phqN"
      }
    },
    {
      "cell_type": "markdown",
      "source": [
        "##### 3. Will the gained insights help creating a positive business impact? \n",
        "Are there any insights that lead to negative growth? Justify with specific reason."
      ],
      "metadata": {
        "id": "Seke61FWphqN"
      }
    },
    {
      "cell_type": "markdown",
      "source": [
        "Answer Here"
      ],
      "metadata": {
        "id": "DW4_bGpfphqN"
      }
    },
    {
      "cell_type": "markdown",
      "source": [
        "#### Chart - 7"
      ],
      "metadata": {
        "id": "PIIx-8_IphqN"
      }
    },
    {
      "cell_type": "code",
      "source": [
        "# Chart - 7 visualization code"
      ],
      "metadata": {
        "id": "lqAIGUfyphqO"
      },
      "execution_count": null,
      "outputs": []
    },
    {
      "cell_type": "markdown",
      "source": [
        "##### 1. Why did you pick the specific chart?"
      ],
      "metadata": {
        "id": "t27r6nlMphqO"
      }
    },
    {
      "cell_type": "markdown",
      "source": [
        "Answer Here."
      ],
      "metadata": {
        "id": "iv6ro40sphqO"
      }
    },
    {
      "cell_type": "markdown",
      "source": [
        "##### 2. What is/are the insight(s) found from the chart?"
      ],
      "metadata": {
        "id": "r2jJGEOYphqO"
      }
    },
    {
      "cell_type": "markdown",
      "source": [
        "Answer Here"
      ],
      "metadata": {
        "id": "Po6ZPi4hphqO"
      }
    },
    {
      "cell_type": "markdown",
      "source": [
        "##### 3. Will the gained insights help creating a positive business impact? \n",
        "Are there any insights that lead to negative growth? Justify with specific reason."
      ],
      "metadata": {
        "id": "b0JNsNcRphqO"
      }
    },
    {
      "cell_type": "code",
      "source": [
        "#no of observations for closed stores with 0 sales\n",
        "(df[df.Open == 0]).shape"
      ],
      "metadata": {
        "id": "Vy3eDx-eQgfJ"
      },
      "execution_count": null,
      "outputs": []
    },
    {
      "cell_type": "markdown",
      "source": [
        "#### Chart - 8"
      ],
      "metadata": {
        "id": "BZR9WyysphqO"
      }
    },
    {
      "cell_type": "code",
      "source": [
        "# Chart - 8 visualization code"
      ],
      "metadata": {
        "id": "TdPTWpAVphqO"
      },
      "execution_count": null,
      "outputs": []
    },
    {
      "cell_type": "markdown",
      "source": [
        "##### 1. Why did you pick the specific chart?"
      ],
      "metadata": {
        "id": "jj7wYXLtphqO"
      }
    },
    {
      "cell_type": "markdown",
      "source": [
        "Answer Here."
      ],
      "metadata": {
        "id": "Ob8u6rCTphqO"
      }
    },
    {
      "cell_type": "markdown",
      "source": [
        "##### 2. What is/are the insight(s) found from the chart?"
      ],
      "metadata": {
        "id": "eZrbJ2SmphqO"
      }
    },
    {
      "cell_type": "markdown",
      "source": [
        "Answer Here"
      ],
      "metadata": {
        "id": "mZtgC_hjphqO"
      }
    },
    {
      "cell_type": "markdown",
      "source": [
        "##### 3. Will the gained insights help creating a positive business impact? \n",
        "Are there any insights that lead to negative growth? Justify with specific reason."
      ],
      "metadata": {
        "id": "rFu4xreNphqO"
      }
    },
    {
      "cell_type": "markdown",
      "source": [
        "Answer Here"
      ],
      "metadata": {
        "id": "ey_0qi68phqO"
      }
    },
    {
      "cell_type": "markdown",
      "source": [
        "Answer Here"
      ],
      "metadata": {
        "id": "xvSq8iUTphqO"
      }
    },
    {
      "cell_type": "markdown",
      "source": [
        "#### Chart - 9"
      ],
      "metadata": {
        "id": "YJ55k-q6phqO"
      }
    },
    {
      "cell_type": "code",
      "source": [
        "# Chart - 9 visualization code"
      ],
      "metadata": {
        "id": "B2aS4O1ophqO"
      },
      "execution_count": null,
      "outputs": []
    },
    {
      "cell_type": "markdown",
      "source": [
        "##### 1. Why did you pick the specific chart?"
      ],
      "metadata": {
        "id": "gCFgpxoyphqP"
      }
    },
    {
      "cell_type": "markdown",
      "source": [
        "Answer Here."
      ],
      "metadata": {
        "id": "TVxDimi2phqP"
      }
    },
    {
      "cell_type": "markdown",
      "source": [
        "##### 2. What is/are the insight(s) found from the chart?"
      ],
      "metadata": {
        "id": "OVtJsKN_phqQ"
      }
    },
    {
      "cell_type": "markdown",
      "source": [
        "Answer Here"
      ],
      "metadata": {
        "id": "ngGi97qjphqQ"
      }
    },
    {
      "cell_type": "markdown",
      "source": [
        "##### 3. Will the gained insights help creating a positive business impact? \n",
        "Are there any insights that lead to negative growth? Justify with specific reason."
      ],
      "metadata": {
        "id": "lssrdh5qphqQ"
      }
    },
    {
      "cell_type": "markdown",
      "source": [
        "Answer Here"
      ],
      "metadata": {
        "id": "tBpY5ekJphqQ"
      }
    },
    {
      "cell_type": "markdown",
      "source": [
        "#### Chart - 10"
      ],
      "metadata": {
        "id": "U2RJ9gkRphqQ"
      }
    },
    {
      "cell_type": "code",
      "source": [
        "# Chart - 10 visualization code"
      ],
      "metadata": {
        "id": "GM7a4YP4phqQ"
      },
      "execution_count": null,
      "outputs": []
    },
    {
      "cell_type": "markdown",
      "source": [
        "##### 1. Why did you pick the specific chart?"
      ],
      "metadata": {
        "id": "1M8mcRywphqQ"
      }
    },
    {
      "cell_type": "markdown",
      "source": [
        "Answer Here."
      ],
      "metadata": {
        "id": "8agQvks0phqQ"
      }
    },
    {
      "cell_type": "markdown",
      "source": [
        "##### 2. What is/are the insight(s) found from the chart?"
      ],
      "metadata": {
        "id": "tgIPom80phqQ"
      }
    },
    {
      "cell_type": "markdown",
      "source": [
        "Answer Here"
      ],
      "metadata": {
        "id": "Qp13pnNzphqQ"
      }
    },
    {
      "cell_type": "markdown",
      "source": [
        "##### 3. Will the gained insights help creating a positive business impact? \n",
        "Are there any insights that lead to negative growth? Justify with specific reason."
      ],
      "metadata": {
        "id": "JMzcOPDDphqR"
      }
    },
    {
      "cell_type": "markdown",
      "source": [
        "Answer Here"
      ],
      "metadata": {
        "id": "R4Ka1PC2phqR"
      }
    },
    {
      "cell_type": "markdown",
      "source": [
        "#### Chart - 11"
      ],
      "metadata": {
        "id": "x-EpHcCOp1ci"
      }
    },
    {
      "cell_type": "code",
      "source": [
        "# Chart - 11 visualization code"
      ],
      "metadata": {
        "id": "mAQTIvtqp1cj"
      },
      "execution_count": null,
      "outputs": []
    },
    {
      "cell_type": "markdown",
      "source": [
        "##### 1. Why did you pick the specific chart?"
      ],
      "metadata": {
        "id": "X_VqEhTip1ck"
      }
    },
    {
      "cell_type": "markdown",
      "source": [
        "Answer Here."
      ],
      "metadata": {
        "id": "-vsMzt_np1ck"
      }
    },
    {
      "cell_type": "markdown",
      "source": [
        "##### 2. What is/are the insight(s) found from the chart?"
      ],
      "metadata": {
        "id": "8zGJKyg5p1ck"
      }
    },
    {
      "cell_type": "markdown",
      "source": [
        "Answer Here"
      ],
      "metadata": {
        "id": "ZYdMsrqVp1ck"
      }
    },
    {
      "cell_type": "markdown",
      "source": [
        "##### 3. Will the gained insights help creating a positive business impact? \n",
        "Are there any insights that lead to negative growth? Justify with specific reason."
      ],
      "metadata": {
        "id": "PVzmfK_Ep1ck"
      }
    },
    {
      "cell_type": "markdown",
      "source": [
        "Answer Here"
      ],
      "metadata": {
        "id": "druuKYZpp1ck"
      }
    },
    {
      "cell_type": "markdown",
      "source": [
        "#### Chart - 12"
      ],
      "metadata": {
        "id": "n3dbpmDWp1ck"
      }
    },
    {
      "cell_type": "code",
      "source": [
        "# Chart - 12 visualization code"
      ],
      "metadata": {
        "id": "bwevp1tKp1ck"
      },
      "execution_count": null,
      "outputs": []
    },
    {
      "cell_type": "markdown",
      "source": [
        "##### 1. Why did you pick the specific chart?"
      ],
      "metadata": {
        "id": "ylSl6qgtp1ck"
      }
    },
    {
      "cell_type": "markdown",
      "source": [
        "Answer Here."
      ],
      "metadata": {
        "id": "m2xqNkiQp1ck"
      }
    },
    {
      "cell_type": "markdown",
      "source": [
        "##### 2. What is/are the insight(s) found from the chart?"
      ],
      "metadata": {
        "id": "ZWILFDl5p1ck"
      }
    },
    {
      "cell_type": "markdown",
      "source": [
        "Answer Here"
      ],
      "metadata": {
        "id": "x-lUsV2mp1ck"
      }
    },
    {
      "cell_type": "markdown",
      "source": [
        "##### 3. Will the gained insights help creating a positive business impact? \n",
        "Are there any insights that lead to negative growth? Justify with specific reason."
      ],
      "metadata": {
        "id": "M7G43BXep1ck"
      }
    },
    {
      "cell_type": "markdown",
      "source": [
        "Answer Here"
      ],
      "metadata": {
        "id": "5wwDJXsLp1cl"
      }
    },
    {
      "cell_type": "markdown",
      "source": [
        "#### Chart - 13"
      ],
      "metadata": {
        "id": "Ag9LCva-p1cl"
      }
    },
    {
      "cell_type": "code",
      "source": [
        "# Chart - 13 visualization code"
      ],
      "metadata": {
        "id": "EUfxeq9-p1cl"
      },
      "execution_count": null,
      "outputs": []
    },
    {
      "cell_type": "markdown",
      "source": [
        "##### 1. Why did you pick the specific chart?"
      ],
      "metadata": {
        "id": "E6MkPsBcp1cl"
      }
    },
    {
      "cell_type": "markdown",
      "source": [
        "Answer Here."
      ],
      "metadata": {
        "id": "V22bRsFWp1cl"
      }
    },
    {
      "cell_type": "markdown",
      "source": [
        "##### 2. What is/are the insight(s) found from the chart?"
      ],
      "metadata": {
        "id": "2cELzS2fp1cl"
      }
    },
    {
      "cell_type": "markdown",
      "source": [
        "Answer Here"
      ],
      "metadata": {
        "id": "ozQPc2_Ip1cl"
      }
    },
    {
      "cell_type": "markdown",
      "source": [
        "##### 3. Will the gained insights help creating a positive business impact? \n",
        "Are there any insights that lead to negative growth? Justify with specific reason."
      ],
      "metadata": {
        "id": "3MPXvC8up1cl"
      }
    },
    {
      "cell_type": "markdown",
      "source": [
        "Answer Here"
      ],
      "metadata": {
        "id": "GL8l1tdLp1cl"
      }
    },
    {
      "cell_type": "markdown",
      "source": [
        "#### Chart - 14 - Correlation Heatmap"
      ],
      "metadata": {
        "id": "NC_X3p0fY2L0"
      }
    },
    {
      "cell_type": "code",
      "source": [
        "# Correlation Heatmap visualization code"
      ],
      "metadata": {
        "id": "xyC9zolEZNRQ"
      },
      "execution_count": null,
      "outputs": []
    },
    {
      "cell_type": "markdown",
      "source": [
        "##### 1. Why did you pick the specific chart?"
      ],
      "metadata": {
        "id": "UV0SzAkaZNRQ"
      }
    },
    {
      "cell_type": "markdown",
      "source": [
        "Answer Here."
      ],
      "metadata": {
        "id": "DVPuT8LYZNRQ"
      }
    },
    {
      "cell_type": "markdown",
      "source": [
        "##### 2. What is/are the insight(s) found from the chart?"
      ],
      "metadata": {
        "id": "YPEH6qLeZNRQ"
      }
    },
    {
      "cell_type": "markdown",
      "source": [
        "Answer Here"
      ],
      "metadata": {
        "id": "bfSqtnDqZNRR"
      }
    },
    {
      "cell_type": "markdown",
      "source": [
        "#### Chart - 15 - Pair Plot "
      ],
      "metadata": {
        "id": "q29F0dvdveiT"
      }
    },
    {
      "cell_type": "code",
      "source": [
        "# Pair Plot visualization code"
      ],
      "metadata": {
        "id": "o58-TEIhveiU"
      },
      "execution_count": null,
      "outputs": []
    },
    {
      "cell_type": "markdown",
      "source": [
        "##### 1. Why did you pick the specific chart?"
      ],
      "metadata": {
        "id": "EXh0U9oCveiU"
      }
    },
    {
      "cell_type": "markdown",
      "source": [
        "Answer Here."
      ],
      "metadata": {
        "id": "eMmPjTByveiU"
      }
    },
    {
      "cell_type": "markdown",
      "source": [
        "##### 2. What is/are the insight(s) found from the chart?"
      ],
      "metadata": {
        "id": "22aHeOlLveiV"
      }
    },
    {
      "cell_type": "markdown",
      "source": [
        "Answer Here"
      ],
      "metadata": {
        "id": "uPQ8RGwHveiV"
      }
    },
    {
      "cell_type": "markdown",
      "source": [
        "## ***6. Feature Engineering & Data Pre-processing***"
      ],
      "metadata": {
        "id": "yLjJCtPM0KBk"
      }
    },
    {
      "cell_type": "code",
      "source": [
        "#no of observations for closed stores with 0 sales\n",
        "(df[df.Open == 0]).shape"
      ],
      "metadata": {
        "id": "dEOJqggCTSoL"
      },
      "execution_count": null,
      "outputs": []
    },
    {
      "cell_type": "code",
      "source": [
        "#since the stores closed had 0 sale value; removing the irrelevant part\n",
        "df_1 = df[df.Open != 0]\n",
        "df_1.drop('Open', axis=1, inplace=True)"
      ],
      "metadata": {
        "id": "gloOz61jTWnk"
      },
      "execution_count": null,
      "outputs": []
    },
    {
      "cell_type": "code",
      "source": [
        "df_1.head(1)"
      ],
      "metadata": {
        "id": "4oqYWHRCTaSo"
      },
      "execution_count": null,
      "outputs": []
    },
    {
      "cell_type": "markdown",
      "source": [
        "### **1. Data Transformation**"
      ],
      "metadata": {
        "id": "TNVZ9zx19K6k"
      }
    },
    {
      "cell_type": "code",
      "source": [
        "# Transform Your data\n",
        "sns.distplot(df_1[\"Sales\"])"
      ],
      "metadata": {
        "id": "-tPo-kPcTvCy"
      },
      "execution_count": null,
      "outputs": []
    },
    {
      "cell_type": "code",
      "source": [
        "## transformation\n",
        "df_1['Sales'] = np.log(df_1['Sales'])"
      ],
      "metadata": {
        "id": "GAhVW2ksTu5G"
      },
      "execution_count": null,
      "outputs": []
    },
    {
      "cell_type": "code",
      "source": [
        "df_1.dropna(inplace=True)"
      ],
      "metadata": {
        "id": "hdeiFYWjTuvf"
      },
      "execution_count": null,
      "outputs": []
    },
    {
      "cell_type": "code",
      "source": [
        "df_1.drop(df_1[df_1['Sales'] == float(\"-inf\")].index,inplace=True)"
      ],
      "metadata": {
        "id": "RL9rC7P8TujL"
      },
      "execution_count": null,
      "outputs": []
    },
    {
      "cell_type": "code",
      "source": [
        "# Rechecking distribution after transformation\n",
        "sns.distplot(df_1[\"Sales\"])"
      ],
      "metadata": {
        "id": "7fbWjmcSTuXf"
      },
      "execution_count": null,
      "outputs": []
    },
    {
      "cell_type": "markdown",
      "source": [
        "#### Do you think that your data needs to be transformed? If yes, which transformation have you used. Explain Why?"
      ],
      "metadata": {
        "id": "nqoHp30x9hH9"
      }
    },
    {
      "cell_type": "markdown",
      "source": [
        "### 2. Handling Outliers"
      ],
      "metadata": {
        "id": "id1riN9m0vUs"
      }
    },
    {
      "cell_type": "code",
      "source": [
        "df_1['Sales'].skew()"
      ],
      "metadata": {
        "id": "JCs7_kyzJJ_l"
      },
      "execution_count": null,
      "outputs": []
    },
    {
      "cell_type": "code",
      "source": [
        "# Handling Outliers & Outlier treatments\n",
        "print(\"Mean value of Sales\",df_1['Sales'].mean())\n",
        "print(\"Std value of Sales\",df_1['Sales'].std())\n",
        "print(\"Min value of Sales\",df_1['Sales'].min())\n",
        "print(\"Max value of Sales\",df_1['Sales'].max())"
      ],
      "metadata": {
        "id": "M6w2CzZf04JK"
      },
      "execution_count": null,
      "outputs": []
    },
    {
      "cell_type": "code",
      "source": [
        "# Finding the boundary values\n",
        "print(\"Highest allowed\",df_1['Sales'].mean() + 3*df_1['Sales'].std())\n",
        "print(\"Lowest allowed\",df_1['Sales'].mean() - 3*df_1['Sales'].std())"
      ],
      "metadata": {
        "id": "aNkueZfrJUsv"
      },
      "execution_count": null,
      "outputs": []
    },
    {
      "cell_type": "code",
      "source": [
        "# Finding the outliers\n",
        "df_1[(df_1['Sales'] > 10.03) | (df_1['Sales'] < 7.48)]"
      ],
      "metadata": {
        "id": "2c-ioBTVJass"
      },
      "execution_count": null,
      "outputs": []
    },
    {
      "cell_type": "code",
      "source": [
        "sns.distplot(x=df_1[\"Sales\"])"
      ],
      "metadata": {
        "id": "rB7PucA-J-F5"
      },
      "execution_count": null,
      "outputs": []
    },
    {
      "cell_type": "markdown",
      "source": [
        "##### What all outlier treatment techniques have you used and why did you use those techniques?"
      ],
      "metadata": {
        "id": "578E2V7j08f6"
      }
    },
    {
      "cell_type": "markdown",
      "source": [
        "Answer Here."
      ],
      "metadata": {
        "id": "uGZz5OrT1HH-"
      }
    },
    {
      "cell_type": "markdown",
      "source": [
        "### **3. Feature Manipulation & Selection**"
      ],
      "metadata": {
        "id": "-oLEiFgy-5Pf"
      }
    },
    {
      "cell_type": "markdown",
      "source": [
        "#### 1. Feature Manipulation"
      ],
      "metadata": {
        "id": "C74aWNz2AliB"
      }
    },
    {
      "cell_type": "code",
      "source": [
        "# Manipulate Features to minimize feature correlation and create new features\n",
        "\n",
        "#combining competition open since month and year into total months\n",
        "df_1['CompetitionOpen'] = (df_1['Year'] - df_1['CompetitionOpenSinceYear'])*12 + (df_1['Month'] - df_1['CompetitionOpenSinceMonth'])\n",
        "df_1['CompetitionOpen'] "
      ],
      "metadata": {
        "id": "h1qC4yhBApWC"
      },
      "execution_count": null,
      "outputs": []
    },
    {
      "cell_type": "code",
      "source": [
        "#correcting the neg values\n",
        "df_1['CompetitionOpen'] = df_1['CompetitionOpen'].apply(lambda x:0 if x < 0 else x)\n",
        "df_1['CompetitionOpen']"
      ],
      "metadata": {
        "id": "_OE_QJg1M6-Z"
      },
      "execution_count": null,
      "outputs": []
    },
    {
      "cell_type": "code",
      "source": [
        "#dropping both the columns\n",
        "df_1.drop(['CompetitionOpenSinceMonth','CompetitionOpenSinceYear'], axis=1,inplace=True)"
      ],
      "metadata": {
        "id": "C28fj15-NDJh"
      },
      "execution_count": null,
      "outputs": []
    },
    {
      "cell_type": "code",
      "source": [
        "df_1.info()"
      ],
      "metadata": {
        "id": "1Y_Hl0ZrNH2t"
      },
      "execution_count": null,
      "outputs": []
    },
    {
      "cell_type": "code",
      "source": [
        "#changing promo2 features into meaningful inputs\n",
        "#combining promo2 to total months\n",
        "df_1['Promo2Open'] = (df_1['Year'] - df_1['Promo2SinceYear'])*12 + (df_1['WeekOfYear'] - df_1['Promo2SinceWeek'])*0.230137 + (df_1['Promo2'])\n",
        "df_1['Promo2Open']"
      ],
      "metadata": {
        "id": "BbtRgf2YNOaC"
      },
      "execution_count": null,
      "outputs": []
    },
    {
      "cell_type": "code",
      "source": [
        "#correcting the neg values\n",
        "df_1['Promo2Open'] = df_1['Promo2Open'].apply(lambda x:0 if x < 0 else x)*df_1['Promo2']\n",
        "df_1['Promo2Open']"
      ],
      "metadata": {
        "id": "o2ciAfYqNSN-"
      },
      "execution_count": null,
      "outputs": []
    },
    {
      "cell_type": "code",
      "source": [
        "#dropping both the columns\n",
        "df_1.drop(['Promo2SinceYear','Promo2SinceWeek','Promo2'], axis=1,inplace=True)"
      ],
      "metadata": {
        "id": "dOGh6NCuNWFK"
      },
      "execution_count": null,
      "outputs": []
    },
    {
      "cell_type": "code",
      "source": [
        "#creating a feature for promo interval and checking if promo2 was running in the sale month\n",
        "month_dict = {1:'Jan', 2:'Feb', 3:'Mar', 4:'Apr', 5:'May', 6:'Jun', 7:'Jul', 8:'Aug', 9:'Sept', 10:'Oct', 11:'Nov', 12:'Dec'}\n",
        "df_1[\"PromoRunning\"] = df_1.apply(lambda row: 1 if month_dict[row['Month']] in row['PromoInterval'].split(',') else 0, axis=1)#*df_1['Promo2']\n",
        "df_1[\"PromoRunning\"]"
      ],
      "metadata": {
        "id": "R9oVuv5kNZ3M"
      },
      "execution_count": null,
      "outputs": []
    },
    {
      "cell_type": "code",
      "source": [
        "#Dropping unecessary columns\n",
        "df_1.drop(['PromoInterval'],axis=1,inplace=True)"
      ],
      "metadata": {
        "id": "CReUXnKDNdeP"
      },
      "execution_count": null,
      "outputs": []
    },
    {
      "cell_type": "code",
      "source": [
        "#setting date and store as index\n",
        "df_1.set_index(['Date','Store'],inplace=True)\n",
        "#sorting index following the time series\n",
        "df_1.sort_index(inplace=True)"
      ],
      "metadata": {
        "id": "tsi0LmL1Niur"
      },
      "execution_count": null,
      "outputs": []
    },
    {
      "cell_type": "markdown",
      "source": [
        "The index of the dataframe 'df_1' is set to a combination of the 'Date' and 'Store' columns, and the index is then sorted in accordance with the time series."
      ],
      "metadata": {
        "id": "04EbdLKANnAv"
      }
    },
    {
      "cell_type": "markdown",
      "source": [
        "#### 2. Feature Selection"
      ],
      "metadata": {
        "id": "2DejudWSA-a0"
      }
    },
    {
      "cell_type": "code",
      "source": [
        "# Select your features wisely to avoid overfitting"
      ],
      "metadata": {
        "id": "YLhe8UmaBCEE"
      },
      "execution_count": null,
      "outputs": []
    },
    {
      "cell_type": "markdown",
      "source": [
        "##### What all feature selection methods have you used  and why?"
      ],
      "metadata": {
        "id": "pEMng2IbBLp7"
      }
    },
    {
      "cell_type": "markdown",
      "source": [
        "Answer Here."
      ],
      "metadata": {
        "id": "rb2Lh6Z8BgGs"
      }
    },
    {
      "cell_type": "markdown",
      "source": [
        "##### Which all features you found important and why?"
      ],
      "metadata": {
        "id": "rAdphbQ9Bhjc"
      }
    },
    {
      "cell_type": "markdown",
      "source": [
        "Answer Here."
      ],
      "metadata": {
        "id": "fGgaEstsBnaf"
      }
    },
    {
      "cell_type": "markdown",
      "source": [
        "### **4. Categorical Encoding**"
      ],
      "metadata": {
        "id": "89xtkJwZ18nB"
      }
    },
    {
      "cell_type": "code",
      "source": [
        "#importing\n",
        "from sklearn.preprocessing import OneHotEncoder"
      ],
      "metadata": {
        "id": "9Vlzz-gxKNkY"
      },
      "execution_count": null,
      "outputs": []
    },
    {
      "cell_type": "code",
      "source": [
        "#categorical features\n",
        "categorical_cols_to_encode = ['DayOfWeek', 'StoreType', 'Assortment']"
      ],
      "metadata": {
        "id": "7s-uEQuUKSiw"
      },
      "execution_count": null,
      "outputs": []
    },
    {
      "cell_type": "code",
      "source": [
        "encoder = OneHotEncoder(sparse=False, handle_unknown='ignore').fit(Rossmann[categorical_cols_to_encode])\n",
        "encoded_cols = list(encoder.get_feature_names(categorical_cols_to_encode))\n",
        "Rossmann[encoded_cols] = encoder.transform(Rossmann[categorical_cols_to_encode])"
      ],
      "metadata": {
        "id": "s_qxfzjlKWJF"
      },
      "execution_count": null,
      "outputs": []
    },
    {
      "cell_type": "code",
      "source": [
        "encoded_cols"
      ],
      "metadata": {
        "id": "fyKYvi7KKaKB"
      },
      "execution_count": null,
      "outputs": []
    },
    {
      "cell_type": "code",
      "source": [
        "Rossmann.drop(['DayOfWeek','StoreType','Assortment'],axis=1,inplace=True)"
      ],
      "metadata": {
        "id": "xJPilAMpKe8O"
      },
      "execution_count": null,
      "outputs": []
    },
    {
      "cell_type": "markdown",
      "source": [
        "#### What all categorical encoding techniques have you used & why did you use those techniques?"
      ],
      "metadata": {
        "id": "67NQN5KX2AMe"
      }
    },
    {
      "cell_type": "markdown",
      "source": [
        "Answer Here."
      ],
      "metadata": {
        "id": "UDaue5h32n_G"
      }
    },
    {
      "cell_type": "markdown",
      "source": [
        "### **5. Data Splitting**"
      ],
      "metadata": {
        "id": "BhH2vgX9EjGr"
      }
    },
    {
      "cell_type": "code",
      "source": [
        "# Split your data to train and test. Choose Splitting ratio wisely.\n",
        "#slicing the most recent six weeks and creating train and test set\n",
        "#train\n",
        "start_train = pd.to_datetime(\"2013-01-01\")\n",
        "end_train = pd.to_datetime(\"2015-06-14\")\n",
        "ross_df_train = Rossmann.loc[start_train:end_train]\n",
        "#test\n",
        "start_test = pd.to_datetime(\"2015-06-15\")\n",
        "end_test = pd.to_datetime(\"2015-07-31\")\n",
        "ross_df_test = Rossmann.loc[start_test:end_test]"
      ],
      "metadata": {
        "id": "hffgqjTdWRuv"
      },
      "execution_count": null,
      "outputs": []
    },
    {
      "cell_type": "markdown",
      "source": [
        "Splitting the dataframe into two parts, a training set and a test set. The training set consists of data from the start of the year 2013 up to 14th of June 2015, while the test set consists of data from 15th of June 2015 to the end of July 2015."
      ],
      "metadata": {
        "id": "zTLuuhSAWSx2"
      }
    },
    {
      "cell_type": "code",
      "source": [
        "# X and y split for train \n",
        "X_train = ross_df_train.drop('Sales',axis=1)\n",
        "y_train = ross_df_train[['Sales']]\n",
        "\n",
        "print(f'The shape of X_train is: {X_train.shape}')\n",
        "print(f'The shape of y_train is: {y_train.shape}')"
      ],
      "metadata": {
        "id": "sSlvxVO4WbKV"
      },
      "execution_count": null,
      "outputs": []
    },
    {
      "cell_type": "code",
      "source": [
        "# X and y split for test\n",
        "X_test = ross_df_test.drop('Sales',axis=1)\n",
        "y_test = ross_df_test[['Sales']]\n",
        "\n",
        "print(f'The shape of X_test is: {X_test.shape}')\n",
        "print(f'The shape of y_test is: {y_test.shape}')"
      ],
      "metadata": {
        "id": "m7gaFy8fWc40"
      },
      "execution_count": null,
      "outputs": []
    },
    {
      "cell_type": "markdown",
      "source": [
        "### **6. Data Scaling**"
      ],
      "metadata": {
        "id": "rMDnDkt2B6du"
      }
    },
    {
      "cell_type": "code",
      "source": [
        "# Scaling your data\n",
        "\n",
        "# scaling\n",
        "from sklearn.preprocessing import StandardScaler\n",
        "stdsc = StandardScaler()\n",
        "X_train[list(X_train.columns)] = stdsc.fit_transform(X_train[list(X_train.columns)])\n",
        "X_test[list(X_test.columns)] = stdsc.transform(X_test[list(X_test.columns)])\n",
        "\n",
        "scaler = StandardScaler()\n",
        "y_train[list(y_train.columns)] = scaler.fit_transform(y_train[list(y_train.columns)])\n",
        "y_test[list(y_test.columns)] = scaler.transform(y_test[list(y_train.columns)])"
      ],
      "metadata": {
        "id": "dL9LWpySC6x_"
      },
      "execution_count": null,
      "outputs": []
    },
    {
      "cell_type": "markdown",
      "source": [
        "Scaling in machine learning is used to standardize the range of independent variables or features of a dataset. This is often necessary because the scale of one feature may be vastly different from the scale of another feature. Scaling helps to ensure that no single feature has a disproportionate impact on the model during training and can improve the performance of certain algorithms\n"
      ],
      "metadata": {
        "id": "yiiVWRdJDDil"
      }
    },
    {
      "cell_type": "markdown",
      "source": [
        "## ***7. ML Model Implementation***"
      ],
      "metadata": {
        "id": "VfCC591jGiD4"
      }
    },
    {
      "cell_type": "markdown",
      "source": [
        "**Mean of Sales**"
      ],
      "metadata": {
        "id": "OiCFmyhfPyVV"
      }
    },
    {
      "cell_type": "code",
      "source": [
        "sales_mean=Rossmann.Sales.mean()"
      ],
      "metadata": {
        "id": "E8-6ti-yLR44"
      },
      "execution_count": null,
      "outputs": []
    },
    {
      "cell_type": "markdown",
      "source": [
        "### **ML Model - 1**"
      ],
      "metadata": {
        "id": "OB4l2ZhMeS1U"
      }
    },
    {
      "cell_type": "markdown",
      "source": [
        "##**LinearRegression**"
      ],
      "metadata": {
        "id": "6bfC7Bk9RQ9n"
      }
    },
    {
      "cell_type": "markdown",
      "source": [
        "Linear regression is a statistical method that is used to model the relationship between a dependent variable (also known as the outcome variable) and one or more independent variables (also known as the predictor variables). The goal of linear regression is to find the best linear relationship (i.e. a straight line) that minimizes the difference between the predicted values and the actual values."
      ],
      "metadata": {
        "id": "4PrUJ81LP71u"
      }
    },
    {
      "cell_type": "code",
      "source": [
        "from sklearn import linear_model\n",
        "#fitting decision tree\n",
        "model = linear_model.LinearRegression()\n",
        "model.fit(X_train,y_train)"
      ],
      "metadata": {
        "id": "jqocTrxKlidf"
      },
      "execution_count": null,
      "outputs": []
    },
    {
      "cell_type": "code",
      "source": [
        "#making predictions\n",
        "y_pred_train = model.predict(X_train)\n",
        "y_pred_test = model.predict(X_test)"
      ],
      "metadata": {
        "id": "LNUwvuVJBAOV"
      },
      "execution_count": null,
      "outputs": []
    },
    {
      "cell_type": "code",
      "source": [
        "#Mean Squared Error or MSE\n",
        "MSE_train = round(mean_squared_error(y_train,y_pred_train),26)\n",
        "MSE_test = round(mean_squared_error(y_test,y_pred_test),26)"
      ],
      "metadata": {
        "id": "TeKfwnMYBBHs"
      },
      "execution_count": null,
      "outputs": []
    },
    {
      "cell_type": "code",
      "source": [
        "print(\"Weights: \", model.coef_)\n",
        "print(\"Intercept: \", model.intercept_)"
      ],
      "metadata": {
        "id": "2cXXyN58B_2n"
      },
      "execution_count": null,
      "outputs": []
    },
    {
      "cell_type": "code",
      "source": [
        "MAE_train = mean_absolute_error(y_train,y_pred_train)\n",
        "print(\"MAE Train :\" ,MAE_train)\n",
        "\n",
        "MAE_test = mean_absolute_error(y_test,y_pred_test)\n",
        "print(\"MAE Test:\" ,MAE_test)\n",
        "\n",
        "MSE_train  = mean_squared_error(y_train,y_pred_train)\n",
        "print(\"MSE Train :\" , MSE_train)\n",
        "\n",
        "MSE_test  = mean_squared_error(y_test,y_pred_test)\n",
        "print(\"MSE Test:\" , MSE_test)\n",
        "\n",
        "RMSE_train = np.sqrt(MSE_train)\n",
        "print(\"RMSE Train:\" ,RMSE_train)\n",
        "\n",
        "RMSE_test = np.sqrt(MSE_test)\n",
        "print(\"RMSE Test:\" ,RMSE_test)\n",
        "\n",
        "RMSPE_train=RMSE_train/sales_mean\n",
        "print(\"RMSPE Train:\",RMSPE_train)\n",
        "\n",
        "RMSPE_test=RMSE_test/sales_mean\n",
        "print(\"RMSPE Test:\",RMSPE_test)\n",
        "\n",
        "R2_train= r2_score(y_train,y_pred_train)\n",
        "print(\"R2 Train:\" ,R2_train)\n",
        "\n",
        "R2_test= r2_score(y_test,y_pred_test)\n",
        "print(\"R2 Test:\" ,R2_test)\n",
        "\n",
        "ADJUSTED_R2_train=1-((1-R2_train)*(168879-1)/(168879-1-26))\n",
        "print(\"Adjusted R2 Train :\" ,ADJUSTED_R2_train)\n",
        "\n",
        "ADJUSTED_R2_test=1-((1-R2_test)*(168879-1)/(168879-1-26))\n",
        "print(\"Adjusted R2 Test:\" ,ADJUSTED_R2_test)"
      ],
      "metadata": {
        "id": "t4uQLEQICAx-"
      },
      "execution_count": null,
      "outputs": []
    },
    {
      "cell_type": "markdown",
      "source": [
        "The Root Mean Squared Error (RMSE) is the square root of the MSE. It is a measure of the average deviation of the predicted values from the actual values. In your case, the RMSE for the training set is 0.49 and for the test set is 0.48.\n",
        "\n",
        "The Root Mean Squared Percentage Error (RMSPE) is the square root of the mean squared percentage error. It is a measure of the average deviation of the predicted values from the actual values in percentage.the RMSPE for the training set is 0.056 and for the test set is 0.056.\n",
        "\n",
        "The R-squared (R2) value is a measure of how well the linear regression model fits the data. It ranges from 0 to 1, with a higher value indicating a better fit. In your case, the R2 value for the training set is 0.75 and for the test set is 0.74.\n",
        "\n",
        "Overall, the model seems to perform well, with the R2 value being close for the training and test sets, and the other metrics having similar values for the training and test sets. This suggests that the model is generalizing well and is not overfitting the training data."
      ],
      "metadata": {
        "id": "KN1uZb4wQLGQ"
      }
    },
    {
      "cell_type": "markdown",
      "source": [
        "### **ML Model - 2**"
      ],
      "metadata": {
        "id": "dJ2tPlVmpsJ0"
      }
    },
    {
      "cell_type": "markdown",
      "source": [
        "##**Decision Tree**"
      ],
      "metadata": {
        "id": "bdI7Bw_6Ek5a"
      }
    },
    {
      "cell_type": "markdown",
      "source": [
        "Decision tree regression is a type of supervised machine learning algorithm that is used to predict continuous values (i.e. real numbers) based on a set of input features. It works by building a tree-like model of decisions and their possible consequences, where each internal node represents a feature, each branch represents a decision based on that feature, and each leaf node represents a predicted value. The algorithm starts at the root of the tree and recursively splits the data based on the values of the input features, until it reaches a leaf node. The predicted value for a given input is then the value associated with the leaf node that the input reaches."
      ],
      "metadata": {
        "id": "K756BisXQfMH"
      }
    },
    {
      "cell_type": "code",
      "source": [
        "#Importing libraries \n",
        "from sklearn.tree import DecisionTreeRegressor\n",
        "#metrics import\n",
        "from sklearn.metrics import mean_absolute_error\n",
        "from sklearn.metrics import mean_squared_error\n",
        "from sklearn.metrics import r2_score"
      ],
      "metadata": {
        "id": "Muw-Wds_EQjD"
      },
      "execution_count": null,
      "outputs": []
    },
    {
      "cell_type": "code",
      "source": [
        "#fitting decision tree\n",
        "dt = DecisionTreeRegressor(random_state=42)\n",
        "dt.fit(X_train,y_train)"
      ],
      "metadata": {
        "id": "K-HCvYeoEphV"
      },
      "execution_count": null,
      "outputs": []
    },
    {
      "cell_type": "code",
      "source": [
        "#making predictions\n",
        "y_pred_train = dt.predict(X_train)\n",
        "y_pred_test = dt.predict(X_test)"
      ],
      "metadata": {
        "id": "7QPLmxtmEqL-"
      },
      "execution_count": null,
      "outputs": []
    },
    {
      "cell_type": "code",
      "source": [
        "MAE_train = mean_absolute_error(y_train,y_pred_train)\n",
        "print(\"MAE Train :\" ,MAE_train)\n",
        "\n",
        "MAE_test = mean_absolute_error(y_test,y_pred_test)\n",
        "print(\"MAE Test:\" ,MAE_test)\n",
        "\n",
        "MSE_train  = mean_squared_error(y_train,y_pred_train)\n",
        "print(\"MSE Train :\" , MSE_train)\n",
        "\n",
        "MSE_test  = mean_squared_error(y_test,y_pred_test)\n",
        "print(\"MSE Test:\" , MSE_test)\n",
        "\n",
        "RMSE_train = np.sqrt(MSE_train)\n",
        "print(\"RMSE Train:\" ,RMSE_train)\n",
        "\n",
        "RMSE_test = np.sqrt(MSE_test)\n",
        "print(\"RMSE Test:\" ,RMSE_test)\n",
        "\n",
        "RMSPE_train=RMSE_train/sales_mean\n",
        "print(\"RMSPE Train:\",RMSPE_train)\n",
        "\n",
        "RMSPE_test=RMSE_test/sales_mean\n",
        "print(\"RMSPE Test:\",RMSPE_test)\n",
        "\n",
        "R2_train= r2_score(y_train,y_pred_train)\n",
        "print(\"R2 Train:\" ,R2_train)\n",
        "\n",
        "R2_test= r2_score(y_test,y_pred_test)\n",
        "print(\"R2 Test:\" ,R2_test)\n",
        "\n",
        "ADJUSTED_R2_train=1-((1-R2_train)*(168879-1)/(168879-1-26))\n",
        "print(\"Adjusted R2 Train :\" ,ADJUSTED_R2_train)\n",
        "\n",
        "ADJUSTED_R2_test=1-((1-R2_test)*(168879-1)/(168879-1-26))\n",
        "print(\"Adjusted R2 Test:\" ,ADJUSTED_R2_test)"
      ],
      "metadata": {
        "id": "44dbttglEqtu"
      },
      "execution_count": null,
      "outputs": []
    },
    {
      "cell_type": "code",
      "source": [
        "# Plot the test results\n",
        "a = y_test.copy()\n",
        "a['Pred Sales'] = y_pred_test.tolist()\n",
        "df_plot = a.reset_index(level=['Date'])\n",
        "plot = df_plot.groupby('Date')['Sales','Pred Sales'].sum()\n",
        "sns.lineplot(data = plot)\n",
        "plt.ylabel(\"Total Sales and Predicted Sales\")\n",
        "plt.xticks(rotation = 25)"
      ],
      "metadata": {
        "id": "Y_UP77pZErhK"
      },
      "execution_count": null,
      "outputs": []
    },
    {
      "cell_type": "markdown",
      "source": [
        "The Root Mean Squared Error (RMSE) is the square root of the MSE. It is a measure of the average deviation of the predicted values from the actual values. In your case, the RMSE for the training set is 0.0011 and for the test set is 0.2743\n",
        "\n",
        "The Root Mean Squared Percentage Error (RMSPE) is the square root of the mean squared percentage error. It is a measure of the average deviation of the predicted values from the actual values in percentage. the RMSPE for the training set is 0.0001 and for the test set is 0.0313.\n",
        "\n",
        "The R-squared (R2) value is a measure of how well the decision tree model fits the data. It ranges from 0 to 1, with a higher value indicating a better fit. the R2 value for the training set is 0.9999 and for the test set is 0.9203\n",
        "\n",
        "Overall, it seems that the decision tree model is Accurate"
      ],
      "metadata": {
        "id": "e6GvbXZbQxWr"
      }
    },
    {
      "cell_type": "markdown",
      "source": [
        "##**RandomForestRegressor**"
      ],
      "metadata": {
        "id": "TWrGRZ57Cxd6"
      }
    },
    {
      "cell_type": "markdown",
      "source": [
        "A random forest regressor is an ensemble learning method for regression that combines multiple decision trees to improve the overall performance and stability of the predictions. Each decision tree is grown using a random subset of the data and a random subset of the features. This helps to reduce overfitting and increase the diversity of the models. When making predictions, the random forest takes the average or mode of the predictions made by all the decision trees in the forest. This averaging or voting process helps to smooth out the predictions and reduce the variance. Random forests are known for their ability to handle high dimensional and complex data, and can also be used for feature selection."
      ],
      "metadata": {
        "id": "LjrbGBWSRHf0"
      }
    },
    {
      "cell_type": "code",
      "source": [
        "from sklearn.ensemble import RandomForestRegressor"
      ],
      "metadata": {
        "id": "pQVS7oo5CvsK"
      },
      "execution_count": null,
      "outputs": []
    },
    {
      "cell_type": "code",
      "source": [
        "print(X_train.shape)\n",
        "print(X_test.shape)"
      ],
      "metadata": {
        "id": "tDWp4QqzC0PV"
      },
      "execution_count": null,
      "outputs": []
    },
    {
      "cell_type": "code",
      "source": [
        "rf = RandomForestRegressor()"
      ],
      "metadata": {
        "id": "i-Agm4h7C2Is"
      },
      "execution_count": null,
      "outputs": []
    },
    {
      "cell_type": "code",
      "source": [
        "rf.fit(X_train,y_train)\n",
        "Y_Train_pred_rf = rf.predict(X_train)\n",
        "Y_Test_pred_rf=rf.predict(X_test)"
      ],
      "metadata": {
        "id": "PcxeW6iXC25o"
      },
      "execution_count": null,
      "outputs": []
    },
    {
      "cell_type": "code",
      "source": [
        "MAE_train = mean_absolute_error(y_train,y_pred_train)\n",
        "print(\"MAE Train :\" ,MAE_train)\n",
        "\n",
        "MAE_test = mean_absolute_error(y_test,y_pred_test)\n",
        "print(\"MAE Test:\" ,MAE_test)\n",
        "\n",
        "MSE_train  = mean_squared_error(y_train,y_pred_train)\n",
        "print(\"MSE Train :\" , MSE_train)\n",
        "\n",
        "MSE_test  = mean_squared_error(y_test,y_pred_test)\n",
        "print(\"MSE Test:\" , MSE_test)\n",
        "\n",
        "RMSE_train = np.sqrt(MSE_train)\n",
        "print(\"RMSE Train:\" ,RMSE_train)\n",
        "\n",
        "RMSE_test = np.sqrt(MSE_test)\n",
        "print(\"RMSE Test:\" ,RMSE_test)\n",
        "\n",
        "RMSPE_train=RMSE_train/sales_mean\n",
        "print(\"RMSPE Train:\",RMSPE_train)\n",
        "\n",
        "RMSPE_test=RMSE_test/sales_mean\n",
        "print(\"RMSPE Test:\",RMSPE_test)\n",
        "\n",
        "R2_train= r2_score(y_train,y_pred_train)\n",
        "print(\"R2 Train:\" ,R2_train)\n",
        "\n",
        "R2_test= r2_score(y_test,y_pred_test)\n",
        "print(\"R2 Test:\" ,R2_test)\n",
        "\n",
        "ADJUSTED_R2_train=1-((1-R2_train)*(168879-1)/(168879-1-26))\n",
        "print(\"Adjusted R2 Train :\" ,ADJUSTED_R2_train)\n",
        "\n",
        "ADJUSTED_R2_test=1-((1-R2_test)*(168879-1)/(168879-1-26))\n",
        "print(\"Adjusted R2 Test:\" ,ADJUSTED_R2_test)"
      ],
      "metadata": {
        "id": "FMRjL5zyC3xn"
      },
      "execution_count": null,
      "outputs": []
    },
    {
      "cell_type": "code",
      "source": [
        "import pandas as pd\n",
        "\n",
        "# list of dictionaries representing evaluation metrics for different models\n",
        "models_eval = [{'Model': 'LinearRegression', 'MAE Train': 0.37, 'MAE Test': 0.37, 'MSE Train': 0.24,'MSE Test': 0.23,'RMSE Train': 0.49,'RMSE Test': 0.48,'RMSPE Train':0.056,'RMSPE Test': 0.055,'R2 Train': 0.75,'R2 Test':0.74,'Adjusted R2 Train': 0.75,'Adjusted R2 Test':0.74},\n",
        "               {'Model': 'DecisionTreeRegressor', 'MAE Train': 4.68, 'MAE Test': 0.19, 'MSE Train': 1.35,'MSE Test': 0.07,'RMSE Train': 0.00,'RMSE Test': 0.27,'RMSPE Train':0.00,'RMSPE Test': 0.03,'R2 Train': 0.99,'R2 Test':0.92,'Adjusted R2 Train': 0.99,'Adjusted R2 Test':0.92},\n",
        "               {'Model': 'RandomForestRegressor', 'MAE Train': 0.04, 'MAE Test': 0.14, 'MSE Train': 0.00,'MSE Test': 0.03,'RMSE Train': 0.06,'RMSE Test': 0.19,'RMSPE Train':0.00,'RMSPE Test': 0.02,'R2 Train': 0.99,'R2 Test':0.96,'Adjusted R2 Train': 0.99,'Adjusted R2 Test':0.96}]\n",
        "\n",
        "# function to create comparison table\n",
        "def create_comparison_table(models_eval):\n",
        "    comparison_table = pd.DataFrame(models_eval)\n",
        "    return comparison_table\n",
        "\n",
        "# create comparison table\n",
        "comparison_table = create_comparison_table(models_eval)\n",
        "print(comparison_table)\n"
      ],
      "metadata": {
        "id": "IccqI4cch07B"
      },
      "execution_count": null,
      "outputs": []
    },
    {
      "cell_type": "code",
      "source": [
        "MAE Train : 0.04422938716116732\n",
        "MAE Test: 0.14438614396933927\n",
        "MSE Train : 0.0036760773299998294\n",
        "MSE Test: 0.03688610036125568\n",
        "RMSE Train: 0.06063066328187272\n",
        "RMSE Test: 0.19205754440077505\n",
        "RMSPE Train: 0.006922663737704376\n",
        "RMPSE Test: 0.02192866985463609\n",
        "R2 Train: 0.9963239226700001\n",
        "R2 Test: 0.9609722344392136\n",
        "Adjusted R2 Train : 0.9963233566239327\n",
        "Adjusted R2 Test: 0.9609662249048014"
      ],
      "metadata": {
        "id": "tIBtuzAhvdjZ"
      },
      "execution_count": null,
      "outputs": []
    },
    {
      "cell_type": "markdown",
      "source": [
        "## ***8.*** ***Future Work (Optional)***"
      ],
      "metadata": {
        "id": "EyNgTHvd2WFk"
      }
    },
    {
      "cell_type": "markdown",
      "source": [
        "### 1. Save the best performing ml model in a pickle file or joblib file format for deployment process.\n"
      ],
      "metadata": {
        "id": "KH5McJBi2d8v"
      }
    },
    {
      "cell_type": "code",
      "source": [
        "# Save the File"
      ],
      "metadata": {
        "id": "bQIANRl32f4J"
      },
      "execution_count": null,
      "outputs": []
    },
    {
      "cell_type": "markdown",
      "source": [
        "### 2. Again Load the saved model file and try to predict unseen data for a sanity check.\n"
      ],
      "metadata": {
        "id": "iW_Lq9qf2h6X"
      }
    },
    {
      "cell_type": "code",
      "source": [
        "# Load the File and predict unseen data."
      ],
      "metadata": {
        "id": "oEXk9ydD2nVC"
      },
      "execution_count": null,
      "outputs": []
    },
    {
      "cell_type": "markdown",
      "source": [
        "### ***Congrats! Your model is successfully created and ready for deployment on a live server for a real user interaction !!!***"
      ],
      "metadata": {
        "id": "-Kee-DAl2viO"
      }
    },
    {
      "cell_type": "markdown",
      "source": [
        "# **Conclusion**"
      ],
      "metadata": {
        "id": "gCX9965dhzqZ"
      }
    },
    {
      "cell_type": "markdown",
      "source": [
        "Write the conclusion here."
      ],
      "metadata": {
        "id": "Fjb1IsQkh3yE"
      }
    },
    {
      "cell_type": "markdown",
      "source": [
        "### ***Hurrah! You have successfully completed your Machine Learning Capstone Project !!!***"
      ],
      "metadata": {
        "id": "gIfDvo9L0UH2"
      }
    }
  ]
}